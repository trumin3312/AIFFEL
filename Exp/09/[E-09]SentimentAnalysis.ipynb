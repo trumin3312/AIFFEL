{
  "cells": [
    {
      "cell_type": "markdown",
      "metadata": {
        "id": "rkugSNehAakg"
      },
      "source": [
        "# 영화리뷰 텍스트 감성분석하기"
      ]
    },
    {
      "cell_type": "markdown",
      "metadata": {
        "id": "fz9Jf_NRBvQV"
      },
      "source": [
        "## 0) Install & Import"
      ]
    },
    {
      "cell_type": "code",
      "execution_count": null,
      "metadata": {
        "id": "7T2b4yur9Nlb"
      },
      "outputs": [],
      "source": [
        "%%bash\n",
        "apt-get update\n",
        "apt-get install g++ openjdk-8-jdk python-dev python3-dev\n",
        "\n",
        "pip3 install JPype1\n",
        "pip3 install konlpy\n",
        "!pip3 install konlpy"
      ]
    },
    {
      "cell_type": "code",
      "execution_count": null,
      "metadata": {
        "colab": {
          "base_uri": "https://localhost:8080/"
        },
        "id": "kdZBMLQcBtHZ",
        "outputId": "89dde1f7-5d7b-4038-94d2-e845170ae053"
      },
      "outputs": [
        {
          "name": "stdout",
          "output_type": "stream",
          "text": [
            "env: JAVA_HOME=\"/usr/lib/jvm/java-8-openjdk-amd64\"\n"
          ]
        }
      ],
      "source": [
        "%env JAVA_HOME \"/usr/lib/jvm/java-8-openjdk-amd64\""
      ]
    },
    {
      "cell_type": "code",
      "execution_count": null,
      "metadata": {
        "id": "pg_L67TYBsBD"
      },
      "outputs": [],
      "source": [
        "%%bash\n",
        "bash <(curl -s https://raw.githubusercontent.com/konlpy/konlpy/master/scripts/mecab.sh)\n",
        "pip3 install /tmp/mecab-python-0.996"
      ]
    },
    {
      "cell_type": "code",
      "execution_count": 72,
      "metadata": {
        "colab": {
          "base_uri": "https://localhost:8080/"
        },
        "id": "kK3yU0Gp8Sx7",
        "outputId": "ccf769c0-2370-447e-8dc6-80617852073d"
      },
      "outputs": [
        {
          "output_type": "stream",
          "name": "stdout",
          "text": [
            "0.6.0\n",
            "3.6.0\n"
          ]
        }
      ],
      "source": [
        "import pandas as pd\n",
        "import numpy as np\n",
        "import matplotlib.pyplot as plt\n",
        "import tensorflow as tf\n",
        "\n",
        "import konlpy\n",
        "import gensim\n",
        "from konlpy.tag import Mecab\n",
        "from collections import Counter\n",
        "\n",
        "print(konlpy.__version__)\n",
        "print(gensim.__version__)"
      ]
    },
    {
      "cell_type": "code",
      "execution_count": 73,
      "metadata": {
        "id": "6Y8k3rsFCGB8"
      },
      "outputs": [],
      "source": [
        "# 문장 1개를 활용할 딕셔너리와 함께 주면, 단어 인덱스 리스트 벡터로 변환해 주는 함수입니다. \n",
        "# 단, 모든 문장은 <BOS>로 시작하는 것으로 합니다. \n",
        "def get_encoded_sentence(sentence, word_to_index):\n",
        "    return [word_to_index['<BOS>']]+[word_to_index[word] if word in word_to_index else word_to_index['<UNK>'] for word in sentence.split()]\n",
        "\n",
        "# 여러 개의 문장 리스트를 한꺼번에 단어 인덱스 리스트 벡터로 encode해 주는 함수입니다. \n",
        "def get_encoded_sentences(sentences, word_to_index):\n",
        "    return [get_encoded_sentence(sentence, word_to_index) for sentence in sentences]\n",
        "\n",
        "# 숫자 벡터로 encode된 문장을 원래대로 decode하는 함수입니다. \n",
        "def get_decoded_sentence(encoded_sentence, index_to_word):\n",
        "    return ' '.join(index_to_word[index] if index in index_to_word else '<UNK>' for index in encoded_sentence[1:])  #[1:]를 통해 <BOS>를 제외\n",
        "\n",
        "# 여러 개의 숫자 벡터로 encode된 문장을 한꺼번에 원래대로 decode하는 함수입니다. \n",
        "def get_decoded_sentences(encoded_sentences, index_to_word):\n",
        "    return [get_decoded_sentence(encoded_sentence, index_to_word) for encoded_sentence in encoded_sentences]"
      ]
    },
    {
      "cell_type": "markdown",
      "metadata": {
        "id": "tM2j7aU1-Qsg"
      },
      "source": [
        "## 1) 데이터 준비와 확인"
      ]
    },
    {
      "cell_type": "code",
      "execution_count": 74,
      "metadata": {
        "colab": {
          "base_uri": "https://localhost:8080/",
          "height": 206
        },
        "id": "dMBhUmkw9bWl",
        "outputId": "d2ccc6d9-e04b-4222-cd0c-252b5b8bbd53"
      },
      "outputs": [
        {
          "output_type": "execute_result",
          "data": {
            "text/plain": [
              "         id                                           document  label\n",
              "0   9976970                                아 더빙.. 진짜 짜증나네요 목소리      0\n",
              "1   3819312                  흠...포스터보고 초딩영화줄....오버연기조차 가볍지 않구나      1\n",
              "2  10265843                                  너무재밓었다그래서보는것을추천한다      0\n",
              "3   9045019                      교도소 이야기구먼 ..솔직히 재미는 없다..평점 조정      0\n",
              "4   6483659  사이몬페그의 익살스런 연기가 돋보였던 영화!스파이더맨에서 늙어보이기만 했던 커스틴 ...      1"
            ],
            "text/html": [
              "\n",
              "  <div id=\"df-411284ee-52ef-46ff-98b2-524ca3d64ddb\">\n",
              "    <div class=\"colab-df-container\">\n",
              "      <div>\n",
              "<style scoped>\n",
              "    .dataframe tbody tr th:only-of-type {\n",
              "        vertical-align: middle;\n",
              "    }\n",
              "\n",
              "    .dataframe tbody tr th {\n",
              "        vertical-align: top;\n",
              "    }\n",
              "\n",
              "    .dataframe thead th {\n",
              "        text-align: right;\n",
              "    }\n",
              "</style>\n",
              "<table border=\"1\" class=\"dataframe\">\n",
              "  <thead>\n",
              "    <tr style=\"text-align: right;\">\n",
              "      <th></th>\n",
              "      <th>id</th>\n",
              "      <th>document</th>\n",
              "      <th>label</th>\n",
              "    </tr>\n",
              "  </thead>\n",
              "  <tbody>\n",
              "    <tr>\n",
              "      <th>0</th>\n",
              "      <td>9976970</td>\n",
              "      <td>아 더빙.. 진짜 짜증나네요 목소리</td>\n",
              "      <td>0</td>\n",
              "    </tr>\n",
              "    <tr>\n",
              "      <th>1</th>\n",
              "      <td>3819312</td>\n",
              "      <td>흠...포스터보고 초딩영화줄....오버연기조차 가볍지 않구나</td>\n",
              "      <td>1</td>\n",
              "    </tr>\n",
              "    <tr>\n",
              "      <th>2</th>\n",
              "      <td>10265843</td>\n",
              "      <td>너무재밓었다그래서보는것을추천한다</td>\n",
              "      <td>0</td>\n",
              "    </tr>\n",
              "    <tr>\n",
              "      <th>3</th>\n",
              "      <td>9045019</td>\n",
              "      <td>교도소 이야기구먼 ..솔직히 재미는 없다..평점 조정</td>\n",
              "      <td>0</td>\n",
              "    </tr>\n",
              "    <tr>\n",
              "      <th>4</th>\n",
              "      <td>6483659</td>\n",
              "      <td>사이몬페그의 익살스런 연기가 돋보였던 영화!스파이더맨에서 늙어보이기만 했던 커스틴 ...</td>\n",
              "      <td>1</td>\n",
              "    </tr>\n",
              "  </tbody>\n",
              "</table>\n",
              "</div>\n",
              "      <button class=\"colab-df-convert\" onclick=\"convertToInteractive('df-411284ee-52ef-46ff-98b2-524ca3d64ddb')\"\n",
              "              title=\"Convert this dataframe to an interactive table.\"\n",
              "              style=\"display:none;\">\n",
              "        \n",
              "  <svg xmlns=\"http://www.w3.org/2000/svg\" height=\"24px\"viewBox=\"0 0 24 24\"\n",
              "       width=\"24px\">\n",
              "    <path d=\"M0 0h24v24H0V0z\" fill=\"none\"/>\n",
              "    <path d=\"M18.56 5.44l.94 2.06.94-2.06 2.06-.94-2.06-.94-.94-2.06-.94 2.06-2.06.94zm-11 1L8.5 8.5l.94-2.06 2.06-.94-2.06-.94L8.5 2.5l-.94 2.06-2.06.94zm10 10l.94 2.06.94-2.06 2.06-.94-2.06-.94-.94-2.06-.94 2.06-2.06.94z\"/><path d=\"M17.41 7.96l-1.37-1.37c-.4-.4-.92-.59-1.43-.59-.52 0-1.04.2-1.43.59L10.3 9.45l-7.72 7.72c-.78.78-.78 2.05 0 2.83L4 21.41c.39.39.9.59 1.41.59.51 0 1.02-.2 1.41-.59l7.78-7.78 2.81-2.81c.8-.78.8-2.07 0-2.86zM5.41 20L4 18.59l7.72-7.72 1.47 1.35L5.41 20z\"/>\n",
              "  </svg>\n",
              "      </button>\n",
              "      \n",
              "  <style>\n",
              "    .colab-df-container {\n",
              "      display:flex;\n",
              "      flex-wrap:wrap;\n",
              "      gap: 12px;\n",
              "    }\n",
              "\n",
              "    .colab-df-convert {\n",
              "      background-color: #E8F0FE;\n",
              "      border: none;\n",
              "      border-radius: 50%;\n",
              "      cursor: pointer;\n",
              "      display: none;\n",
              "      fill: #1967D2;\n",
              "      height: 32px;\n",
              "      padding: 0 0 0 0;\n",
              "      width: 32px;\n",
              "    }\n",
              "\n",
              "    .colab-df-convert:hover {\n",
              "      background-color: #E2EBFA;\n",
              "      box-shadow: 0px 1px 2px rgba(60, 64, 67, 0.3), 0px 1px 3px 1px rgba(60, 64, 67, 0.15);\n",
              "      fill: #174EA6;\n",
              "    }\n",
              "\n",
              "    [theme=dark] .colab-df-convert {\n",
              "      background-color: #3B4455;\n",
              "      fill: #D2E3FC;\n",
              "    }\n",
              "\n",
              "    [theme=dark] .colab-df-convert:hover {\n",
              "      background-color: #434B5C;\n",
              "      box-shadow: 0px 1px 3px 1px rgba(0, 0, 0, 0.15);\n",
              "      filter: drop-shadow(0px 1px 2px rgba(0, 0, 0, 0.3));\n",
              "      fill: #FFFFFF;\n",
              "    }\n",
              "  </style>\n",
              "\n",
              "      <script>\n",
              "        const buttonEl =\n",
              "          document.querySelector('#df-411284ee-52ef-46ff-98b2-524ca3d64ddb button.colab-df-convert');\n",
              "        buttonEl.style.display =\n",
              "          google.colab.kernel.accessAllowed ? 'block' : 'none';\n",
              "\n",
              "        async function convertToInteractive(key) {\n",
              "          const element = document.querySelector('#df-411284ee-52ef-46ff-98b2-524ca3d64ddb');\n",
              "          const dataTable =\n",
              "            await google.colab.kernel.invokeFunction('convertToInteractive',\n",
              "                                                     [key], {});\n",
              "          if (!dataTable) return;\n",
              "\n",
              "          const docLinkHtml = 'Like what you see? Visit the ' +\n",
              "            '<a target=\"_blank\" href=https://colab.research.google.com/notebooks/data_table.ipynb>data table notebook</a>'\n",
              "            + ' to learn more about interactive tables.';\n",
              "          element.innerHTML = '';\n",
              "          dataTable['output_type'] = 'display_data';\n",
              "          await google.colab.output.renderOutput(dataTable, element);\n",
              "          const docLink = document.createElement('div');\n",
              "          docLink.innerHTML = docLinkHtml;\n",
              "          element.appendChild(docLink);\n",
              "        }\n",
              "      </script>\n",
              "    </div>\n",
              "  </div>\n",
              "  "
            ]
          },
          "metadata": {},
          "execution_count": 74
        }
      ],
      "source": [
        "train_data = pd.read_table('/content/drive/MyDrive/AIFFEL/Exp/09/data/ratings_train.txt')\n",
        "test_data = pd.read_table('/content/drive/MyDrive/AIFFEL/Exp/09/data/ratings_test.txt')\n",
        "\n",
        "train_data.head()"
      ]
    },
    {
      "cell_type": "markdown",
      "metadata": {
        "id": "Gop2Se23-a-a"
      },
      "source": [
        "## 2) 데이터로더 구성"
      ]
    },
    {
      "cell_type": "markdown",
      "metadata": {
        "id": "9Wt-YkgZ-jLD"
      },
      "source": [
        "* 데이터의 중복 제거\n",
        "* NaN 결측치 제거\n",
        "* 한국어 토크나이저로 토큰화\n",
        "* 불용어(Stopwords) 제거\n",
        "* 사전 word_to_index 구성\n",
        "* 텍스트 스트링을 사전 인덱스 스트링으로 변환\n",
        "* X_train, y_train, X_test, y_test, word_to_index 리턴"
      ]
    },
    {
      "cell_type": "code",
      "execution_count": 75,
      "metadata": {
        "id": "UEoxmJIbCMrT"
      },
      "outputs": [],
      "source": [
        "def load_data(train_data, test_data, num_words=10000):\n",
        "    train_data.drop_duplicates(subset=['document'], inplace=True) # document 열에서 중복인 내용이 있다면 중복 제거\n",
        "    train_data['document'] = train_data['document'].str.replace(\"[^ㄱ-ㅎㅏ-ㅣ가-힣 ]\",\"\") # 정규 표현식 수행\n",
        "    train_data['document'] = train_data['document'].str.replace('^ +', \"\") # 공백은 empty 값으로 변경\n",
        "    train_data['document'].replace('', np.nan, inplace=True) # 공백은 Null 값으로 변경\n",
        "    train_data = train_data.dropna(how='any') # Null 값 제거\n",
        "\n",
        "    test_data.drop_duplicates(subset = ['document'], inplace=True)\n",
        "    test_data['document'] = test_data['document'].str.replace(\"[^ㄱ-ㅎㅏ-ㅣ가-힣 ]\",\"\")\n",
        "    test_data['document'] = test_data['document'].str.replace('^ +', \"\")\n",
        "    test_data['document'].replace('', np.nan, inplace=True)\n",
        "    test_data = test_data.dropna(how='any')\n",
        "    \n",
        "    stopwords = ['의','가','이','은','들','는','좀','잘','걍','과','도','를','으로','자','에','와','한','하다']\n",
        "    X_train = []\n",
        "    for sentence in train_data['document']:\n",
        "        temp_X = tokenizer.morphs(sentence) # 토큰화\n",
        "        temp_X = [word for word in temp_X if not word in stopwords] # 불용어 제거\n",
        "        X_train.append(temp_X)\n",
        "\n",
        "    X_test = []\n",
        "    for sentence in test_data['document']:\n",
        "        temp_X = tokenizer.morphs(sentence) # 토큰화\n",
        "        temp_X = [word for word in temp_X if not word in stopwords] # 불용어 제거\n",
        "        X_test.append(temp_X)\n",
        "    \n",
        "    words = np.concatenate(X_train).tolist()\n",
        "    counter = Counter(words)\n",
        "    counter = counter.most_common(20000-4)\n",
        "    vocab = ['<PAD>', '<BOS>', '<UNK>', '<UNUSED>'] + [key for key, _ in counter]\n",
        "    word_to_index = {word:index for index, word in enumerate(vocab)}\n",
        "        \n",
        "    def wordlist_to_indexlist(wordlist):\n",
        "        return [word_to_index[word] if word in word_to_index else word_to_index['<UNK>'] for word in wordlist]\n",
        "        \n",
        "    X_train = list(map(wordlist_to_indexlist, X_train))\n",
        "    X_test = list(map(wordlist_to_indexlist, X_test))\n",
        "        \n",
        "    return X_train, np.array(list(train_data['label'])), X_test, np.array(list(test_data['label'])), word_to_index"
      ]
    },
    {
      "cell_type": "code",
      "execution_count": 76,
      "metadata": {
        "colab": {
          "base_uri": "https://localhost:8080/"
        },
        "id": "2SCkcy6L-1p3",
        "outputId": "f19a329e-3453-47e2-f072-4cefb1bca7e0"
      },
      "outputs": [
        {
          "output_type": "stream",
          "name": "stderr",
          "text": [
            "/usr/local/lib/python3.7/dist-packages/ipykernel_launcher.py:3: FutureWarning: The default value of regex will change from True to False in a future version.\n",
            "  This is separate from the ipykernel package so we can avoid doing imports until\n",
            "/usr/local/lib/python3.7/dist-packages/ipykernel_launcher.py:4: FutureWarning: The default value of regex will change from True to False in a future version.\n",
            "  after removing the cwd from sys.path.\n",
            "/usr/local/lib/python3.7/dist-packages/ipykernel_launcher.py:9: FutureWarning: The default value of regex will change from True to False in a future version.\n",
            "  if __name__ == '__main__':\n",
            "/usr/local/lib/python3.7/dist-packages/ipykernel_launcher.py:10: FutureWarning: The default value of regex will change from True to False in a future version.\n",
            "  # Remove the CWD from sys.path while we load stuff.\n"
          ]
        }
      ],
      "source": [
        "tokenizer = Mecab()\n",
        "\n",
        "X_train, y_train, X_test, y_test, word_to_index = load_data(train_data, test_data)\n",
        "index_to_word = {index:word for word, index in word_to_index.items()}"
      ]
    },
    {
      "cell_type": "markdown",
      "metadata": {
        "id": "8INFm_7PClGJ"
      },
      "source": [
        "## 3) 모델 구성을 위한 데이터 분석 및 가공"
      ]
    },
    {
      "cell_type": "markdown",
      "metadata": {
        "id": "Hc1RMbmZCnQb"
      },
      "source": [
        "* 데이터셋 내 문장 길이 분포\n",
        "* 적절한 최대 문장 길이 지정\n",
        "* keras.preprocessing.sequence.pad_sequences 을 활용한 패딩 추가"
      ]
    },
    {
      "cell_type": "code",
      "execution_count": 77,
      "metadata": {
        "colab": {
          "base_uri": "https://localhost:8080/"
        },
        "id": "nwvv8rLOE_0e",
        "outputId": "ffb2620a-c126-4b17-afda-25c1024bb575"
      },
      "outputs": [
        {
          "output_type": "stream",
          "name": "stdout",
          "text": [
            "문장길이 평균 :  13.795479935133466\n",
            "문장길이 최대 :  83\n",
            "문장길이 표준편차 :  11.455691867742807\n",
            "pad_sequences maxlen :  42\n",
            "전체 문장의 0.9540425750984581%가 maxlen 설정값 이내에 포함됩니다. \n"
          ]
        }
      ],
      "source": [
        "total_data_text = list(X_train) + list(X_test)\n",
        "# 텍스트데이터 문장길이의 리스트를 생성한 후\n",
        "num_tokens = [len(tokens) for tokens in total_data_text]\n",
        "num_tokens = np.array(num_tokens)\n",
        "# 문장길이의 평균값, 최대값, 표준편차를 계산해 본다. \n",
        "print('문장길이 평균 : ', np.mean(num_tokens))\n",
        "print('문장길이 최대 : ', np.max(num_tokens))\n",
        "print('문장길이 표준편차 : ', np.std(num_tokens))\n",
        "\n",
        "# 예를들어, 최대 길이를 (평균 + 2*표준편차)로 한다면,  \n",
        "max_tokens = np.mean(num_tokens) + 2.5 * np.std(num_tokens)\n",
        "maxlen = int(max_tokens)\n",
        "print('pad_sequences maxlen : ', maxlen)\n",
        "print('전체 문장의 {}%가 maxlen 설정값 이내에 포함됩니다. '.format(np.sum(num_tokens < max_tokens) / len(num_tokens)))"
      ]
    },
    {
      "cell_type": "code",
      "execution_count": 78,
      "metadata": {
        "colab": {
          "base_uri": "https://localhost:8080/",
          "height": 282
        },
        "id": "T036HtNRPVqT",
        "outputId": "4d8ede03-08b5-490b-c6ff-40efe2d36f87"
      },
      "outputs": [
        {
          "output_type": "display_data",
          "data": {
            "text/plain": [
              "<Figure size 432x288 with 1 Axes>"
            ],
            "image/png": "[encoded data removed]"
          },
          "metadata": {
            "needs_background": "light"
          }
        }
      ],
      "source": [
        "plt.hist([len(s) for s in total_data_text], bins=100)\n",
        "plt.xlabel('length of samples')\n",
        "plt.ylabel('number of samples')\n",
        "plt.show()"
      ]
    },
    {
      "cell_type": "code",
      "execution_count": 79,
      "metadata": {
        "colab": {
          "base_uri": "https://localhost:8080/"
        },
        "id": "7KgN2YIuMHs7",
        "outputId": "12b7d6d2-550d-4f3c-fff8-e39f04ad788a"
      },
      "outputs": [
        {
          "output_type": "stream",
          "name": "stdout",
          "text": [
            "(145393, 42)\n"
          ]
        }
      ],
      "source": [
        "X_train = tf.keras.preprocessing.sequence.pad_sequences(X_train,\n",
        "                                                        value=word_to_index[\"<PAD>\"],\n",
        "                                                        padding='pre',\n",
        "                                                        maxlen=maxlen)\n",
        "\n",
        "X_test = tf.keras.preprocessing.sequence.pad_sequences(X_test,\n",
        "                                                       value=word_to_index[\"<PAD>\"],\n",
        "                                                       padding='pre',\n",
        "                                                       maxlen=maxlen)\n",
        "\n",
        "print(X_train.shape)"
      ]
    },
    {
      "cell_type": "markdown",
      "metadata": {
        "id": "D5XKyJknCuS5"
      },
      "source": [
        "## 4) 모델 구성 및 validation set 구성"
      ]
    },
    {
      "cell_type": "markdown",
      "metadata": {
        "id": "vORAMCS0WVRb"
      },
      "source": [
        "\n",
        "\n",
        "*   모델은 3가지 이상 다양하게 구성하여 실험해 보세요.\n",
        "\n"
      ]
    },
    {
      "cell_type": "code",
      "execution_count": 80,
      "metadata": {
        "colab": {
          "base_uri": "https://localhost:8080/"
        },
        "id": "xGJCuRx5SvKR",
        "outputId": "1158e550-ee93-4d04-a879-eeaf708da493"
      },
      "outputs": [
        {
          "output_type": "stream",
          "name": "stdout",
          "text": [
            "(115393, 42)\n",
            "(115393,)\n"
          ]
        }
      ],
      "source": [
        "# validation set 30000건 분리\n",
        "X_val = X_train[:30000]   \n",
        "y_val = y_train[:30000]\n",
        "\n",
        "# validation set을 제외한 나머지\n",
        "partial_X_train = X_train[30000:]  \n",
        "partial_y_train = y_train[30000:]\n",
        "\n",
        "print(partial_X_train.shape)\n",
        "print(partial_y_train.shape)"
      ]
    },
    {
      "cell_type": "code",
      "execution_count": 81,
      "metadata": {
        "id": "zlu3sLCGVi_V"
      },
      "outputs": [],
      "source": [
        "vocab_size = len(word_to_index)     # 어휘 사전의 크기\n",
        "word_vector_dim = 128  # 워드 벡터의 차원수"
      ]
    },
    {
      "cell_type": "markdown",
      "metadata": {
        "id": "rNOIXFIeKQkP"
      },
      "source": [
        "### 4-1) RNN"
      ]
    },
    {
      "cell_type": "code",
      "execution_count": 82,
      "metadata": {
        "colab": {
          "base_uri": "https://localhost:8080/"
        },
        "id": "KxucWx-lPqv4",
        "outputId": "5740d7e5-5970-4a0b-c0bf-8097722b56dc"
      },
      "outputs": [
        {
          "output_type": "stream",
          "name": "stdout",
          "text": [
            "Model: \"sequential_15\"\n",
            "_________________________________________________________________\n",
            " Layer (type)                Output Shape              Param #   \n",
            "=================================================================\n",
            " embedding_15 (Embedding)    (None, None, 128)         2560000   \n",
            "                                                                 \n",
            " lstm_6 (LSTM)               (None, 128)               131584    \n",
            "                                                                 \n",
            " dense_30 (Dense)            (None, 64)                8256      \n",
            "                                                                 \n",
            " dense_31 (Dense)            (None, 1)                 65        \n",
            "                                                                 \n",
            "=================================================================\n",
            "Total params: 2,699,905\n",
            "Trainable params: 2,699,905\n",
            "Non-trainable params: 0\n",
            "_________________________________________________________________\n"
          ]
        }
      ],
      "source": [
        "# 모델 설계 - 1. RNN\n",
        "model_RNN = tf.keras.Sequential()\n",
        "model_RNN.add(tf.keras.layers.Embedding(vocab_size, word_vector_dim, input_shape=(None,)))\n",
        "model_RNN.add(tf.keras.layers.LSTM(word_vector_dim))\n",
        "model_RNN.add(tf.keras.layers.Dense(64, activation='relu'))\n",
        "model_RNN.add(tf.keras.layers.Dense(1, activation='sigmoid'))\n",
        "\n",
        "model_RNN.summary()"
      ]
    },
    {
      "cell_type": "markdown",
      "metadata": {
        "id": "wsm1ZHZ-QqGA"
      },
      "source": [
        "### 4-2) CNN"
      ]
    },
    {
      "cell_type": "code",
      "execution_count": 83,
      "metadata": {
        "colab": {
          "base_uri": "https://localhost:8080/"
        },
        "id": "vt4_F_z8UO05",
        "outputId": "092a5591-8d89-4a39-c945-0aa1a7a74047"
      },
      "outputs": [
        {
          "output_type": "stream",
          "name": "stdout",
          "text": [
            "Model: \"sequential_16\"\n",
            "_________________________________________________________________\n",
            " Layer (type)                Output Shape              Param #   \n",
            "=================================================================\n",
            " embedding_16 (Embedding)    (None, None, 128)         2560000   \n",
            "                                                                 \n",
            " conv1d_12 (Conv1D)          (None, None, 128)         114816    \n",
            "                                                                 \n",
            " max_pooling1d_6 (MaxPooling  (None, None, 128)        0         \n",
            " 1D)                                                             \n",
            "                                                                 \n",
            " conv1d_13 (Conv1D)          (None, None, 128)         114816    \n",
            "                                                                 \n",
            " global_max_pooling1d_9 (Glo  (None, 128)              0         \n",
            " balMaxPooling1D)                                                \n",
            "                                                                 \n",
            " dense_32 (Dense)            (None, 64)                8256      \n",
            "                                                                 \n",
            " dense_33 (Dense)            (None, 1)                 65        \n",
            "                                                                 \n",
            "=================================================================\n",
            "Total params: 2,797,953\n",
            "Trainable params: 2,797,953\n",
            "Non-trainable params: 0\n",
            "_________________________________________________________________\n"
          ]
        }
      ],
      "source": [
        "# 모델 설계 - 2. CNN\n",
        "model_CNN = tf.keras.Sequential()\n",
        "model_CNN.add(tf.keras.layers.Embedding(vocab_size, word_vector_dim, input_shape=(None,)))\n",
        "model_CNN.add(tf.keras.layers.Conv1D(word_vector_dim, 7, activation='relu'))\n",
        "model_CNN.add(tf.keras.layers.MaxPooling1D(5))\n",
        "model_CNN.add(tf.keras.layers.Conv1D(word_vector_dim, 7, activation='relu'))\n",
        "model_CNN.add(tf.keras.layers.GlobalMaxPooling1D())\n",
        "model_CNN.add(tf.keras.layers.Dense(64, activation='relu'))\n",
        "model_CNN.add(tf.keras.layers.Dense(1, activation='sigmoid'))  # 최종 출력은 긍정/부정을 나타내는 1dim 입니다.\n",
        "\n",
        "model_CNN.summary()"
      ]
    },
    {
      "cell_type": "markdown",
      "metadata": {
        "id": "nFaIhNfthzI8"
      },
      "source": [
        "### 4-3) GlobalMaxPooling1D"
      ]
    },
    {
      "cell_type": "code",
      "execution_count": 84,
      "metadata": {
        "colab": {
          "base_uri": "https://localhost:8080/"
        },
        "id": "qNjTz8Ifhzim",
        "outputId": "36605d5c-512d-4ec1-90ec-8f38bdf1cee9"
      },
      "outputs": [
        {
          "output_type": "stream",
          "name": "stdout",
          "text": [
            "Model: \"sequential_17\"\n",
            "_________________________________________________________________\n",
            " Layer (type)                Output Shape              Param #   \n",
            "=================================================================\n",
            " embedding_17 (Embedding)    (None, None, 128)         2560000   \n",
            "                                                                 \n",
            " global_max_pooling1d_10 (Gl  (None, 128)              0         \n",
            " obalMaxPooling1D)                                               \n",
            "                                                                 \n",
            " dense_34 (Dense)            (None, 64)                8256      \n",
            "                                                                 \n",
            " dense_35 (Dense)            (None, 1)                 65        \n",
            "                                                                 \n",
            "=================================================================\n",
            "Total params: 2,568,321\n",
            "Trainable params: 2,568,321\n",
            "Non-trainable params: 0\n",
            "_________________________________________________________________\n"
          ]
        }
      ],
      "source": [
        "# 모델 설계 - 3. GlobalMaxPooling1D\n",
        "model_GMP1D = tf.keras.Sequential()\n",
        "model_GMP1D.add(tf.keras.layers.Embedding(vocab_size, word_vector_dim, input_shape=(None,)))\n",
        "model_GMP1D.add(tf.keras.layers.GlobalMaxPooling1D())\n",
        "model_GMP1D.add(tf.keras.layers.Dense(64, activation='relu'))\n",
        "model_GMP1D.add(tf.keras.layers.Dense(1, activation='sigmoid'))  # 최종 출력은 긍정/부정을 나타내는 1dim 입니다.\n",
        "\n",
        "model_GMP1D.summary()"
      ]
    },
    {
      "cell_type": "markdown",
      "metadata": {
        "id": "t2pIaoY3C7gA"
      },
      "source": [
        "## 5) 모델 훈련 개시"
      ]
    },
    {
      "cell_type": "code",
      "execution_count": 97,
      "metadata": {
        "id": "bEuICJ3uVuZN"
      },
      "outputs": [],
      "source": [
        "#ealry = tf.keras.callbacks.EarlyStopping(monitor='val_loss', mode='min', verbose=1, patience=5)\n",
        "epochs = 10"
      ]
    },
    {
      "cell_type": "code",
      "execution_count": 98,
      "metadata": {
        "colab": {
          "base_uri": "https://localhost:8080/"
        },
        "id": "CqAO65T3P_we",
        "outputId": "ee71ceaa-3f34-4d7e-cf51-3beffb265211"
      },
      "outputs": [
        {
          "output_type": "stream",
          "name": "stdout",
          "text": [
            "Epoch 1/10\n",
            "226/226 [==============================] - 62s 262ms/step - loss: 0.1320 - accuracy: 0.9478 - val_loss: 0.5935 - val_accuracy: 0.8391\n",
            "Epoch 2/10\n",
            "226/226 [==============================] - 55s 245ms/step - loss: 0.1120 - accuracy: 0.9559 - val_loss: 0.6255 - val_accuracy: 0.8376\n",
            "Epoch 3/10\n",
            "226/226 [==============================] - 53s 233ms/step - loss: 0.0979 - accuracy: 0.9615 - val_loss: 0.7252 - val_accuracy: 0.8363\n",
            "Epoch 4/10\n",
            "226/226 [==============================] - 51s 227ms/step - loss: 0.0876 - accuracy: 0.9657 - val_loss: 0.7955 - val_accuracy: 0.8370\n",
            "Epoch 5/10\n",
            "226/226 [==============================] - 46s 203ms/step - loss: 0.0799 - accuracy: 0.9686 - val_loss: 0.8140 - val_accuracy: 0.8371\n",
            "Epoch 6/10\n",
            "226/226 [==============================] - 45s 199ms/step - loss: 0.0730 - accuracy: 0.9719 - val_loss: 0.9147 - val_accuracy: 0.8358\n",
            "Epoch 7/10\n",
            "226/226 [==============================] - 44s 197ms/step - loss: 0.0692 - accuracy: 0.9732 - val_loss: 0.9395 - val_accuracy: 0.8369\n",
            "Epoch 8/10\n",
            "226/226 [==============================] - 45s 200ms/step - loss: 0.0627 - accuracy: 0.9760 - val_loss: 0.9776 - val_accuracy: 0.8352\n",
            "Epoch 9/10\n",
            "226/226 [==============================] - 44s 195ms/step - loss: 0.0558 - accuracy: 0.9783 - val_loss: 1.1200 - val_accuracy: 0.8343\n",
            "Epoch 10/10\n",
            "226/226 [==============================] - 44s 197ms/step - loss: 0.0540 - accuracy: 0.9796 - val_loss: 1.0051 - val_accuracy: 0.8308\n"
          ]
        }
      ],
      "source": [
        "#check_RNN = tf.keras.callbacks.ModelCheckpoint('model_RNN.h5', monitor='val_acc', mode='max', verbose=1, save_bast_only=True)\n",
        "\n",
        "model_RNN.compile(optimizer='adam',\n",
        "                  loss='binary_crossentropy',\n",
        "                  metrics=['accuracy'])\n",
        "\n",
        "history_RNN = model_RNN.fit(partial_X_train,\n",
        "                            partial_y_train,\n",
        "                            epochs=epochs,\n",
        "                            #callbacks=[ealry, check_RNN],\n",
        "                            batch_size=512,\n",
        "                            validation_data=(X_val, y_val),\n",
        "                            verbose=1)"
      ]
    },
    {
      "cell_type": "code",
      "execution_count": 99,
      "metadata": {
        "colab": {
          "base_uri": "https://localhost:8080/"
        },
        "id": "oduBC_EcUVzv",
        "outputId": "18019f98-3400-474b-8ab3-e1e06b1954bd"
      },
      "outputs": [
        {
          "output_type": "stream",
          "name": "stdout",
          "text": [
            "Epoch 1/10\n",
            "226/226 [==============================] - 9s 38ms/step - loss: 0.0512 - accuracy: 0.9809 - val_loss: 0.8238 - val_accuracy: 0.8220\n",
            "Epoch 2/10\n",
            "226/226 [==============================] - 8s 37ms/step - loss: 0.0389 - accuracy: 0.9843 - val_loss: 0.9794 - val_accuracy: 0.8222\n",
            "Epoch 3/10\n",
            "226/226 [==============================] - 8s 37ms/step - loss: 0.0339 - accuracy: 0.9861 - val_loss: 1.0859 - val_accuracy: 0.8219\n",
            "Epoch 4/10\n",
            "226/226 [==============================] - 8s 37ms/step - loss: 0.0364 - accuracy: 0.9853 - val_loss: 0.9908 - val_accuracy: 0.8217\n",
            "Epoch 5/10\n",
            "226/226 [==============================] - 8s 37ms/step - loss: 0.0328 - accuracy: 0.9867 - val_loss: 0.9829 - val_accuracy: 0.8220\n",
            "Epoch 6/10\n",
            "226/226 [==============================] - 9s 38ms/step - loss: 0.0289 - accuracy: 0.9882 - val_loss: 1.1509 - val_accuracy: 0.8201\n",
            "Epoch 7/10\n",
            "226/226 [==============================] - 9s 39ms/step - loss: 0.0274 - accuracy: 0.9881 - val_loss: 1.1594 - val_accuracy: 0.8162\n",
            "Epoch 8/10\n",
            "226/226 [==============================] - 9s 39ms/step - loss: 0.0279 - accuracy: 0.9882 - val_loss: 1.1636 - val_accuracy: 0.8150\n",
            "Epoch 9/10\n",
            "226/226 [==============================] - 8s 37ms/step - loss: 0.0273 - accuracy: 0.9881 - val_loss: 1.1932 - val_accuracy: 0.8211\n",
            "Epoch 10/10\n",
            "226/226 [==============================] - 9s 42ms/step - loss: 0.0247 - accuracy: 0.9892 - val_loss: 1.3034 - val_accuracy: 0.8163\n"
          ]
        }
      ],
      "source": [
        "#check_CNN = tf.keras.callbacks.ModelCheckpoint('model_CNN.h5', monitor='val_acc', mode='max', verbose=1, save_bast_only=True)\n",
        "\n",
        "model_CNN.compile(optimizer='adam',\n",
        "                  loss='binary_crossentropy',\n",
        "                  metrics=['accuracy'])\n",
        "\n",
        "history_CNN = model_CNN.fit(partial_X_train,\n",
        "                            partial_y_train,\n",
        "                            epochs=epochs,\n",
        "                            #callbacks=[ealry, check_CNN],\n",
        "                            batch_size=512,\n",
        "                            validation_data=(X_val, y_val),\n",
        "                            verbose=1)"
      ]
    },
    {
      "cell_type": "code",
      "execution_count": 100,
      "metadata": {
        "colab": {
          "base_uri": "https://localhost:8080/"
        },
        "id": "5rletdc1ircK",
        "outputId": "9be7ec29-9d40-449b-8400-9c12640bd707"
      },
      "outputs": [
        {
          "output_type": "stream",
          "name": "stdout",
          "text": [
            "Epoch 1/10\n",
            "226/226 [==============================] - 4s 15ms/step - loss: 0.0482 - accuracy: 0.9857 - val_loss: 0.6674 - val_accuracy: 0.8319\n",
            "Epoch 2/10\n",
            "226/226 [==============================] - 3s 14ms/step - loss: 0.0295 - accuracy: 0.9918 - val_loss: 0.7394 - val_accuracy: 0.8278\n",
            "Epoch 3/10\n",
            "226/226 [==============================] - 3s 14ms/step - loss: 0.0216 - accuracy: 0.9939 - val_loss: 0.7903 - val_accuracy: 0.8276\n",
            "Epoch 4/10\n",
            "226/226 [==============================] - 3s 15ms/step - loss: 0.0167 - accuracy: 0.9951 - val_loss: 0.8491 - val_accuracy: 0.8259\n",
            "Epoch 5/10\n",
            "226/226 [==============================] - 3s 15ms/step - loss: 0.0132 - accuracy: 0.9960 - val_loss: 0.8938 - val_accuracy: 0.8257\n",
            "Epoch 6/10\n",
            "226/226 [==============================] - 3s 15ms/step - loss: 0.0115 - accuracy: 0.9963 - val_loss: 0.9223 - val_accuracy: 0.8253\n",
            "Epoch 7/10\n",
            "226/226 [==============================] - 3s 14ms/step - loss: 0.0098 - accuracy: 0.9968 - val_loss: 0.9625 - val_accuracy: 0.8247\n",
            "Epoch 8/10\n",
            "226/226 [==============================] - 3s 15ms/step - loss: 0.0089 - accuracy: 0.9969 - val_loss: 0.9949 - val_accuracy: 0.8253\n",
            "Epoch 9/10\n",
            "226/226 [==============================] - 3s 15ms/step - loss: 0.0086 - accuracy: 0.9969 - val_loss: 1.0154 - val_accuracy: 0.8232\n",
            "Epoch 10/10\n",
            "226/226 [==============================] - 3s 14ms/step - loss: 0.0077 - accuracy: 0.9971 - val_loss: 1.0555 - val_accuracy: 0.8256\n"
          ]
        }
      ],
      "source": [
        "#check_GMP1D = tf.keras.callbacks.ModelCheckpoint('model_GMP1D.h5', monitor='val_acc', mode='max', verbose=1, save_bast_only=True)\n",
        "\n",
        "model_GMP1D.compile(optimizer='adam',\n",
        "                    loss='binary_crossentropy',\n",
        "                    metrics=['accuracy'])\n",
        "\n",
        "history_GMP1D = model_GMP1D.fit(partial_X_train,\n",
        "                                partial_y_train,\n",
        "                                epochs=epochs,\n",
        "                                #callbacks=[ealry, check_GMP1D],\n",
        "                                batch_size=512,\n",
        "                                validation_data=(X_val, y_val),\n",
        "                                verbose=1)"
      ]
    },
    {
      "cell_type": "markdown",
      "metadata": {
        "id": "Nrwfy_gUC8Im"
      },
      "source": [
        "## 6) Loss, Accuracy 그래프 시각화"
      ]
    },
    {
      "cell_type": "code",
      "source": [
        "# 모델 평가 - 1. RNN\n",
        "#model_RNN_loaded = tf.keras.models.load_model('model_RNN.h5')\n",
        "#results = model_RNN_loaded.evaluate(X_test,  y_test, verbose=2)\n",
        "results = model_RNN.evaluate(X_test,  y_test, verbose=2)\n",
        "print(results)"
      ],
      "metadata": {
        "colab": {
          "base_uri": "https://localhost:8080/"
        },
        "id": "VdD3Ei_FdSKr",
        "outputId": "6dc2f97b-1523-4b78-ec7b-9893a33f9fd3"
      },
      "execution_count": 101,
      "outputs": [
        {
          "output_type": "stream",
          "name": "stdout",
          "text": [
            "1527/1527 - 33s - loss: 0.9916 - accuracy: 0.8265 - 33s/epoch - 22ms/step\n",
            "[0.9916037917137146, 0.8264554142951965]\n"
          ]
        }
      ]
    },
    {
      "cell_type": "code",
      "execution_count": 102,
      "metadata": {
        "colab": {
          "base_uri": "https://localhost:8080/"
        },
        "id": "6yrFNlTkYHWX",
        "outputId": "71e05ef0-153a-4b39-90f6-444d4720cdba"
      },
      "outputs": [
        {
          "output_type": "stream",
          "name": "stdout",
          "text": [
            "1527/1527 - 4s - loss: 1.3063 - accuracy: 0.8143 - 4s/epoch - 3ms/step\n",
            "[1.3063206672668457, 0.8142962455749512]\n"
          ]
        }
      ],
      "source": [
        "# 모델 평가 - 2. CNN\n",
        "#model_CNN_loaded = tf.keras.models.load_model('model_CNN.h5')\n",
        "#results = model_CNN_loaded.evaluate(X_test,  y_test, verbose=2)\n",
        "results = model_CNN.evaluate(X_test,  y_test, verbose=2)\n",
        "print(results)"
      ]
    },
    {
      "cell_type": "code",
      "execution_count": 103,
      "metadata": {
        "colab": {
          "base_uri": "https://localhost:8080/"
        },
        "id": "ZvLG2KeNi7Ni",
        "outputId": "e42eb535-1ccf-45fa-cf94-5327a8ee2b4d"
      },
      "outputs": [
        {
          "output_type": "stream",
          "name": "stdout",
          "text": [
            "1527/1527 - 2s - loss: 1.0884 - accuracy: 0.8209 - 2s/epoch - 1ms/step\n",
            "[1.0883997678756714, 0.820887565612793]\n"
          ]
        }
      ],
      "source": [
        "# 모델 평가 - 3. GlobalMaxPooling1D\n",
        "#model_GMP1D_loaded = tf.keras.models.load_model('model_GMP1D.h5')\n",
        "#results = model_GMP1D_loaded.evaluate(X_test,  y_test, verbose=2)\n",
        "results = model_GMP1D.evaluate(X_test,  y_test, verbose=2)\n",
        "print(results)"
      ]
    },
    {
      "cell_type": "code",
      "execution_count": 104,
      "metadata": {
        "id": "f7XRAUa8SCSH"
      },
      "outputs": [],
      "source": [
        "# 모델 fitting 간 학습 추세 (accuracy, val_accuracy, loss, val_loss)\n",
        "history_dict_RNN = history_RNN.history\n",
        "history_dict_CNN = history_CNN.history\n",
        "history_dict_GMP1D = history_GMP1D.history"
      ]
    },
    {
      "cell_type": "code",
      "execution_count": 105,
      "metadata": {
        "id": "qYjNtm1bSDb-"
      },
      "outputs": [],
      "source": [
        "acc_RNN = history_dict_RNN['accuracy']\n",
        "val_acc_RNN = history_dict_RNN['val_accuracy']\n",
        "loss_RNN = history_dict_RNN['loss']\n",
        "val_loss_RNN = history_dict_RNN['val_loss']\n",
        "\n",
        "acc_CNN = history_dict_CNN['accuracy']\n",
        "val_acc_CNN = history_dict_CNN['val_accuracy']\n",
        "loss_CNN = history_dict_CNN['loss']\n",
        "val_loss_CNN = history_dict_CNN['val_loss']\n",
        "\n",
        "acc_GMP1D = history_dict_GMP1D['accuracy']\n",
        "val_acc_GMP1D = history_dict_GMP1D['val_accuracy']\n",
        "loss_GMP1D = history_dict_GMP1D['loss']\n",
        "val_loss_GMP1D = history_dict_GMP1D['val_loss']"
      ]
    },
    {
      "cell_type": "code",
      "execution_count": 106,
      "metadata": {
        "id": "74rCbRrWXXow"
      },
      "outputs": [],
      "source": [
        "epochs_plot = range(1, epochs + 1)"
      ]
    },
    {
      "cell_type": "code",
      "execution_count": 107,
      "metadata": {
        "colab": {
          "base_uri": "https://localhost:8080/",
          "height": 350
        },
        "id": "G7anD7SFSLUz",
        "outputId": "466b245b-afe1-4fba-a1a7-9f3b81deb52c"
      },
      "outputs": [
        {
          "output_type": "display_data",
          "data": {
            "text/plain": [
              "<Figure size 1440x360 with 3 Axes>"
            ],
            "image/png": "[encoded data removed]"
          },
          "metadata": {
            "needs_background": "light"
          }
        }
      ],
      "source": [
        "plt.figure(figsize=(20,5))\n",
        "\n",
        "plt.subplot(131)\n",
        "plt.plot(epochs_plot, loss_RNN, 'ro', label='Training loss')\n",
        "plt.plot(epochs_plot, val_loss_RNN, 'r', label='Validation loss')\n",
        "plt.title('[RNN] Training and validation loss')\n",
        "plt.xlabel('Epochs')\n",
        "plt.ylabel('Loss')\n",
        "plt.legend()\n",
        "\n",
        "plt.subplot(132)\n",
        "plt.plot(epochs_plot, loss_CNN, 'go', label='Training loss')\n",
        "plt.plot(epochs_plot, val_loss_CNN, 'g', label='Validation loss')\n",
        "plt.title('[CNN] Training and validation loss')\n",
        "plt.xlabel('Epochs')\n",
        "plt.ylabel('Loss')\n",
        "plt.legend()\n",
        "\n",
        "plt.subplot(133)\n",
        "plt.plot(epochs_plot, loss_GMP1D, 'bo', label='Training loss')\n",
        "plt.plot(epochs_plot, val_loss_GMP1D, 'b', label='Validation loss')\n",
        "plt.title('[GMP1D] Training and validation loss')\n",
        "plt.xlabel('Epochs')\n",
        "plt.ylabel('Loss')\n",
        "plt.legend()\n",
        "\n",
        "plt.show()"
      ]
    },
    {
      "cell_type": "code",
      "execution_count": 108,
      "metadata": {
        "colab": {
          "base_uri": "https://localhost:8080/",
          "height": 350
        },
        "id": "GVpLvgRASTS1",
        "outputId": "b4b61677-851a-4210-d4d9-cbb772dcd1c8"
      },
      "outputs": [
        {
          "output_type": "display_data",
          "data": {
            "text/plain": [
              "<Figure size 1440x360 with 3 Axes>"
            ],
            "image/png": "[encoded data removed]"
          },
          "metadata": {
            "needs_background": "light"
          }
        }
      ],
      "source": [
        "plt.figure(figsize=(20,5))\n",
        "\n",
        "plt.subplot(131)\n",
        "plt.plot(epochs_plot, acc_RNN, 'ro', label='Training acc')\n",
        "plt.plot(epochs_plot, val_acc_RNN, 'r', label='Validation acc')\n",
        "plt.title('[RNN] Training and validation accuracy')\n",
        "plt.xlabel('Epochs')\n",
        "plt.ylabel('Accuracy')\n",
        "plt.legend()\n",
        "\n",
        "plt.subplot(132)\n",
        "plt.plot(epochs_plot, acc_CNN, 'go', label='Training acc')\n",
        "plt.plot(epochs_plot, val_acc_CNN, 'g', label='Validation acc')\n",
        "plt.title('[CNN] Training and validation accuracy')\n",
        "plt.xlabel('Epochs')\n",
        "plt.ylabel('Accuracy')\n",
        "plt.legend()\n",
        "\n",
        "plt.subplot(133)\n",
        "plt.plot(epochs_plot, acc_GMP1D, 'bo', label='Training acc')\n",
        "plt.plot(epochs_plot, val_acc_GMP1D, 'b', label='Validation acc')\n",
        "plt.title('[GMP1D] Training and validation accuracy')\n",
        "plt.xlabel('Epochs')\n",
        "plt.ylabel('Accuracy')\n",
        "plt.legend()\n",
        "\n",
        "plt.show()"
      ]
    },
    {
      "cell_type": "markdown",
      "metadata": {
        "id": "ahRHk1ZfC8nd"
      },
      "source": [
        "## 7) 학습된 Embedding 레이어 분석"
      ]
    },
    {
      "cell_type": "code",
      "source": [
        "embedding_layer_RNN = model_RNN.layers[0]\n",
        "weights_RNN = embedding_layer_RNN.get_weights()[0]\n",
        "print(weights_RNN.shape)\n",
        "weights_RNN[0]"
      ],
      "metadata": {
        "colab": {
          "base_uri": "https://localhost:8080/"
        },
        "id": "_ZpLhTVJXbxY",
        "outputId": "997b0105-3cca-4ef5-d784-a6644d2cee4c"
      },
      "execution_count": 116,
      "outputs": [
        {
          "output_type": "stream",
          "name": "stdout",
          "text": [
            "(20000, 128)\n"
          ]
        },
        {
          "output_type": "execute_result",
          "data": {
            "text/plain": [
              "array([-0.03808627,  0.05741218, -0.04039858,  0.00757839,  0.04297548,\n",
              "       -0.02792334,  0.01043082, -0.04382214, -0.02612838,  0.0333849 ,\n",
              "       -0.05406142, -0.03353739, -0.0608636 ,  0.04579021,  0.00694404,\n",
              "        0.0127265 ,  0.01156136,  0.05187907,  0.01417779, -0.03705341,\n",
              "       -0.0606984 ,  0.02388764,  0.04190844,  0.0202158 , -0.02536291,\n",
              "        0.00982984,  0.01603248, -0.02776326,  0.00984427, -0.04203201,\n",
              "       -0.07247858, -0.00098387,  0.03104469,  0.01617973, -0.01230544,\n",
              "        0.06228898,  0.03269721,  0.04748341,  0.03330855, -0.04398193,\n",
              "       -0.04675104, -0.04429694,  0.02344408,  0.04865216, -0.02506111,\n",
              "        0.04390336, -0.04151853,  0.01655661, -0.0254638 ,  0.04884248,\n",
              "        0.04606576,  0.04946174,  0.00025859,  0.00805449,  0.03469217,\n",
              "       -0.03084436, -0.05920977, -0.0852403 , -0.05437216,  0.03755643,\n",
              "        0.04987255,  0.04353659,  0.03616465, -0.00415176, -0.04722396,\n",
              "       -0.02091205, -0.0566397 , -0.03598792,  0.02630983, -0.04205252,\n",
              "        0.03190801, -0.02904075, -0.00235957, -0.07424183,  0.04909361,\n",
              "       -0.02068803,  0.04187961, -0.04321834, -0.00793218,  0.02063472,\n",
              "        0.02603997, -0.03916332, -0.04666229, -0.02273987, -0.0135515 ,\n",
              "       -0.01014465,  0.03243842, -0.02547856, -0.02681028,  0.06618109,\n",
              "       -0.02565692,  0.0263701 , -0.02602679,  0.03737278, -0.06937809,\n",
              "       -0.05143998,  0.04672436,  0.07198802, -0.05073263,  0.03426481,\n",
              "        0.04131375,  0.06038678,  0.02274417,  0.01869528, -0.03924783,\n",
              "        0.06199116, -0.00453457, -0.04162236,  0.06312932, -0.03033526,\n",
              "        0.05544776,  0.01008524,  0.0330274 ,  0.04391501, -0.05019493,\n",
              "       -0.0337321 , -0.02519473, -0.03178079, -0.01923596, -0.00558881,\n",
              "        0.02232245, -0.03305892,  0.07041527,  0.00487966,  0.04032765,\n",
              "       -0.01240058,  0.04536438,  0.05068679], dtype=float32)"
            ]
          },
          "metadata": {},
          "execution_count": 116
        }
      ]
    },
    {
      "cell_type": "code",
      "source": [
        "embedding_layer_CNN = model_CNN.layers[0]\n",
        "weights_CNN = embedding_layer_CNN.get_weights()[0]\n",
        "print(weights_CNN.shape)\n",
        "weights_CNN[0]"
      ],
      "metadata": {
        "colab": {
          "base_uri": "https://localhost:8080/"
        },
        "id": "unyasU2lbS0B",
        "outputId": "154489a3-6714-4054-cc5a-e69caaa59965"
      },
      "execution_count": 117,
      "outputs": [
        {
          "output_type": "stream",
          "name": "stdout",
          "text": [
            "(20000, 128)\n"
          ]
        },
        {
          "output_type": "execute_result",
          "data": {
            "text/plain": [
              "array([-2.7580639e-02, -1.1791399e-02, -9.4054430e-04,  3.2536527e-03,\n",
              "       -1.6157955e-02, -1.6942948e-02, -3.6177647e-03,  9.3122190e-03,\n",
              "        1.3724575e-02,  6.7536635e-03,  9.7779213e-03,  7.5343247e-03,\n",
              "        4.2360886e-03, -3.6820970e-03, -1.1538416e-02, -1.7276080e-03,\n",
              "       -1.6452143e-03, -1.6983200e-02, -1.1275701e-02, -1.5655288e-02,\n",
              "       -1.8056661e-02, -1.3696474e-02,  5.2303979e-03,  3.7225275e-03,\n",
              "       -1.2238049e-02, -8.3996551e-03, -2.5002635e-03,  4.5208205e-03,\n",
              "       -1.0690395e-02, -3.2809451e-02,  1.8721085e-02, -1.7371778e-03,\n",
              "       -1.3680998e-02,  1.2619762e-02, -2.8994686e-03,  1.2162825e-02,\n",
              "        5.4730423e-05, -2.8630148e-03, -2.9090628e-02, -1.4399555e-02,\n",
              "        1.1427075e-02,  2.0019386e-02,  1.0674113e-02, -2.2088276e-02,\n",
              "       -1.2883902e-02,  2.0048067e-02,  1.2468281e-02,  6.0598506e-03,\n",
              "       -2.6738667e-03,  1.0998760e-02, -5.1297322e-03, -9.6765179e-03,\n",
              "        1.1748950e-02, -5.1934547e-03, -8.4023895e-03,  1.7270087e-03,\n",
              "       -1.8886618e-02,  1.9146431e-02, -2.5153749e-02, -1.9145662e-02,\n",
              "       -4.4141505e-03,  1.5517166e-02,  1.7068228e-02,  8.2025817e-03,\n",
              "        1.7868884e-02, -2.2498380e-02,  1.4395165e-02,  1.0418823e-02,\n",
              "       -2.4356894e-02,  8.1936102e-03,  2.7913254e-02, -9.6683565e-05,\n",
              "        1.7246569e-02, -7.8826648e-05, -1.4455521e-02,  9.3963835e-03,\n",
              "        1.9465908e-03,  5.7864338e-03, -3.8966957e-02,  4.2247906e-02,\n",
              "       -5.7282457e-03,  2.9041419e-02,  2.3277543e-02, -3.7960351e-02,\n",
              "        1.0174749e-02,  9.7093545e-03, -9.5388349e-03,  1.4923146e-02,\n",
              "        6.3977484e-03,  1.1449283e-02,  1.1656369e-02,  7.0465039e-03,\n",
              "       -7.4231336e-03,  8.6268515e-04,  1.0625462e-02,  1.3046968e-04,\n",
              "        1.7877998e-02,  9.1110645e-03,  6.7704841e-03,  7.1412316e-03,\n",
              "        4.1975200e-02, -2.2999335e-02,  4.9044634e-03, -4.2649411e-04,\n",
              "        8.9514500e-04,  4.5589204e-03,  6.0229036e-03,  3.1179272e-02,\n",
              "        4.1209828e-04, -6.3030948e-03,  8.1790602e-03, -2.2696219e-02,\n",
              "       -8.7083988e-03,  1.4187408e-03,  2.6823202e-02, -1.6173573e-03,\n",
              "       -3.7730238e-03, -8.5773570e-03,  2.0288760e-03,  2.9635182e-02,\n",
              "        2.1645597e-03, -9.3753925e-03, -2.5343910e-02,  3.0123093e-03,\n",
              "       -1.3340146e-02,  1.1771681e-02, -4.3980060e-03,  4.5747599e-03],\n",
              "      dtype=float32)"
            ]
          },
          "metadata": {},
          "execution_count": 117
        }
      ]
    },
    {
      "cell_type": "code",
      "source": [
        "embedding_layer_GMP1D = model_GMP1D.layers[0]\n",
        "weights_GMP1D = embedding_layer_GMP1D.get_weights()[0]\n",
        "print(weights_GMP1D.shape)\n",
        "weights_GMP1D[0]"
      ],
      "metadata": {
        "colab": {
          "base_uri": "https://localhost:8080/"
        },
        "id": "vT6Q4MkGbTlJ",
        "outputId": "cfd08666-367f-4f84-9fbc-a10420fdc070"
      },
      "execution_count": 118,
      "outputs": [
        {
          "output_type": "stream",
          "name": "stdout",
          "text": [
            "(20000, 128)\n"
          ]
        },
        {
          "output_type": "execute_result",
          "data": {
            "text/plain": [
              "array([-0.14184499, -0.20943756, -0.13386635, -0.09399164, -0.09756495,\n",
              "       -0.23683816, -0.18241112, -0.22011864, -0.19196932, -0.15977263,\n",
              "       -0.1240866 , -0.08881544, -0.05714576, -0.17483886, -0.13951692,\n",
              "       -0.09878936, -0.15384203, -0.207146  , -0.15594362, -0.04422931,\n",
              "       -0.13582408, -0.1532788 , -0.08459337, -0.13834685, -0.14026397,\n",
              "       -0.13637564, -0.12873371, -0.2734007 , -0.1264116 , -0.2004561 ,\n",
              "       -0.13500558, -0.11543035, -0.1035714 , -0.13720709, -0.12373361,\n",
              "       -0.2147629 , -0.15637532, -0.16306216, -0.1671512 , -0.05580549,\n",
              "       -0.12831126, -0.1445093 , -0.15187052, -0.12051074, -0.21728218,\n",
              "       -0.15025167, -0.10380352, -0.12971844, -0.12999399, -0.19025357,\n",
              "       -0.08569966, -0.09893759, -0.16424693, -0.179437  , -0.17089094,\n",
              "       -0.13758633, -0.12891488, -0.16057721, -0.11592957, -0.05506454,\n",
              "       -0.09181276, -0.13778456, -0.19418807, -0.10391258, -0.11184172,\n",
              "       -0.20746946, -0.13626887, -0.1015353 , -0.18892217, -0.1544782 ,\n",
              "       -0.16298491,  0.12364216, -0.23482811, -0.11027299, -0.156916  ,\n",
              "       -0.15765804, -0.09863126, -0.13289747, -0.10647573, -0.09441043,\n",
              "       -0.0744968 , -0.1517528 , -0.17707169, -0.16575143, -0.19296813,\n",
              "       -0.18788837, -0.03644472, -0.13124436, -0.12459936, -0.17226215,\n",
              "       -0.12728174, -0.10222621, -0.12286514, -0.1527059 , -0.08168246,\n",
              "       -0.21489236, -0.15445882, -0.22234571, -0.12084365, -0.12243047,\n",
              "       -0.15285209,  0.10893209, -0.15113756, -0.19446287, -0.09080806,\n",
              "       -0.09628386, -0.11907376, -0.18474007, -0.11682561, -0.15900014,\n",
              "       -0.14243028, -0.17725655, -0.14152381, -0.07869527, -0.139754  ,\n",
              "       -0.10695287, -0.12389472, -0.15151113, -0.13013074, -0.09547181,\n",
              "       -0.21689886, -0.1655787 , -0.08653665, -0.21574654, -0.07794409,\n",
              "       -0.17684829, -0.15474112, -0.16966504], dtype=float32)"
            ]
          },
          "metadata": {},
          "execution_count": 118
        }
      ]
    },
    {
      "cell_type": "markdown",
      "metadata": {
        "id": "A3u7zqsxDJW3"
      },
      "source": [
        "## 8) 한국어 Word2Vec 임베딩 활용하여 성능 개선"
      ]
    },
    {
      "cell_type": "code",
      "execution_count": 119,
      "metadata": {
        "colab": {
          "base_uri": "https://localhost:8080/"
        },
        "id": "BnodLFnbTKZ1",
        "outputId": "2532ef94-7baa-41b8-9a60-f4a7b0735f85"
      },
      "outputs": [
        {
          "output_type": "stream",
          "name": "stderr",
          "text": [
            "/usr/local/lib/python3.7/dist-packages/ipykernel_launcher.py:3: DeprecationWarning: Call to deprecated `__getitem__` (Method will be removed in 4.0.0, use self.wv.__getitem__() instead).\n",
            "  This is separate from the ipykernel package so we can avoid doing imports until\n"
          ]
        },
        {
          "output_type": "execute_result",
          "data": {
            "text/plain": [
              "(200,)"
            ]
          },
          "metadata": {},
          "execution_count": 119
        }
      ],
      "source": [
        "word2vec_path = '/content/drive/MyDrive/AIFFEL/Exp/09/word2vec/ko.bin'\n",
        "pre_word2vec = gensim.models.Word2Vec.load(word2vec_path)\n",
        "vector = pre_word2vec['컴퓨터']\n",
        "vector.shape"
      ]
    },
    {
      "cell_type": "code",
      "execution_count": 120,
      "metadata": {
        "colab": {
          "base_uri": "https://localhost:8080/"
        },
        "id": "JV6kR2RfT0oX",
        "outputId": "1d0ed043-1ff4-4e4c-8f92-c94aa4db7ade"
      },
      "outputs": [
        {
          "output_type": "stream",
          "name": "stderr",
          "text": [
            "/usr/local/lib/python3.7/dist-packages/ipykernel_launcher.py:5: DeprecationWarning: Call to deprecated `__contains__` (Method will be removed in 4.0.0, use self.wv.__contains__() instead).\n",
            "  \"\"\"\n",
            "/usr/local/lib/python3.7/dist-packages/ipykernel_launcher.py:6: DeprecationWarning: Call to deprecated `__getitem__` (Method will be removed in 4.0.0, use self.wv.__getitem__() instead).\n",
            "  \n"
          ]
        }
      ],
      "source": [
        "word_vector_dim = 200\n",
        "\n",
        "embedding_matrix = np.random.rand(vocab_size, word_vector_dim)\n",
        "for i in range(4,vocab_size):\n",
        "    if index_to_word[i] in pre_word2vec:\n",
        "        embedding_matrix[i] = pre_word2vec[index_to_word[i]]"
      ]
    },
    {
      "cell_type": "code",
      "execution_count": 121,
      "metadata": {
        "colab": {
          "base_uri": "https://localhost:8080/"
        },
        "id": "bg5n9NZHUGZJ",
        "outputId": "5e8e6301-dd70-4d73-fa6f-7423542e8986"
      },
      "outputs": [
        {
          "output_type": "stream",
          "name": "stdout",
          "text": [
            "Model: \"sequential_18\"\n",
            "_________________________________________________________________\n",
            " Layer (type)                Output Shape              Param #   \n",
            "=================================================================\n",
            " embedding_18 (Embedding)    (None, 42, 200)           4000000   \n",
            "                                                                 \n",
            " conv1d_14 (Conv1D)          (None, 36, 16)            22416     \n",
            "                                                                 \n",
            " max_pooling1d_7 (MaxPooling  (None, 7, 16)            0         \n",
            " 1D)                                                             \n",
            "                                                                 \n",
            " conv1d_15 (Conv1D)          (None, 1, 16)             1808      \n",
            "                                                                 \n",
            " global_max_pooling1d_11 (Gl  (None, 16)               0         \n",
            " obalMaxPooling1D)                                               \n",
            "                                                                 \n",
            " dense_36 (Dense)            (None, 8)                 136       \n",
            "                                                                 \n",
            " dense_37 (Dense)            (None, 1)                 9         \n",
            "                                                                 \n",
            "=================================================================\n",
            "Total params: 4,024,369\n",
            "Trainable params: 4,024,369\n",
            "Non-trainable params: 0\n",
            "_________________________________________________________________\n"
          ]
        }
      ],
      "source": [
        "model_ko = tf.keras.Sequential()\n",
        "model_ko.add(tf.keras.layers.Embedding(vocab_size,\n",
        "                                       word_vector_dim,\n",
        "                                       embeddings_initializer=tf.keras.initializers.Constant(embedding_matrix),\n",
        "                                       input_length=maxlen,\n",
        "                                       trainable=True))\n",
        "model_ko.add(tf.keras.layers.Conv1D(16, 7, activation='relu'))\n",
        "model_ko.add(tf.keras.layers.MaxPooling1D(5))\n",
        "model_ko.add(tf.keras.layers.Conv1D(16, 7, activation='relu'))\n",
        "model_ko.add(tf.keras.layers.GlobalMaxPooling1D())\n",
        "model_ko.add(tf.keras.layers.Dense(8, activation='relu'))\n",
        "model_ko.add(tf.keras.layers.Dense(1, activation='sigmoid')) \n",
        "\n",
        "model_ko.summary()"
      ]
    },
    {
      "cell_type": "code",
      "execution_count": 122,
      "metadata": {
        "colab": {
          "base_uri": "https://localhost:8080/"
        },
        "id": "N6SA-8zZUP0g",
        "outputId": "6351594f-7715-402e-fa1c-7ffc4a5804f9"
      },
      "outputs": [
        {
          "output_type": "stream",
          "name": "stdout",
          "text": [
            "Epoch 1/10\n",
            "226/226 [==============================] - 8s 33ms/step - loss: 0.5596 - accuracy: 0.7010 - val_loss: 0.4660 - val_accuracy: 0.7780\n",
            "Epoch 2/10\n",
            "226/226 [==============================] - 7s 33ms/step - loss: 0.4188 - accuracy: 0.8076 - val_loss: 0.4083 - val_accuracy: 0.8125\n",
            "Epoch 3/10\n",
            "226/226 [==============================] - 7s 33ms/step - loss: 0.3537 - accuracy: 0.8461 - val_loss: 0.3914 - val_accuracy: 0.8224\n",
            "Epoch 4/10\n",
            "226/226 [==============================] - 7s 33ms/step - loss: 0.3136 - accuracy: 0.8670 - val_loss: 0.3899 - val_accuracy: 0.8263\n",
            "Epoch 5/10\n",
            "226/226 [==============================] - 7s 33ms/step - loss: 0.2796 - accuracy: 0.8847 - val_loss: 0.4020 - val_accuracy: 0.8251\n",
            "Epoch 6/10\n",
            "226/226 [==============================] - 8s 33ms/step - loss: 0.2492 - accuracy: 0.8995 - val_loss: 0.4170 - val_accuracy: 0.8249\n",
            "Epoch 7/10\n",
            "226/226 [==============================] - 7s 33ms/step - loss: 0.2237 - accuracy: 0.9117 - val_loss: 0.4317 - val_accuracy: 0.8232\n",
            "Epoch 8/10\n",
            "226/226 [==============================] - 7s 33ms/step - loss: 0.1985 - accuracy: 0.9232 - val_loss: 0.4584 - val_accuracy: 0.8225\n",
            "Epoch 9/10\n",
            "226/226 [==============================] - 7s 33ms/step - loss: 0.1749 - accuracy: 0.9338 - val_loss: 0.5100 - val_accuracy: 0.8184\n",
            "Epoch 10/10\n",
            "226/226 [==============================] - 7s 33ms/step - loss: 0.1541 - accuracy: 0.9432 - val_loss: 0.5279 - val_accuracy: 0.8183\n"
          ]
        }
      ],
      "source": [
        "# 모델 학습\n",
        "#check_ko = tf.keras.callbacks.ModelCheckpoint('model.h5', monitor='val_acc', mode='max', verbose=1, save_bast_only=True)\n",
        "\n",
        "model_ko.compile(optimizer='adam',\n",
        "                 loss='binary_crossentropy',\n",
        "                 metrics=['accuracy'])\n",
        "\n",
        "history_ko = model_ko.fit(partial_X_train,\n",
        "                          partial_y_train,\n",
        "                          epochs=epochs,\n",
        "                          #callbacks=[ealry, check_ko],\n",
        "                          batch_size=512,\n",
        "                          validation_data=(X_val, y_val),\n",
        "                          verbose=1)"
      ]
    },
    {
      "cell_type": "code",
      "execution_count": 123,
      "metadata": {
        "colab": {
          "base_uri": "https://localhost:8080/"
        },
        "id": "3d0WPY6JU1SQ",
        "outputId": "dc63e18e-aab3-4813-f73a-02b68a17a840"
      },
      "outputs": [
        {
          "output_type": "stream",
          "name": "stdout",
          "text": [
            "1527/1527 - 3s - loss: 0.5358 - accuracy: 0.8138 - 3s/epoch - 2ms/step\n",
            "[0.5357624292373657, 0.8137640357017517]\n"
          ]
        }
      ],
      "source": [
        "# 모델 평가\n",
        "#model_ko_loaded = tf.keras.models.load_model('model_ko.h5')\n",
        "#results = model_ko_loaded.evaluate(X_test,  y_test, verbose=2)\n",
        "results = model_ko.evaluate(X_test,  y_test, verbose=2)\n",
        "print(results)"
      ]
    },
    {
      "cell_type": "code",
      "execution_count": 124,
      "metadata": {
        "colab": {
          "base_uri": "https://localhost:8080/"
        },
        "id": "iWj1pzYNVaLN",
        "outputId": "57fbf879-4e67-4bef-c699-dad558227a75"
      },
      "outputs": [
        {
          "output_type": "stream",
          "name": "stdout",
          "text": [
            "dict_keys(['loss', 'accuracy', 'val_loss', 'val_accuracy'])\n"
          ]
        }
      ],
      "source": [
        "history_dict_ko = history_ko.history\n",
        "print(history_dict_ko.keys())"
      ]
    },
    {
      "cell_type": "code",
      "execution_count": 125,
      "metadata": {
        "id": "Vs7sfkiPVdeV"
      },
      "outputs": [],
      "source": [
        "acc = history_dict_ko['accuracy']\n",
        "val_acc = history_dict_ko['val_accuracy']\n",
        "loss = history_dict_ko['loss']\n",
        "val_loss = history_dict_ko['val_loss']\n",
        "\n",
        "epochs = range(1, len(acc) + 1)"
      ]
    },
    {
      "cell_type": "code",
      "execution_count": 126,
      "metadata": {
        "colab": {
          "base_uri": "https://localhost:8080/",
          "height": 295
        },
        "id": "lb4nQaX1VHOd",
        "outputId": "0e04a663-d8ed-47fd-a11e-d446053bf5c6"
      },
      "outputs": [
        {
          "output_type": "display_data",
          "data": {
            "text/plain": [
              "<Figure size 432x288 with 1 Axes>"
            ],
            "image/png": "[encoded data removed]"
          },
          "metadata": {
            "needs_background": "light"
          }
        }
      ],
      "source": [
        "plt.plot(epochs, loss, 'bo', label='Training loss')\n",
        "plt.plot(epochs, val_loss, 'b', label='Validation loss')\n",
        "plt.title('Training and validation loss')\n",
        "plt.xlabel('Epochs')\n",
        "plt.ylabel('Loss')\n",
        "plt.legend()\n",
        "\n",
        "plt.show()"
      ]
    },
    {
      "cell_type": "code",
      "execution_count": 127,
      "metadata": {
        "colab": {
          "base_uri": "https://localhost:8080/",
          "height": 295
        },
        "id": "VFHFb92aVKEh",
        "outputId": "493e2bc7-058b-4a17-a3c7-773935e720f9"
      },
      "outputs": [
        {
          "output_type": "display_data",
          "data": {
            "text/plain": [
              "<Figure size 432x288 with 1 Axes>"
            ],
            "image/png": "[encoded data removed]"
          },
          "metadata": {
            "needs_background": "light"
          }
        }
      ],
      "source": [
        "plt.plot(epochs, acc, 'bo', label='Training acc')\n",
        "plt.plot(epochs, val_acc, 'b', label='Validation acc')\n",
        "plt.title('Training and validation accuracy')\n",
        "plt.xlabel('Epochs')\n",
        "plt.ylabel('Accuracy')\n",
        "plt.legend()\n",
        "\n",
        "plt.show()"
      ]
    },
    {
      "cell_type": "markdown",
      "source": [
        "\n",
        "\n",
        "---\n",
        "\n"
      ],
      "metadata": {
        "id": "On2mJ97Vg-YL"
      }
    },
    {
      "cell_type": "markdown",
      "source": [
        "## 회고"
      ],
      "metadata": {
        "id": "xrADt_SFg_0E"
      }
    },
    {
      "cell_type": "markdown",
      "source": [
        "총 3가지 구조의 모델, '1) LSTM, 2) Conv1D, 3) GlobalMaxPooling1D'를 사용하였고 한국어 word2vec 임베딩도 활용해봤다. 그러나 성능(val_acc) 면에서 큰 차이를 발견하지 못했다. 모델을 최적화하는 작업이 일정한 틀과 타당한 근거에 의한 것이 아니라 단순한 경험과 반복을 통해 이뤄지고 있다. 이에 대한 명확한 정립이 필요하다."
      ],
      "metadata": {
        "id": "8KjKe_V1hFM9"
      }
    }
  ],
  "metadata": {
    "accelerator": "TPU",
    "colab": {
      "collapsed_sections": [],
      "machine_shape": "hm",
      "name": "[E-09]SentimentAnalysis.ipynb",
      "toc_visible": true,
      "provenance": []
    },
    "kernelspec": {
      "display_name": "Python 3",
      "name": "python3"
    },
    "language_info": {
      "name": "python"
    }
  },
  "nbformat": 4,
  "nbformat_minor": 0
}