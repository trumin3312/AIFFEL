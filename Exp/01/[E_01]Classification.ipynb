{
  "nbformat": 4,
  "nbformat_minor": 0,
  "metadata": {
    "colab": {
      "name": "[E-01]Classification.ipynb",
      "provenance": [],
      "collapsed_sections": []
    },
    "kernelspec": {
      "name": "python3",
      "display_name": "Python 3"
    },
    "language_info": {
      "name": "python"
    }
  },
  "cells": [
    {
      "cell_type": "markdown",
      "source": [
        "### **1. load_digits : 손글씨를 분류해 봅시다**"
      ],
      "metadata": {
        "id": "-ZUlSjwiQMzX"
      }
    },
    {
      "cell_type": "markdown",
      "source": [
        "**(1) 필요한 모듈 import하기**"
      ],
      "metadata": {
        "id": "qSzqAqdjQ56-"
      }
    },
    {
      "cell_type": "code",
      "execution_count": 347,
      "metadata": {
        "colab": {
          "base_uri": "https://localhost:8080/"
        },
        "id": "ohgtVMevYSvU",
        "outputId": "b13f7e98-6667-4a96-836a-caaae1c076da"
      },
      "outputs": [
        {
          "output_type": "stream",
          "name": "stdout",
          "text": [
            "1.0.2\n"
          ]
        }
      ],
      "source": [
        "import sklearn\n",
        "\n",
        "print(sklearn.__version__)"
      ]
    },
    {
      "cell_type": "code",
      "source": [
        "from sklearn.datasets import load_digits\n",
        "from sklearn.model_selection import train_test_split\n",
        "from sklearn.metrics import classification_report"
      ],
      "metadata": {
        "id": "zFRMz-LuYwYH"
      },
      "execution_count": 348,
      "outputs": []
    },
    {
      "cell_type": "code",
      "source": [
        "from sklearn.tree import DecisionTreeClassifier\n",
        "from sklearn.ensemble import RandomForestClassifier\n",
        "from sklearn import svm\n",
        "from sklearn.linear_model import SGDClassifier\n",
        "from sklearn.linear_model import LogisticRegression"
      ],
      "metadata": {
        "id": "c4v6UsZqcV-N"
      },
      "execution_count": 349,
      "outputs": []
    },
    {
      "cell_type": "markdown",
      "source": [
        "**(2) 데이터 준비**"
      ],
      "metadata": {
        "id": "OEge-Gr2RO6e"
      }
    },
    {
      "cell_type": "code",
      "source": [
        "digits = load_digits()"
      ],
      "metadata": {
        "id": "FghfSUrSZb6d"
      },
      "execution_count": 350,
      "outputs": []
    },
    {
      "cell_type": "markdown",
      "source": [
        "**(3) 데이터 이해하기**"
      ],
      "metadata": {
        "id": "rOe09ZZ41Kk0"
      }
    },
    {
      "cell_type": "markdown",
      "source": [
        "\n",
        "\n",
        "*   Feature Data 지정하기\n",
        "\n"
      ],
      "metadata": {
        "id": "z7cqPZYH1bVG"
      }
    },
    {
      "cell_type": "code",
      "source": [
        "digits_feature = digits.data"
      ],
      "metadata": {
        "id": "0u67GZp01KDN"
      },
      "execution_count": 351,
      "outputs": []
    },
    {
      "cell_type": "markdown",
      "source": [
        "\n",
        "\n",
        "*   Label Data 지정하기\n",
        "\n"
      ],
      "metadata": {
        "id": "kWvZKxEO2-FJ"
      }
    },
    {
      "cell_type": "code",
      "source": [
        "digits_label = digits.target"
      ],
      "metadata": {
        "id": "DMabrxEr3Hq6"
      },
      "execution_count": 352,
      "outputs": []
    },
    {
      "cell_type": "markdown",
      "source": [
        "\n",
        "\n",
        "*   Target Names 출력해 보기\n",
        "\n"
      ],
      "metadata": {
        "id": "ufYljvng3LZA"
      }
    },
    {
      "cell_type": "code",
      "source": [
        "digits.target_names"
      ],
      "metadata": {
        "colab": {
          "base_uri": "https://localhost:8080/"
        },
        "id": "BfFmYRDqaPq0",
        "outputId": "f4bbbf83-89fa-4ec1-bb01-e1e6a75971c1"
      },
      "execution_count": 353,
      "outputs": [
        {
          "output_type": "execute_result",
          "data": {
            "text/plain": [
              "array([0, 1, 2, 3, 4, 5, 6, 7, 8, 9])"
            ]
          },
          "metadata": {},
          "execution_count": 353
        }
      ]
    },
    {
      "cell_type": "markdown",
      "source": [
        "\n",
        "\n",
        "*   데이터 Describe 해 보기\n",
        "\n"
      ],
      "metadata": {
        "id": "wlJnXVt23eym"
      }
    },
    {
      "cell_type": "code",
      "source": [
        "print(digits.DESCR)"
      ],
      "metadata": {
        "colab": {
          "base_uri": "https://localhost:8080/"
        },
        "id": "RHsd6bYgaYoG",
        "outputId": "be782fdc-866a-42f1-a315-2cfae1926026"
      },
      "execution_count": 354,
      "outputs": [
        {
          "output_type": "stream",
          "name": "stdout",
          "text": [
            ".. _digits_dataset:\n",
            "\n",
            "Optical recognition of handwritten digits dataset\n",
            "--------------------------------------------------\n",
            "\n",
            "**Data Set Characteristics:**\n",
            "\n",
            "    :Number of Instances: 1797\n",
            "    :Number of Attributes: 64\n",
            "    :Attribute Information: 8x8 image of integer pixels in the range 0..16.\n",
            "    :Missing Attribute Values: None\n",
            "    :Creator: E. Alpaydin (alpaydin '@' boun.edu.tr)\n",
            "    :Date: July; 1998\n",
            "\n",
            "This is a copy of the test set of the UCI ML hand-written digits datasets\n",
            "https://archive.ics.uci.edu/ml/datasets/Optical+Recognition+of+Handwritten+Digits\n",
            "\n",
            "The data set contains images of hand-written digits: 10 classes where\n",
            "each class refers to a digit.\n",
            "\n",
            "Preprocessing programs made available by NIST were used to extract\n",
            "normalized bitmaps of handwritten digits from a preprinted form. From a\n",
            "total of 43 people, 30 contributed to the training set and different 13\n",
            "to the test set. 32x32 bitmaps are divided into nonoverlapping blocks of\n",
            "4x4 and the number of on pixels are counted in each block. This generates\n",
            "an input matrix of 8x8 where each element is an integer in the range\n",
            "0..16. This reduces dimensionality and gives invariance to small\n",
            "distortions.\n",
            "\n",
            "For info on NIST preprocessing routines, see M. D. Garris, J. L. Blue, G.\n",
            "T. Candela, D. L. Dimmick, J. Geist, P. J. Grother, S. A. Janet, and C.\n",
            "L. Wilson, NIST Form-Based Handprint Recognition System, NISTIR 5469,\n",
            "1994.\n",
            "\n",
            ".. topic:: References\n",
            "\n",
            "  - C. Kaynak (1995) Methods of Combining Multiple Classifiers and Their\n",
            "    Applications to Handwritten Digit Recognition, MSc Thesis, Institute of\n",
            "    Graduate Studies in Science and Engineering, Bogazici University.\n",
            "  - E. Alpaydin, C. Kaynak (1998) Cascading Classifiers, Kybernetika.\n",
            "  - Ken Tang and Ponnuthurai N. Suganthan and Xi Yao and A. Kai Qin.\n",
            "    Linear dimensionalityreduction using relevance weighted LDA. School of\n",
            "    Electrical and Electronic Engineering Nanyang Technological University.\n",
            "    2005.\n",
            "  - Claudio Gentile. A New Approximate Maximal Margin Classification\n",
            "    Algorithm. NIPS. 2000.\n",
            "\n"
          ]
        }
      ]
    },
    {
      "cell_type": "markdown",
      "source": [
        "**(4) train, test 데이터 분리**"
      ],
      "metadata": {
        "id": "XemI9bUjCdQS"
      }
    },
    {
      "cell_type": "code",
      "source": [
        "X_train, X_test, y_train, y_test = train_test_split(digits_feature, digits_label, test_size=0.2, random_state=1)"
      ],
      "metadata": {
        "id": "a4B-6XcibUra"
      },
      "execution_count": 355,
      "outputs": []
    },
    {
      "cell_type": "markdown",
      "source": [
        "**(5) 다양한 모델로 학습시켜보기**"
      ],
      "metadata": {
        "id": "Mww24JKWC4te"
      }
    },
    {
      "cell_type": "markdown",
      "source": [
        "\n",
        "\n",
        "*   Decision Tree 사용해 보기\n",
        "\n"
      ],
      "metadata": {
        "id": "KTU1VMokC92_"
      }
    },
    {
      "cell_type": "code",
      "source": [
        "decision_tree = DecisionTreeClassifier(random_state=1)\n",
        "decision_tree.fit(X_train, y_train)\n",
        "y_pred_decision_tree = decision_tree.predict(X_test)\n",
        "\n",
        "print(classification_report(y_test, y_pred_decision_tree))"
      ],
      "metadata": {
        "colab": {
          "base_uri": "https://localhost:8080/"
        },
        "id": "x7d-a6JpeWR9",
        "outputId": "4389db87-5942-40c2-efc8-856870a3bc65"
      },
      "execution_count": 356,
      "outputs": [
        {
          "output_type": "stream",
          "name": "stdout",
          "text": [
            "              precision    recall  f1-score   support\n",
            "\n",
            "           0       1.00      0.93      0.96        43\n",
            "           1       0.91      0.83      0.87        35\n",
            "           2       0.83      0.83      0.83        36\n",
            "           3       0.78      0.71      0.74        41\n",
            "           4       0.82      0.84      0.83        38\n",
            "           5       0.78      0.97      0.87        30\n",
            "           6       0.88      0.97      0.92        37\n",
            "           7       0.78      0.76      0.77        37\n",
            "           8       0.83      0.86      0.85        29\n",
            "           9       0.75      0.71      0.73        34\n",
            "\n",
            "    accuracy                           0.84       360\n",
            "   macro avg       0.84      0.84      0.84       360\n",
            "weighted avg       0.84      0.84      0.84       360\n",
            "\n"
          ]
        }
      ]
    },
    {
      "cell_type": "markdown",
      "source": [
        "\n",
        "*   Random Forest 사용해 보기"
      ],
      "metadata": {
        "id": "NsIwossVFH8q"
      }
    },
    {
      "cell_type": "code",
      "source": [
        "random_forest = RandomForestClassifier(random_state=2)\n",
        "random_forest.fit(X_train, y_train)\n",
        "y_pred_random_forest = random_forest.predict(X_test)\n",
        "\n",
        "print(classification_report(y_test, y_pred_random_forest))"
      ],
      "metadata": {
        "id": "g8pyK8gkfUXT",
        "colab": {
          "base_uri": "https://localhost:8080/"
        },
        "outputId": "4aa936e9-f6ac-45c1-c016-cf721bfe0221"
      },
      "execution_count": 357,
      "outputs": [
        {
          "output_type": "stream",
          "name": "stdout",
          "text": [
            "              precision    recall  f1-score   support\n",
            "\n",
            "           0       1.00      0.95      0.98        43\n",
            "           1       1.00      1.00      1.00        35\n",
            "           2       1.00      1.00      1.00        36\n",
            "           3       1.00      0.98      0.99        41\n",
            "           4       0.95      1.00      0.97        38\n",
            "           5       0.97      1.00      0.98        30\n",
            "           6       1.00      1.00      1.00        37\n",
            "           7       1.00      0.97      0.99        37\n",
            "           8       0.97      0.97      0.97        29\n",
            "           9       0.94      0.97      0.96        34\n",
            "\n",
            "    accuracy                           0.98       360\n",
            "   macro avg       0.98      0.98      0.98       360\n",
            "weighted avg       0.98      0.98      0.98       360\n",
            "\n"
          ]
        }
      ]
    },
    {
      "cell_type": "markdown",
      "source": [
        "\n",
        "\n",
        "* SVM 사용해 보기\n",
        "\n"
      ],
      "metadata": {
        "id": "SN9Y3vWpFQO-"
      }
    },
    {
      "cell_type": "code",
      "source": [
        "svm = svm.SVC()\n",
        "svm.fit(X_train, y_train)\n",
        "y_pred_svm = svm.predict(X_test)\n",
        "\n",
        "print(classification_report(y_test, y_pred_svm))"
      ],
      "metadata": {
        "id": "Yd34LLF0ghVj",
        "colab": {
          "base_uri": "https://localhost:8080/"
        },
        "outputId": "a5920719-5c70-4c35-daea-b8181ff3cb47"
      },
      "execution_count": 358,
      "outputs": [
        {
          "output_type": "stream",
          "name": "stdout",
          "text": [
            "              precision    recall  f1-score   support\n",
            "\n",
            "           0       1.00      1.00      1.00        43\n",
            "           1       1.00      1.00      1.00        35\n",
            "           2       1.00      1.00      1.00        36\n",
            "           3       1.00      1.00      1.00        41\n",
            "           4       1.00      1.00      1.00        38\n",
            "           5       0.97      1.00      0.98        30\n",
            "           6       1.00      1.00      1.00        37\n",
            "           7       1.00      0.97      0.99        37\n",
            "           8       1.00      0.97      0.98        29\n",
            "           9       0.94      0.97      0.96        34\n",
            "\n",
            "    accuracy                           0.99       360\n",
            "   macro avg       0.99      0.99      0.99       360\n",
            "weighted avg       0.99      0.99      0.99       360\n",
            "\n"
          ]
        }
      ]
    },
    {
      "cell_type": "markdown",
      "source": [
        "\n",
        "*   SGD Classifier 사용해 보기"
      ],
      "metadata": {
        "id": "-t-UE3RHFZdI"
      }
    },
    {
      "cell_type": "code",
      "source": [
        "sgd = SGDClassifier()\n",
        "sgd.fit(X_train, y_train)\n",
        "y_pred_sgd = sgd.predict(X_test)\n",
        "\n",
        "print(classification_report(y_test, y_pred_sgd))"
      ],
      "metadata": {
        "id": "vTrMBfAchnlL",
        "colab": {
          "base_uri": "https://localhost:8080/"
        },
        "outputId": "5fba3cfd-6ed3-4f0d-e404-31f4820b8c96"
      },
      "execution_count": 359,
      "outputs": [
        {
          "output_type": "stream",
          "name": "stdout",
          "text": [
            "              precision    recall  f1-score   support\n",
            "\n",
            "           0       1.00      0.98      0.99        43\n",
            "           1       0.94      0.94      0.94        35\n",
            "           2       1.00      0.97      0.99        36\n",
            "           3       1.00      0.90      0.95        41\n",
            "           4       0.90      1.00      0.95        38\n",
            "           5       0.97      0.93      0.95        30\n",
            "           6       0.97      1.00      0.99        37\n",
            "           7       1.00      0.92      0.96        37\n",
            "           8       0.83      1.00      0.91        29\n",
            "           9       0.91      0.88      0.90        34\n",
            "\n",
            "    accuracy                           0.95       360\n",
            "   macro avg       0.95      0.95      0.95       360\n",
            "weighted avg       0.96      0.95      0.95       360\n",
            "\n"
          ]
        }
      ]
    },
    {
      "cell_type": "markdown",
      "source": [
        "\n",
        "\n",
        "*   Logistic Regression 사용해 보기\n",
        "\n"
      ],
      "metadata": {
        "id": "70PicPrJFjIM"
      }
    },
    {
      "cell_type": "code",
      "source": [
        "logistic_regression = LogisticRegression(max_iter=3000)\n",
        "logistic_regression.fit(X_train, y_train)\n",
        "y_pred_logistic_regression = logistic_regression.predict(X_test)\n",
        "\n",
        "print(classification_report(y_test, y_pred_logistic_regression))"
      ],
      "metadata": {
        "id": "dg270v8QiD0J",
        "colab": {
          "base_uri": "https://localhost:8080/"
        },
        "outputId": "a7c83a2d-a9f6-42d2-913c-ad9169b26009"
      },
      "execution_count": 360,
      "outputs": [
        {
          "output_type": "stream",
          "name": "stdout",
          "text": [
            "              precision    recall  f1-score   support\n",
            "\n",
            "           0       1.00      0.98      0.99        43\n",
            "           1       0.97      1.00      0.99        35\n",
            "           2       1.00      1.00      1.00        36\n",
            "           3       0.98      0.98      0.98        41\n",
            "           4       0.95      1.00      0.97        38\n",
            "           5       0.88      0.93      0.90        30\n",
            "           6       1.00      1.00      1.00        37\n",
            "           7       1.00      0.95      0.97        37\n",
            "           8       0.93      0.93      0.93        29\n",
            "           9       1.00      0.94      0.97        34\n",
            "\n",
            "    accuracy                           0.97       360\n",
            "   macro avg       0.97      0.97      0.97       360\n",
            "weighted avg       0.97      0.97      0.97       360\n",
            "\n"
          ]
        }
      ]
    },
    {
      "cell_type": "markdown",
      "source": [
        "**(6) 모델을 평가해 보기**"
      ],
      "metadata": {
        "id": "7yR9LAq7QoN3"
      }
    },
    {
      "cell_type": "markdown",
      "source": [
        "손글씨 데이터라는 점을 주목했을 때,\n",
        "\n",
        "*precision*과 *recall*을 구분하는 것이 큰 의미가 없다.\n",
        "\n",
        "손글씨 '1'을 예로 들면,\n",
        "\n",
        "> 1) 실제 '1'을 다른 숫자로 예측한 것이 많을 경우(= *recall* 값이 작아지는 경우)\n",
        "\n",
        "> 2) 실제 '1'이 아닌 숫자를 '1'로 예측한 것이 많을 경우(= *precision* 값이 작아지는 경우)는\n",
        "\n",
        "똑같은 상황으로 간주할 수 있다. 손글씨마다 특정한 의미가 존재한다고 볼 수 없기 때문이다.\n",
        "\n",
        "즉, 이는 단순하게 손글씨의 실제 값과 예측 값이 일치하느냐 일치하지 않느냐의 문제라고 볼 수 있다.\n",
        "\n",
        "따라서, *precision*과 *recall*의 조화평균인 *f1-score*를 평가 지표로 선정하는 것이 타당하다.\n",
        "\n",
        "이 경우 *f1-score*가 0.99로 가장 높은 **svm**이 가장 좋은 성능을 보여준다고 판단할 수 있다."
      ],
      "metadata": {
        "id": "6SZ4MipAQwvD"
      }
    },
    {
      "cell_type": "markdown",
      "source": [
        "\n",
        "\n",
        "---\n",
        "\n"
      ],
      "metadata": {
        "id": "olc6g8khdMnb"
      }
    },
    {
      "cell_type": "markdown",
      "source": [
        "### **2. load_wine : 와인을 분류해 봅시다**"
      ],
      "metadata": {
        "id": "Zd3hBR37dP7T"
      }
    },
    {
      "cell_type": "markdown",
      "source": [
        "**(1) 필요한 모듈 import하기**"
      ],
      "metadata": {
        "id": "oG33a8s9df1S"
      }
    },
    {
      "cell_type": "code",
      "source": [
        "'''\n",
        "import sklearn\n",
        "\n",
        "print(sklearn.__version__)\n",
        "'''"
      ],
      "metadata": {
        "colab": {
          "base_uri": "https://localhost:8080/",
          "height": 35
        },
        "id": "sLOLbnPYdpwc",
        "outputId": "28e0209c-4901-4154-ac01-5318a724a112"
      },
      "execution_count": 361,
      "outputs": [
        {
          "output_type": "execute_result",
          "data": {
            "text/plain": [
              "'\\nimport sklearn\\n\\nprint(sklearn.__version__)\\n'"
            ],
            "application/vnd.google.colaboratory.intrinsic+json": {
              "type": "string"
            }
          },
          "metadata": {},
          "execution_count": 361
        }
      ]
    },
    {
      "cell_type": "code",
      "source": [
        "from sklearn.datasets import load_wine\n",
        "'''\n",
        "from sklearn.model_selection import train_test_split\n",
        "from sklearn.metrics import classification_report\n",
        "'''"
      ],
      "metadata": {
        "colab": {
          "base_uri": "https://localhost:8080/",
          "height": 35
        },
        "id": "NhMkWHgydyyo",
        "outputId": "3895fc21-9484-4b2d-ab8b-470bfbf68cb1"
      },
      "execution_count": 362,
      "outputs": [
        {
          "output_type": "execute_result",
          "data": {
            "text/plain": [
              "'\\nfrom sklearn.model_selection import train_test_split\\nfrom sklearn.metrics import classification_report\\n'"
            ],
            "application/vnd.google.colaboratory.intrinsic+json": {
              "type": "string"
            }
          },
          "metadata": {},
          "execution_count": 362
        }
      ]
    },
    {
      "cell_type": "code",
      "source": [
        "'''\n",
        "from sklearn.tree import DecisionTreeClassifier\n",
        "from sklearn.ensemble import RandomForestClassifier\n",
        "'''\n",
        "from sklearn import svm\n",
        "'''\n",
        "from sklearn.linear_model import SGDClassifier\n",
        "from sklearn.linear_model import LogisticRegression\n",
        "'''"
      ],
      "metadata": {
        "colab": {
          "base_uri": "https://localhost:8080/",
          "height": 35
        },
        "id": "Ck3DwUWBd02T",
        "outputId": "b3258c23-a77a-4587-8a83-5c7c8d95f4ff"
      },
      "execution_count": 363,
      "outputs": [
        {
          "output_type": "execute_result",
          "data": {
            "text/plain": [
              "'\\nfrom sklearn.linear_model import SGDClassifier\\nfrom sklearn.linear_model import LogisticRegression\\n'"
            ],
            "application/vnd.google.colaboratory.intrinsic+json": {
              "type": "string"
            }
          },
          "metadata": {},
          "execution_count": 363
        }
      ]
    },
    {
      "cell_type": "markdown",
      "source": [
        "**(2) 데이터 준비**"
      ],
      "metadata": {
        "id": "oGsP4TxVeNKL"
      }
    },
    {
      "cell_type": "code",
      "source": [
        "wine = load_wine()"
      ],
      "metadata": {
        "id": "6v_DBZaAeOnZ"
      },
      "execution_count": 364,
      "outputs": []
    },
    {
      "cell_type": "markdown",
      "source": [
        "**(3) 데이터 이해하기**"
      ],
      "metadata": {
        "id": "qxTgrodQeRD7"
      }
    },
    {
      "cell_type": "markdown",
      "source": [
        "*   Feature Data 지정하기"
      ],
      "metadata": {
        "id": "8cjsNA0UeWc0"
      }
    },
    {
      "cell_type": "code",
      "source": [
        "wine_feature = wine.data"
      ],
      "metadata": {
        "id": "EUwdFlyNecJM"
      },
      "execution_count": 365,
      "outputs": []
    },
    {
      "cell_type": "markdown",
      "source": [
        "*   Label Data 지정하기"
      ],
      "metadata": {
        "id": "iZ7BRgebehaM"
      }
    },
    {
      "cell_type": "code",
      "source": [
        "wine_label = wine.target"
      ],
      "metadata": {
        "id": "JdxpWKyXenOy"
      },
      "execution_count": 366,
      "outputs": []
    },
    {
      "cell_type": "markdown",
      "source": [
        "*   Target Names 출력해 보기"
      ],
      "metadata": {
        "id": "JbDWR-6Kegry"
      }
    },
    {
      "cell_type": "code",
      "source": [
        "wine.target_names"
      ],
      "metadata": {
        "colab": {
          "base_uri": "https://localhost:8080/"
        },
        "id": "hXAaPtXuexkY",
        "outputId": "03ca64d3-d866-4493-c773-49fef08f532b"
      },
      "execution_count": 367,
      "outputs": [
        {
          "output_type": "execute_result",
          "data": {
            "text/plain": [
              "array(['class_0', 'class_1', 'class_2'], dtype='<U7')"
            ]
          },
          "metadata": {},
          "execution_count": 367
        }
      ]
    },
    {
      "cell_type": "markdown",
      "source": [
        "*   데이터 Describe 해 보기"
      ],
      "metadata": {
        "id": "6sKfCak2ewiy"
      }
    },
    {
      "cell_type": "code",
      "source": [
        "print(wine.DESCR)"
      ],
      "metadata": {
        "colab": {
          "base_uri": "https://localhost:8080/"
        },
        "id": "TvFhR8hafE8F",
        "outputId": "7842026c-b446-4993-8c03-232e90f78e53"
      },
      "execution_count": 368,
      "outputs": [
        {
          "output_type": "stream",
          "name": "stdout",
          "text": [
            ".. _wine_dataset:\n",
            "\n",
            "Wine recognition dataset\n",
            "------------------------\n",
            "\n",
            "**Data Set Characteristics:**\n",
            "\n",
            "    :Number of Instances: 178 (50 in each of three classes)\n",
            "    :Number of Attributes: 13 numeric, predictive attributes and the class\n",
            "    :Attribute Information:\n",
            " \t\t- Alcohol\n",
            " \t\t- Malic acid\n",
            " \t\t- Ash\n",
            "\t\t- Alcalinity of ash  \n",
            " \t\t- Magnesium\n",
            "\t\t- Total phenols\n",
            " \t\t- Flavanoids\n",
            " \t\t- Nonflavanoid phenols\n",
            " \t\t- Proanthocyanins\n",
            "\t\t- Color intensity\n",
            " \t\t- Hue\n",
            " \t\t- OD280/OD315 of diluted wines\n",
            " \t\t- Proline\n",
            "\n",
            "    - class:\n",
            "            - class_0\n",
            "            - class_1\n",
            "            - class_2\n",
            "\t\t\n",
            "    :Summary Statistics:\n",
            "    \n",
            "    ============================= ==== ===== ======= =====\n",
            "                                   Min   Max   Mean     SD\n",
            "    ============================= ==== ===== ======= =====\n",
            "    Alcohol:                      11.0  14.8    13.0   0.8\n",
            "    Malic Acid:                   0.74  5.80    2.34  1.12\n",
            "    Ash:                          1.36  3.23    2.36  0.27\n",
            "    Alcalinity of Ash:            10.6  30.0    19.5   3.3\n",
            "    Magnesium:                    70.0 162.0    99.7  14.3\n",
            "    Total Phenols:                0.98  3.88    2.29  0.63\n",
            "    Flavanoids:                   0.34  5.08    2.03  1.00\n",
            "    Nonflavanoid Phenols:         0.13  0.66    0.36  0.12\n",
            "    Proanthocyanins:              0.41  3.58    1.59  0.57\n",
            "    Colour Intensity:              1.3  13.0     5.1   2.3\n",
            "    Hue:                          0.48  1.71    0.96  0.23\n",
            "    OD280/OD315 of diluted wines: 1.27  4.00    2.61  0.71\n",
            "    Proline:                       278  1680     746   315\n",
            "    ============================= ==== ===== ======= =====\n",
            "\n",
            "    :Missing Attribute Values: None\n",
            "    :Class Distribution: class_0 (59), class_1 (71), class_2 (48)\n",
            "    :Creator: R.A. Fisher\n",
            "    :Donor: Michael Marshall (MARSHALL%PLU@io.arc.nasa.gov)\n",
            "    :Date: July, 1988\n",
            "\n",
            "This is a copy of UCI ML Wine recognition datasets.\n",
            "https://archive.ics.uci.edu/ml/machine-learning-databases/wine/wine.data\n",
            "\n",
            "The data is the results of a chemical analysis of wines grown in the same\n",
            "region in Italy by three different cultivators. There are thirteen different\n",
            "measurements taken for different constituents found in the three types of\n",
            "wine.\n",
            "\n",
            "Original Owners: \n",
            "\n",
            "Forina, M. et al, PARVUS - \n",
            "An Extendible Package for Data Exploration, Classification and Correlation. \n",
            "Institute of Pharmaceutical and Food Analysis and Technologies,\n",
            "Via Brigata Salerno, 16147 Genoa, Italy.\n",
            "\n",
            "Citation:\n",
            "\n",
            "Lichman, M. (2013). UCI Machine Learning Repository\n",
            "[https://archive.ics.uci.edu/ml]. Irvine, CA: University of California,\n",
            "School of Information and Computer Science. \n",
            "\n",
            ".. topic:: References\n",
            "\n",
            "  (1) S. Aeberhard, D. Coomans and O. de Vel, \n",
            "  Comparison of Classifiers in High Dimensional Settings, \n",
            "  Tech. Rep. no. 92-02, (1992), Dept. of Computer Science and Dept. of  \n",
            "  Mathematics and Statistics, James Cook University of North Queensland. \n",
            "  (Also submitted to Technometrics). \n",
            "\n",
            "  The data was used with many others for comparing various \n",
            "  classifiers. The classes are separable, though only RDA \n",
            "  has achieved 100% correct classification. \n",
            "  (RDA : 100%, QDA 99.4%, LDA 98.9%, 1NN 96.1% (z-transformed data)) \n",
            "  (All results using the leave-one-out technique) \n",
            "\n",
            "  (2) S. Aeberhard, D. Coomans and O. de Vel, \n",
            "  \"THE CLASSIFICATION PERFORMANCE OF RDA\" \n",
            "  Tech. Rep. no. 92-01, (1992), Dept. of Computer Science and Dept. of \n",
            "  Mathematics and Statistics, James Cook University of North Queensland. \n",
            "  (Also submitted to Journal of Chemometrics).\n",
            "\n"
          ]
        }
      ]
    },
    {
      "cell_type": "markdown",
      "source": [
        "**(4) train, test 데이터 분리**"
      ],
      "metadata": {
        "id": "UZHDwMRafUrO"
      }
    },
    {
      "cell_type": "code",
      "source": [
        "X_train, X_test, y_train, y_test = train_test_split(wine_feature, wine_label, test_size=0.2, random_state=1)"
      ],
      "metadata": {
        "id": "tQLiOc1KfUHW"
      },
      "execution_count": 369,
      "outputs": []
    },
    {
      "cell_type": "markdown",
      "source": [
        "**(5) 다양한 모델로 학습시켜보기**"
      ],
      "metadata": {
        "id": "YeIrh1sUfifp"
      }
    },
    {
      "cell_type": "markdown",
      "source": [
        "*   Decision Tree 사용해 보기"
      ],
      "metadata": {
        "id": "hVvS3RBHfnZr"
      }
    },
    {
      "cell_type": "code",
      "source": [
        "decision_tree = DecisionTreeClassifier(random_state=1)\n",
        "decision_tree.fit(X_train, y_train)\n",
        "y_pred_decision_tree = decision_tree.predict(X_test)\n",
        "\n",
        "print(classification_report(y_test, y_pred_decision_tree))"
      ],
      "metadata": {
        "colab": {
          "base_uri": "https://localhost:8080/"
        },
        "id": "eRtXFC3rfh_Z",
        "outputId": "09c0a96b-8757-4565-fd5c-6e87c807c559"
      },
      "execution_count": 370,
      "outputs": [
        {
          "output_type": "stream",
          "name": "stdout",
          "text": [
            "              precision    recall  f1-score   support\n",
            "\n",
            "           0       0.93      0.93      0.93        14\n",
            "           1       0.75      0.92      0.83        13\n",
            "           2       1.00      0.67      0.80         9\n",
            "\n",
            "    accuracy                           0.86        36\n",
            "   macro avg       0.89      0.84      0.85        36\n",
            "weighted avg       0.88      0.86      0.86        36\n",
            "\n"
          ]
        }
      ]
    },
    {
      "cell_type": "markdown",
      "source": [
        "*   Random Forest 사용해 보기"
      ],
      "metadata": {
        "id": "A0YeGqujfxNR"
      }
    },
    {
      "cell_type": "code",
      "source": [
        "random_forest = RandomForestClassifier(random_state=2)\n",
        "random_forest.fit(X_train, y_train)\n",
        "y_pred_random_forest = random_forest.predict(X_test)\n",
        "\n",
        "print(classification_report(y_test, y_pred_random_forest))"
      ],
      "metadata": {
        "colab": {
          "base_uri": "https://localhost:8080/"
        },
        "id": "fM5E4XX-fyCw",
        "outputId": "c23c4e39-3b79-4f4d-a86c-85b1d09ac79b"
      },
      "execution_count": 371,
      "outputs": [
        {
          "output_type": "stream",
          "name": "stdout",
          "text": [
            "              precision    recall  f1-score   support\n",
            "\n",
            "           0       0.93      1.00      0.97        14\n",
            "           1       1.00      0.92      0.96        13\n",
            "           2       1.00      1.00      1.00         9\n",
            "\n",
            "    accuracy                           0.97        36\n",
            "   macro avg       0.98      0.97      0.98        36\n",
            "weighted avg       0.97      0.97      0.97        36\n",
            "\n"
          ]
        }
      ]
    },
    {
      "cell_type": "markdown",
      "source": [
        "* SVM 사용해 보기"
      ],
      "metadata": {
        "id": "4EpMhQz5f0Q6"
      }
    },
    {
      "cell_type": "code",
      "source": [
        "svm = svm.SVC()\n",
        "svm.fit(X_train, y_train)\n",
        "y_pred_svm = svm.predict(X_test)\n",
        "\n",
        "print(classification_report(y_test, y_pred_svm))"
      ],
      "metadata": {
        "colab": {
          "base_uri": "https://localhost:8080/"
        },
        "id": "ngb13RLJf5GJ",
        "outputId": "e436f744-139a-4fce-9e90-e9da37508942"
      },
      "execution_count": 372,
      "outputs": [
        {
          "output_type": "stream",
          "name": "stdout",
          "text": [
            "              precision    recall  f1-score   support\n",
            "\n",
            "           0       0.92      0.79      0.85        14\n",
            "           1       0.58      0.85      0.69        13\n",
            "           2       0.20      0.11      0.14         9\n",
            "\n",
            "    accuracy                           0.64        36\n",
            "   macro avg       0.57      0.58      0.56        36\n",
            "weighted avg       0.62      0.64      0.61        36\n",
            "\n"
          ]
        }
      ]
    },
    {
      "cell_type": "markdown",
      "source": [
        "*   SGD Classifier 사용해 보기"
      ],
      "metadata": {
        "id": "tWNZddPFf9kp"
      }
    },
    {
      "cell_type": "code",
      "source": [
        "sgd = SGDClassifier()\n",
        "sgd.fit(X_train, y_train)\n",
        "y_pred_sgd = sgd.predict(X_test)\n",
        "\n",
        "print(classification_report(y_test, y_pred_sgd))"
      ],
      "metadata": {
        "colab": {
          "base_uri": "https://localhost:8080/"
        },
        "id": "sMyANv4UgBKr",
        "outputId": "22d2d014-e9f1-4d76-bd30-79cf7ed39758"
      },
      "execution_count": 373,
      "outputs": [
        {
          "output_type": "stream",
          "name": "stdout",
          "text": [
            "              precision    recall  f1-score   support\n",
            "\n",
            "           0       1.00      0.86      0.92        14\n",
            "           1       0.73      0.85      0.79        13\n",
            "           2       0.56      0.56      0.56         9\n",
            "\n",
            "    accuracy                           0.78        36\n",
            "   macro avg       0.76      0.75      0.75        36\n",
            "weighted avg       0.79      0.78      0.78        36\n",
            "\n"
          ]
        }
      ]
    },
    {
      "cell_type": "markdown",
      "source": [
        "*   Logistic Regression 사용해 보기"
      ],
      "metadata": {
        "id": "_qaNP11LgDVt"
      }
    },
    {
      "cell_type": "code",
      "source": [
        "logistic_regression = LogisticRegression(max_iter=3000)\n",
        "logistic_regression.fit(X_train, y_train)\n",
        "y_pred_logistic_regression = logistic_regression.predict(X_test)\n",
        "\n",
        "print(classification_report(y_test, y_pred_logistic_regression))"
      ],
      "metadata": {
        "colab": {
          "base_uri": "https://localhost:8080/"
        },
        "id": "U4OTfpvIgMJK",
        "outputId": "c53baf0a-b2de-4f18-8357-0fca55a9cfd6"
      },
      "execution_count": 374,
      "outputs": [
        {
          "output_type": "stream",
          "name": "stdout",
          "text": [
            "              precision    recall  f1-score   support\n",
            "\n",
            "           0       0.93      1.00      0.97        14\n",
            "           1       0.92      0.92      0.92        13\n",
            "           2       1.00      0.89      0.94         9\n",
            "\n",
            "    accuracy                           0.94        36\n",
            "   macro avg       0.95      0.94      0.94        36\n",
            "weighted avg       0.95      0.94      0.94        36\n",
            "\n"
          ]
        }
      ]
    },
    {
      "cell_type": "markdown",
      "source": [
        "**(6) 모델을 평가해 보기**"
      ],
      "metadata": {
        "id": "eAi-7k75gI9Q"
      }
    },
    {
      "cell_type": "markdown",
      "source": [
        "다른 조건들이 없다면 손글씨 데이터와 마찬가지로 *precision*과 *recall*은 큰 의미를 내포하고 있지 않다.\n",
        "\n",
        "따라서, 동일하게 *f1-score*를 평가 지표로 선정하는 것이 타당하다.\n",
        "\n",
        "이 경우 *f1-score*가 0.97로 가장 높은 **Random Forest**가 가장 좋은 성능을 보여준다고 판단할 수 있다."
      ],
      "metadata": {
        "id": "fBKN8kmZgUqt"
      }
    },
    {
      "cell_type": "markdown",
      "source": [
        "\n",
        "\n",
        "---\n",
        "\n"
      ],
      "metadata": {
        "id": "DscsElvOjb8m"
      }
    },
    {
      "cell_type": "markdown",
      "source": [
        "### **3. load_breast_cancer : 유방암 여부를 진단해 봅시다**"
      ],
      "metadata": {
        "id": "hXQRHYdTjdFa"
      }
    },
    {
      "cell_type": "markdown",
      "source": [
        "**(1) 필요한 모듈 import하기**"
      ],
      "metadata": {
        "id": "ZoY7xqDdj5Qw"
      }
    },
    {
      "cell_type": "code",
      "source": [
        "'''\n",
        "import sklearn\n",
        "\n",
        "print(sklearn.__version__)\n",
        "'''"
      ],
      "metadata": {
        "colab": {
          "base_uri": "https://localhost:8080/",
          "height": 35
        },
        "id": "RjsQ33V0pvpl",
        "outputId": "18936959-2e13-421b-ceb5-9bee7fe9c648"
      },
      "execution_count": 375,
      "outputs": [
        {
          "output_type": "execute_result",
          "data": {
            "text/plain": [
              "'\\nimport sklearn\\n\\nprint(sklearn.__version__)\\n'"
            ],
            "application/vnd.google.colaboratory.intrinsic+json": {
              "type": "string"
            }
          },
          "metadata": {},
          "execution_count": 375
        }
      ]
    },
    {
      "cell_type": "code",
      "source": [
        "from sklearn.datasets import load_breast_cancer\n",
        "'''\n",
        "from sklearn.model_selection import train_test_split\n",
        "from sklearn.metrics import classification_report\n",
        "'''"
      ],
      "metadata": {
        "colab": {
          "base_uri": "https://localhost:8080/",
          "height": 35
        },
        "id": "TIKzhaONp28c",
        "outputId": "1bcae8ef-2767-49ed-bd97-701e7d722421"
      },
      "execution_count": 376,
      "outputs": [
        {
          "output_type": "execute_result",
          "data": {
            "text/plain": [
              "'\\nfrom sklearn.model_selection import train_test_split\\nfrom sklearn.metrics import classification_report\\n'"
            ],
            "application/vnd.google.colaboratory.intrinsic+json": {
              "type": "string"
            }
          },
          "metadata": {},
          "execution_count": 376
        }
      ]
    },
    {
      "cell_type": "code",
      "source": [
        "'''\n",
        "from sklearn.tree import DecisionTreeClassifier\n",
        "from sklearn.ensemble import RandomForestClassifier\n",
        "'''\n",
        "from sklearn import svm\n",
        "'''\n",
        "from sklearn.linear_model import SGDClassifier\n",
        "from sklearn.linear_model import LogisticRegression\n",
        "'''"
      ],
      "metadata": {
        "colab": {
          "base_uri": "https://localhost:8080/",
          "height": 35
        },
        "id": "wL_3DN_Ip2tT",
        "outputId": "856bd1aa-361c-437b-9190-97c088fe6b11"
      },
      "execution_count": 377,
      "outputs": [
        {
          "output_type": "execute_result",
          "data": {
            "text/plain": [
              "'\\nfrom sklearn.linear_model import SGDClassifier\\nfrom sklearn.linear_model import LogisticRegression\\n'"
            ],
            "application/vnd.google.colaboratory.intrinsic+json": {
              "type": "string"
            }
          },
          "metadata": {},
          "execution_count": 377
        }
      ]
    },
    {
      "cell_type": "markdown",
      "source": [
        "**(2) 데이터 준비**"
      ],
      "metadata": {
        "id": "IxmUbgwHqWjY"
      }
    },
    {
      "cell_type": "code",
      "source": [
        "breast_cancer = load_breast_cancer()"
      ],
      "metadata": {
        "id": "Cl4xlKKtrsb0"
      },
      "execution_count": 378,
      "outputs": []
    },
    {
      "cell_type": "markdown",
      "source": [
        "**(3) 데이터 이해하기**"
      ],
      "metadata": {
        "id": "JCho0Ck8qXfi"
      }
    },
    {
      "cell_type": "markdown",
      "source": [
        "*   Feature Data 지정하기"
      ],
      "metadata": {
        "id": "esCnGFusqYAB"
      }
    },
    {
      "cell_type": "code",
      "source": [
        "breast_cancer_feature = breast_cancer.data"
      ],
      "metadata": {
        "id": "0WOoQLUErzHS"
      },
      "execution_count": 379,
      "outputs": []
    },
    {
      "cell_type": "markdown",
      "source": [
        "*   Label Data 지정하기"
      ],
      "metadata": {
        "id": "xRS-oinVqYg_"
      }
    },
    {
      "cell_type": "code",
      "source": [
        "breast_cancer_label = breast_cancer.target"
      ],
      "metadata": {
        "id": "uZKv4HF-r1pC"
      },
      "execution_count": 380,
      "outputs": []
    },
    {
      "cell_type": "markdown",
      "source": [
        "*   Target Names 출력해 보기"
      ],
      "metadata": {
        "id": "0EjHNV5OqZFM"
      }
    },
    {
      "cell_type": "code",
      "source": [
        "breast_cancer.target_names"
      ],
      "metadata": {
        "colab": {
          "base_uri": "https://localhost:8080/"
        },
        "id": "mVpXuLiRr5a_",
        "outputId": "8b4cd866-f214-4f25-c63f-e1700fc5a802"
      },
      "execution_count": 381,
      "outputs": [
        {
          "output_type": "execute_result",
          "data": {
            "text/plain": [
              "array(['malignant', 'benign'], dtype='<U9')"
            ]
          },
          "metadata": {},
          "execution_count": 381
        }
      ]
    },
    {
      "cell_type": "markdown",
      "source": [
        "*   데이터 Describe 해 보기"
      ],
      "metadata": {
        "id": "JUw3-0hsqZre"
      }
    },
    {
      "cell_type": "code",
      "source": [
        "print(breast_cancer.DESCR)"
      ],
      "metadata": {
        "colab": {
          "base_uri": "https://localhost:8080/"
        },
        "id": "EZ6mx5NAr8X0",
        "outputId": "fb5510d9-b038-42ee-9acf-5a063c4981bb"
      },
      "execution_count": 382,
      "outputs": [
        {
          "output_type": "stream",
          "name": "stdout",
          "text": [
            ".. _breast_cancer_dataset:\n",
            "\n",
            "Breast cancer wisconsin (diagnostic) dataset\n",
            "--------------------------------------------\n",
            "\n",
            "**Data Set Characteristics:**\n",
            "\n",
            "    :Number of Instances: 569\n",
            "\n",
            "    :Number of Attributes: 30 numeric, predictive attributes and the class\n",
            "\n",
            "    :Attribute Information:\n",
            "        - radius (mean of distances from center to points on the perimeter)\n",
            "        - texture (standard deviation of gray-scale values)\n",
            "        - perimeter\n",
            "        - area\n",
            "        - smoothness (local variation in radius lengths)\n",
            "        - compactness (perimeter^2 / area - 1.0)\n",
            "        - concavity (severity of concave portions of the contour)\n",
            "        - concave points (number of concave portions of the contour)\n",
            "        - symmetry\n",
            "        - fractal dimension (\"coastline approximation\" - 1)\n",
            "\n",
            "        The mean, standard error, and \"worst\" or largest (mean of the three\n",
            "        worst/largest values) of these features were computed for each image,\n",
            "        resulting in 30 features.  For instance, field 0 is Mean Radius, field\n",
            "        10 is Radius SE, field 20 is Worst Radius.\n",
            "\n",
            "        - class:\n",
            "                - WDBC-Malignant\n",
            "                - WDBC-Benign\n",
            "\n",
            "    :Summary Statistics:\n",
            "\n",
            "    ===================================== ====== ======\n",
            "                                           Min    Max\n",
            "    ===================================== ====== ======\n",
            "    radius (mean):                        6.981  28.11\n",
            "    texture (mean):                       9.71   39.28\n",
            "    perimeter (mean):                     43.79  188.5\n",
            "    area (mean):                          143.5  2501.0\n",
            "    smoothness (mean):                    0.053  0.163\n",
            "    compactness (mean):                   0.019  0.345\n",
            "    concavity (mean):                     0.0    0.427\n",
            "    concave points (mean):                0.0    0.201\n",
            "    symmetry (mean):                      0.106  0.304\n",
            "    fractal dimension (mean):             0.05   0.097\n",
            "    radius (standard error):              0.112  2.873\n",
            "    texture (standard error):             0.36   4.885\n",
            "    perimeter (standard error):           0.757  21.98\n",
            "    area (standard error):                6.802  542.2\n",
            "    smoothness (standard error):          0.002  0.031\n",
            "    compactness (standard error):         0.002  0.135\n",
            "    concavity (standard error):           0.0    0.396\n",
            "    concave points (standard error):      0.0    0.053\n",
            "    symmetry (standard error):            0.008  0.079\n",
            "    fractal dimension (standard error):   0.001  0.03\n",
            "    radius (worst):                       7.93   36.04\n",
            "    texture (worst):                      12.02  49.54\n",
            "    perimeter (worst):                    50.41  251.2\n",
            "    area (worst):                         185.2  4254.0\n",
            "    smoothness (worst):                   0.071  0.223\n",
            "    compactness (worst):                  0.027  1.058\n",
            "    concavity (worst):                    0.0    1.252\n",
            "    concave points (worst):               0.0    0.291\n",
            "    symmetry (worst):                     0.156  0.664\n",
            "    fractal dimension (worst):            0.055  0.208\n",
            "    ===================================== ====== ======\n",
            "\n",
            "    :Missing Attribute Values: None\n",
            "\n",
            "    :Class Distribution: 212 - Malignant, 357 - Benign\n",
            "\n",
            "    :Creator:  Dr. William H. Wolberg, W. Nick Street, Olvi L. Mangasarian\n",
            "\n",
            "    :Donor: Nick Street\n",
            "\n",
            "    :Date: November, 1995\n",
            "\n",
            "This is a copy of UCI ML Breast Cancer Wisconsin (Diagnostic) datasets.\n",
            "https://goo.gl/U2Uwz2\n",
            "\n",
            "Features are computed from a digitized image of a fine needle\n",
            "aspirate (FNA) of a breast mass.  They describe\n",
            "characteristics of the cell nuclei present in the image.\n",
            "\n",
            "Separating plane described above was obtained using\n",
            "Multisurface Method-Tree (MSM-T) [K. P. Bennett, \"Decision Tree\n",
            "Construction Via Linear Programming.\" Proceedings of the 4th\n",
            "Midwest Artificial Intelligence and Cognitive Science Society,\n",
            "pp. 97-101, 1992], a classification method which uses linear\n",
            "programming to construct a decision tree.  Relevant features\n",
            "were selected using an exhaustive search in the space of 1-4\n",
            "features and 1-3 separating planes.\n",
            "\n",
            "The actual linear program used to obtain the separating plane\n",
            "in the 3-dimensional space is that described in:\n",
            "[K. P. Bennett and O. L. Mangasarian: \"Robust Linear\n",
            "Programming Discrimination of Two Linearly Inseparable Sets\",\n",
            "Optimization Methods and Software 1, 1992, 23-34].\n",
            "\n",
            "This database is also available through the UW CS ftp server:\n",
            "\n",
            "ftp ftp.cs.wisc.edu\n",
            "cd math-prog/cpo-dataset/machine-learn/WDBC/\n",
            "\n",
            ".. topic:: References\n",
            "\n",
            "   - W.N. Street, W.H. Wolberg and O.L. Mangasarian. Nuclear feature extraction \n",
            "     for breast tumor diagnosis. IS&T/SPIE 1993 International Symposium on \n",
            "     Electronic Imaging: Science and Technology, volume 1905, pages 861-870,\n",
            "     San Jose, CA, 1993.\n",
            "   - O.L. Mangasarian, W.N. Street and W.H. Wolberg. Breast cancer diagnosis and \n",
            "     prognosis via linear programming. Operations Research, 43(4), pages 570-577, \n",
            "     July-August 1995.\n",
            "   - W.H. Wolberg, W.N. Street, and O.L. Mangasarian. Machine learning techniques\n",
            "     to diagnose breast cancer from fine-needle aspirates. Cancer Letters 77 (1994) \n",
            "     163-171.\n"
          ]
        }
      ]
    },
    {
      "cell_type": "markdown",
      "source": [
        "**(4) train, test 데이터 분리**"
      ],
      "metadata": {
        "id": "SpeA3oBvqaOE"
      }
    },
    {
      "cell_type": "code",
      "source": [
        "X_train, X_test, y_train, y_test = train_test_split(breast_cancer_feature, breast_cancer_label, test_size=0.2, random_state=1)"
      ],
      "metadata": {
        "id": "MoX9cNY7uIRI"
      },
      "execution_count": 383,
      "outputs": []
    },
    {
      "cell_type": "markdown",
      "source": [
        "**(5) 다양한 모델로 학습시켜보기**"
      ],
      "metadata": {
        "id": "w1sO9d83qbPP"
      }
    },
    {
      "cell_type": "markdown",
      "source": [
        "*   Decision Tree 사용해 보기"
      ],
      "metadata": {
        "id": "SgZDt9UQqbwK"
      }
    },
    {
      "cell_type": "code",
      "source": [
        "decision_tree = DecisionTreeClassifier(random_state=1)\n",
        "decision_tree.fit(X_train, y_train)\n",
        "y_pred_decision_tree = decision_tree.predict(X_test)\n",
        "\n",
        "print(classification_report(y_test, y_pred_decision_tree))"
      ],
      "metadata": {
        "colab": {
          "base_uri": "https://localhost:8080/"
        },
        "id": "LpancCoduJjl",
        "outputId": "a09c0aed-7c02-4049-fa72-275810668c19"
      },
      "execution_count": 384,
      "outputs": [
        {
          "output_type": "stream",
          "name": "stdout",
          "text": [
            "              precision    recall  f1-score   support\n",
            "\n",
            "           0       0.97      0.88      0.93        42\n",
            "           1       0.93      0.99      0.96        72\n",
            "\n",
            "    accuracy                           0.95       114\n",
            "   macro avg       0.95      0.93      0.94       114\n",
            "weighted avg       0.95      0.95      0.95       114\n",
            "\n"
          ]
        }
      ]
    },
    {
      "cell_type": "markdown",
      "source": [
        "*   Random Forest 사용해 보기"
      ],
      "metadata": {
        "id": "NisANK6srDK4"
      }
    },
    {
      "cell_type": "code",
      "source": [
        "random_forest = RandomForestClassifier(random_state=2)\n",
        "random_forest.fit(X_train, y_train)\n",
        "y_pred_random_forest = random_forest.predict(X_test)\n",
        "\n",
        "print(classification_report(y_test, y_pred_random_forest))"
      ],
      "metadata": {
        "colab": {
          "base_uri": "https://localhost:8080/"
        },
        "id": "MEHG33yAuKNR",
        "outputId": "12eb7623-2119-4647-abee-a3943bc1187d"
      },
      "execution_count": 385,
      "outputs": [
        {
          "output_type": "stream",
          "name": "stdout",
          "text": [
            "              precision    recall  f1-score   support\n",
            "\n",
            "           0       0.97      0.88      0.93        42\n",
            "           1       0.93      0.99      0.96        72\n",
            "\n",
            "    accuracy                           0.95       114\n",
            "   macro avg       0.95      0.93      0.94       114\n",
            "weighted avg       0.95      0.95      0.95       114\n",
            "\n"
          ]
        }
      ]
    },
    {
      "cell_type": "markdown",
      "source": [
        "* SVM 사용해 보기"
      ],
      "metadata": {
        "id": "FBbZjbcLrD6U"
      }
    },
    {
      "cell_type": "code",
      "source": [
        "svm = svm.SVC()\n",
        "svm.fit(X_train, y_train)\n",
        "y_pred_svm = svm.predict(X_test)\n",
        "\n",
        "print(classification_report(y_test, y_pred_svm))"
      ],
      "metadata": {
        "colab": {
          "base_uri": "https://localhost:8080/"
        },
        "id": "uSFleVaOuKlY",
        "outputId": "230859a6-760a-4450-81f1-8954dea15f6a"
      },
      "execution_count": 386,
      "outputs": [
        {
          "output_type": "stream",
          "name": "stdout",
          "text": [
            "              precision    recall  f1-score   support\n",
            "\n",
            "           0       1.00      0.74      0.85        42\n",
            "           1       0.87      1.00      0.93        72\n",
            "\n",
            "    accuracy                           0.90       114\n",
            "   macro avg       0.93      0.87      0.89       114\n",
            "weighted avg       0.92      0.90      0.90       114\n",
            "\n"
          ]
        }
      ]
    },
    {
      "cell_type": "markdown",
      "source": [
        "*   SGD Classifier 사용해 보기"
      ],
      "metadata": {
        "id": "WXWZ9-0ArFXM"
      }
    },
    {
      "cell_type": "code",
      "source": [
        "sgd = SGDClassifier()\n",
        "sgd.fit(X_train, y_train)\n",
        "y_pred_sgd = sgd.predict(X_test)\n",
        "\n",
        "print(classification_report(y_test, y_pred_sgd))"
      ],
      "metadata": {
        "colab": {
          "base_uri": "https://localhost:8080/"
        },
        "id": "XWoRyB3FuK_n",
        "outputId": "27c96c24-138b-40e5-959c-f89ed7447dd3"
      },
      "execution_count": 387,
      "outputs": [
        {
          "output_type": "stream",
          "name": "stdout",
          "text": [
            "              precision    recall  f1-score   support\n",
            "\n",
            "           0       0.95      0.88      0.91        42\n",
            "           1       0.93      0.97      0.95        72\n",
            "\n",
            "    accuracy                           0.94       114\n",
            "   macro avg       0.94      0.93      0.93       114\n",
            "weighted avg       0.94      0.94      0.94       114\n",
            "\n"
          ]
        }
      ]
    },
    {
      "cell_type": "markdown",
      "source": [
        "*   Logistic Regression 사용해 보기"
      ],
      "metadata": {
        "id": "ScSWRpaerEfh"
      }
    },
    {
      "cell_type": "code",
      "source": [
        "logistic_regression = LogisticRegression(max_iter=3000)\n",
        "logistic_regression.fit(X_train, y_train)\n",
        "y_pred_logistic_regression = logistic_regression.predict(X_test)\n",
        "\n",
        "print(classification_report(y_test, y_pred_logistic_regression))"
      ],
      "metadata": {
        "colab": {
          "base_uri": "https://localhost:8080/"
        },
        "id": "ovXK0smyuLYO",
        "outputId": "cedf4350-e2b2-4032-8e08-7461b10ce15b"
      },
      "execution_count": 388,
      "outputs": [
        {
          "output_type": "stream",
          "name": "stdout",
          "text": [
            "              precision    recall  f1-score   support\n",
            "\n",
            "           0       0.97      0.88      0.93        42\n",
            "           1       0.93      0.99      0.96        72\n",
            "\n",
            "    accuracy                           0.95       114\n",
            "   macro avg       0.95      0.93      0.94       114\n",
            "weighted avg       0.95      0.95      0.95       114\n",
            "\n"
          ]
        }
      ]
    },
    {
      "cell_type": "markdown",
      "source": [
        "**(6) 모델을 평가해 보기**"
      ],
      "metadata": {
        "id": "YsUXFAAqqcR4"
      }
    },
    {
      "cell_type": "markdown",
      "source": [
        "앞선 데이터들과 달리 label 간 예측률이 높아야 하는 우선 순위가 존재한다.\n",
        "\n",
        "즉, 모델은 '0'번 label인 **'malignant'(악성 종양)**에 대하여 훨씬 민감하게 반응해야 한다.\n",
        "\n",
        "특히,\n",
        "> 실제 **'malignant'(악성 종양)**를 'benign'(양성 종양)으로 예측하는 경우 최소화해야 할 것이다.\n",
        "\n",
        "따라서 '0'번 label에 대한 *recall* 값을 평가 지표로 선정하는 것이 타당하다.\n",
        "\n",
        "이 경우 해당 값이 0.90으로 가장 높은 **SGD Classifier**이 가장 좋은 성능을 보여준다고 판단할 수 있다."
      ],
      "metadata": {
        "id": "DwBVXRQdreuV"
      }
    },
    {
      "cell_type": "markdown",
      "source": [
        "\n",
        "\n",
        "---\n",
        "\n"
      ],
      "metadata": {
        "id": "ccz7L_zfrfbd"
      }
    },
    {
      "cell_type": "markdown",
      "source": [
        "### **4. 회고**"
      ],
      "metadata": {
        "id": "Phcs0tNirhAY"
      }
    },
    {
      "cell_type": "markdown",
      "source": [
        "이번 노드를 통해 배운 점들은 크게 아래와 같다.\n",
        "\n",
        "1.   싸이킷런 활용법\n",
        "2.   머신러닝의 카테고리\n",
        "3.   머신러닝 모델의 종류\n",
        "4.   모델 성능 평가 지표\n",
        "\n",
        "그리고 아쉬웠던 부분은, 모델 성능 평가 지표로서 끝내 **ROC 및 AUC**를 활용하지 못했던 것이다.\n",
        "\n",
        "관련 메서드들을 이해하고 다음 기회에는 꼭 활용해보고 싶다.\n"
      ],
      "metadata": {
        "id": "OHdK3bTc1UlE"
      }
    }
  ]
}