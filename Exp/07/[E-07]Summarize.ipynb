{
  "nbformat": 4,
  "nbformat_minor": 0,
  "metadata": {
    "colab": {
      "name": "[E-07]Summarize.ipynb",
      "provenance": [],
      "collapsed_sections": [],
      "machine_shape": "hm"
    },
    "kernelspec": {
      "name": "python3",
      "display_name": "Python 3"
    },
    "language_info": {
      "name": "python"
    },
    "accelerator": "TPU"
  },
  "cells": [
    {
      "cell_type": "markdown",
      "source": [
        "# 뉴스 요약봇 만들기"
      ],
      "metadata": {
        "id": "xBFk8Qio1xy1"
      }
    },
    {
      "cell_type": "code",
      "execution_count": 212,
      "metadata": {
        "id": "RNCVKo4ev6VK"
      },
      "outputs": [],
      "source": [
        "import numpy as np\n",
        "import pandas as pd\n",
        "import re\n",
        "import matplotlib.pyplot as plt\n",
        "import tensorflow as tf\n",
        "import urllib.request"
      ]
    },
    {
      "cell_type": "markdown",
      "source": [
        "### Step 1. 데이터 수집하기"
      ],
      "metadata": {
        "id": "Vs9eGZS62qjn"
      }
    },
    {
      "cell_type": "code",
      "source": [
        "urllib.request.urlretrieve(\"https://raw.githubusercontent.com/sunnysai12345/News_Summary/master/news_summary_more.csv\", filename=\"news_summary_more.csv\")\n",
        "data = pd.read_csv('news_summary_more.csv', encoding='iso-8859-1')\n",
        "\n",
        "print('전체 데이터 수 :', (len(data)))\n",
        "data.sample(10)"
      ],
      "metadata": {
        "colab": {
          "base_uri": "https://localhost:8080/",
          "height": 381
        },
        "id": "EU_WnVKR2mMH",
        "outputId": "423ed163-8065-4e94-f3ac-f61537b4ad24"
      },
      "execution_count": 213,
      "outputs": [
        {
          "output_type": "stream",
          "name": "stdout",
          "text": [
            "전체 데이터 수 : 98401\n"
          ]
        },
        {
          "output_type": "execute_result",
          "data": {
            "text/plain": [
              "                                               headlines  \\\n",
              "53652   Jasprit Bumrah becomes India's 290th Test player   \n",
              "62545  Invasion of N Korea only way to destroy its nu...   \n",
              "25512  No competition with Sara, she holds great prom...   \n",
              "27977  Education Minister has apologised: Suspended U...   \n",
              "21488  India gifts 30 ambulances, 6 buses to Nepal on...   \n",
              "95697  Govt aimed to build 15K km roads in 2016-17, b...   \n",
              "34048  Ishaan has arrived like no newcomer has: Mom N...   \n",
              "49562  What a guy: Anushka on Kohli's ODI century in ...   \n",
              "39481  WhatsApp founders gave up $1.3 bn after rift w...   \n",
              "95851  Akshay Kumar shares first poster of 'Toilet: E...   \n",
              "\n",
              "                                                    text  \n",
              "53652  Pacer Jasprit Bumrah became India's 290th Test...  \n",
              "62545  A ground invasion is the \"only way\" to locate ...  \n",
              "25512  Actress Janhvi Kapoor, while speaking about co...  \n",
              "27977  The Uttarakhand teacher who was suspended by C...  \n",
              "21488  India gifted 30 ambulances and six buses to Ne...  \n",
              "95697  The government, which had aimed to build 15,00...  \n",
              "34048  Actress Neelima Azim, while talking about her ...  \n",
              "49562  Actress Anushka Sharma shared a series of pict...  \n",
              "39481  WhatsApp Co-founders Brian Acton and Jan Koum ...  \n",
              "95851  Actor Akshay Kumar took to Twitter to share th...  "
            ],
            "text/html": [
              "\n",
              "  <div id=\"df-34cda20d-4f18-444c-a285-af6eb7085b0f\">\n",
              "    <div class=\"colab-df-container\">\n",
              "      <div>\n",
              "<style scoped>\n",
              "    .dataframe tbody tr th:only-of-type {\n",
              "        vertical-align: middle;\n",
              "    }\n",
              "\n",
              "    .dataframe tbody tr th {\n",
              "        vertical-align: top;\n",
              "    }\n",
              "\n",
              "    .dataframe thead th {\n",
              "        text-align: right;\n",
              "    }\n",
              "</style>\n",
              "<table border=\"1\" class=\"dataframe\">\n",
              "  <thead>\n",
              "    <tr style=\"text-align: right;\">\n",
              "      <th></th>\n",
              "      <th>headlines</th>\n",
              "      <th>text</th>\n",
              "    </tr>\n",
              "  </thead>\n",
              "  <tbody>\n",
              "    <tr>\n",
              "      <th>53652</th>\n",
              "      <td>Jasprit Bumrah becomes India's 290th Test player</td>\n",
              "      <td>Pacer Jasprit Bumrah became India's 290th Test...</td>\n",
              "    </tr>\n",
              "    <tr>\n",
              "      <th>62545</th>\n",
              "      <td>Invasion of N Korea only way to destroy its nu...</td>\n",
              "      <td>A ground invasion is the \"only way\" to locate ...</td>\n",
              "    </tr>\n",
              "    <tr>\n",
              "      <th>25512</th>\n",
              "      <td>No competition with Sara, she holds great prom...</td>\n",
              "      <td>Actress Janhvi Kapoor, while speaking about co...</td>\n",
              "    </tr>\n",
              "    <tr>\n",
              "      <th>27977</th>\n",
              "      <td>Education Minister has apologised: Suspended U...</td>\n",
              "      <td>The Uttarakhand teacher who was suspended by C...</td>\n",
              "    </tr>\n",
              "    <tr>\n",
              "      <th>21488</th>\n",
              "      <td>India gifts 30 ambulances, 6 buses to Nepal on...</td>\n",
              "      <td>India gifted 30 ambulances and six buses to Ne...</td>\n",
              "    </tr>\n",
              "    <tr>\n",
              "      <th>95697</th>\n",
              "      <td>Govt aimed to build 15K km roads in 2016-17, b...</td>\n",
              "      <td>The government, which had aimed to build 15,00...</td>\n",
              "    </tr>\n",
              "    <tr>\n",
              "      <th>34048</th>\n",
              "      <td>Ishaan has arrived like no newcomer has: Mom N...</td>\n",
              "      <td>Actress Neelima Azim, while talking about her ...</td>\n",
              "    </tr>\n",
              "    <tr>\n",
              "      <th>49562</th>\n",
              "      <td>What a guy: Anushka on Kohli's ODI century in ...</td>\n",
              "      <td>Actress Anushka Sharma shared a series of pict...</td>\n",
              "    </tr>\n",
              "    <tr>\n",
              "      <th>39481</th>\n",
              "      <td>WhatsApp founders gave up $1.3 bn after rift w...</td>\n",
              "      <td>WhatsApp Co-founders Brian Acton and Jan Koum ...</td>\n",
              "    </tr>\n",
              "    <tr>\n",
              "      <th>95851</th>\n",
              "      <td>Akshay Kumar shares first poster of 'Toilet: E...</td>\n",
              "      <td>Actor Akshay Kumar took to Twitter to share th...</td>\n",
              "    </tr>\n",
              "  </tbody>\n",
              "</table>\n",
              "</div>\n",
              "      <button class=\"colab-df-convert\" onclick=\"convertToInteractive('df-34cda20d-4f18-444c-a285-af6eb7085b0f')\"\n",
              "              title=\"Convert this dataframe to an interactive table.\"\n",
              "              style=\"display:none;\">\n",
              "        \n",
              "  <svg xmlns=\"http://www.w3.org/2000/svg\" height=\"24px\"viewBox=\"0 0 24 24\"\n",
              "       width=\"24px\">\n",
              "    <path d=\"M0 0h24v24H0V0z\" fill=\"none\"/>\n",
              "    <path d=\"M18.56 5.44l.94 2.06.94-2.06 2.06-.94-2.06-.94-.94-2.06-.94 2.06-2.06.94zm-11 1L8.5 8.5l.94-2.06 2.06-.94-2.06-.94L8.5 2.5l-.94 2.06-2.06.94zm10 10l.94 2.06.94-2.06 2.06-.94-2.06-.94-.94-2.06-.94 2.06-2.06.94z\"/><path d=\"M17.41 7.96l-1.37-1.37c-.4-.4-.92-.59-1.43-.59-.52 0-1.04.2-1.43.59L10.3 9.45l-7.72 7.72c-.78.78-.78 2.05 0 2.83L4 21.41c.39.39.9.59 1.41.59.51 0 1.02-.2 1.41-.59l7.78-7.78 2.81-2.81c.8-.78.8-2.07 0-2.86zM5.41 20L4 18.59l7.72-7.72 1.47 1.35L5.41 20z\"/>\n",
              "  </svg>\n",
              "      </button>\n",
              "      \n",
              "  <style>\n",
              "    .colab-df-container {\n",
              "      display:flex;\n",
              "      flex-wrap:wrap;\n",
              "      gap: 12px;\n",
              "    }\n",
              "\n",
              "    .colab-df-convert {\n",
              "      background-color: #E8F0FE;\n",
              "      border: none;\n",
              "      border-radius: 50%;\n",
              "      cursor: pointer;\n",
              "      display: none;\n",
              "      fill: #1967D2;\n",
              "      height: 32px;\n",
              "      padding: 0 0 0 0;\n",
              "      width: 32px;\n",
              "    }\n",
              "\n",
              "    .colab-df-convert:hover {\n",
              "      background-color: #E2EBFA;\n",
              "      box-shadow: 0px 1px 2px rgba(60, 64, 67, 0.3), 0px 1px 3px 1px rgba(60, 64, 67, 0.15);\n",
              "      fill: #174EA6;\n",
              "    }\n",
              "\n",
              "    [theme=dark] .colab-df-convert {\n",
              "      background-color: #3B4455;\n",
              "      fill: #D2E3FC;\n",
              "    }\n",
              "\n",
              "    [theme=dark] .colab-df-convert:hover {\n",
              "      background-color: #434B5C;\n",
              "      box-shadow: 0px 1px 3px 1px rgba(0, 0, 0, 0.15);\n",
              "      filter: drop-shadow(0px 1px 2px rgba(0, 0, 0, 0.3));\n",
              "      fill: #FFFFFF;\n",
              "    }\n",
              "  </style>\n",
              "\n",
              "      <script>\n",
              "        const buttonEl =\n",
              "          document.querySelector('#df-34cda20d-4f18-444c-a285-af6eb7085b0f button.colab-df-convert');\n",
              "        buttonEl.style.display =\n",
              "          google.colab.kernel.accessAllowed ? 'block' : 'none';\n",
              "\n",
              "        async function convertToInteractive(key) {\n",
              "          const element = document.querySelector('#df-34cda20d-4f18-444c-a285-af6eb7085b0f');\n",
              "          const dataTable =\n",
              "            await google.colab.kernel.invokeFunction('convertToInteractive',\n",
              "                                                     [key], {});\n",
              "          if (!dataTable) return;\n",
              "\n",
              "          const docLinkHtml = 'Like what you see? Visit the ' +\n",
              "            '<a target=\"_blank\" href=https://colab.research.google.com/notebooks/data_table.ipynb>data table notebook</a>'\n",
              "            + ' to learn more about interactive tables.';\n",
              "          element.innerHTML = '';\n",
              "          dataTable['output_type'] = 'display_data';\n",
              "          await google.colab.output.renderOutput(dataTable, element);\n",
              "          const docLink = document.createElement('div');\n",
              "          docLink.innerHTML = docLinkHtml;\n",
              "          element.appendChild(docLink);\n",
              "        }\n",
              "      </script>\n",
              "    </div>\n",
              "  </div>\n",
              "  "
            ]
          },
          "metadata": {},
          "execution_count": 213
        }
      ]
    },
    {
      "cell_type": "markdown",
      "source": [
        "\n",
        "\n",
        "### Step 2. 데이터 전처리하기 (추상적 요약)\n",
        "\n"
      ],
      "metadata": {
        "id": "LkpYsVc96YeG"
      }
    },
    {
      "cell_type": "code",
      "source": [
        "# 중복 샘플 제거\n",
        "data.drop_duplicates(subset = ['text'], inplace=True)\n",
        "print('중복 제거 후 전체 데이터 수 :', (len(data)))"
      ],
      "metadata": {
        "colab": {
          "base_uri": "https://localhost:8080/"
        },
        "id": "e_Xv3RUP8q7u",
        "outputId": "285c4ee3-e521-488d-e22b-03ef703b990c"
      },
      "execution_count": 214,
      "outputs": [
        {
          "output_type": "stream",
          "name": "stdout",
          "text": [
            "중복 제거 후 전체 데이터 수 : 98360\n"
          ]
        }
      ]
    },
    {
      "cell_type": "code",
      "source": [
        "#  NULL 체크\n",
        "print(data.isnull().sum())"
      ],
      "metadata": {
        "colab": {
          "base_uri": "https://localhost:8080/"
        },
        "id": "0LExi_Zx-zdt",
        "outputId": "d1bd6f4b-97da-41f8-d224-7231887e33c8"
      },
      "execution_count": 215,
      "outputs": [
        {
          "output_type": "stream",
          "name": "stdout",
          "text": [
            "headlines    0\n",
            "text         0\n",
            "dtype: int64\n"
          ]
        }
      ]
    },
    {
      "cell_type": "markdown",
      "source": [
        "*데이터 정규화*"
      ],
      "metadata": {
        "id": "PsCnqzBSAbij"
      }
    },
    {
      "cell_type": "code",
      "source": [
        "# 정규화 사전\n",
        "contractions = {\"ain't\": \"is not\", \"aren't\": \"are not\",\"can't\": \"cannot\", \"'cause\": \"because\", \"could've\": \"could have\", \"couldn't\": \"could not\",\n",
        "                \"didn't\": \"did not\",  \"doesn't\": \"does not\", \"don't\": \"do not\", \"hadn't\": \"had not\", \"hasn't\": \"has not\", \"haven't\": \"have not\",\n",
        "                \"he'd\": \"he would\",\"he'll\": \"he will\", \"he's\": \"he is\", \"how'd\": \"how did\", \"how'd'y\": \"how do you\", \"how'll\": \"how will\", \"how's\": \"how is\",\n",
        "                \"I'd\": \"I would\", \"I'd've\": \"I would have\", \"I'll\": \"I will\", \"I'll've\": \"I will have\",\"I'm\": \"I am\", \"I've\": \"I have\", \"i'd\": \"i would\",\n",
        "                \"i'd've\": \"i would have\", \"i'll\": \"i will\",  \"i'll've\": \"i will have\",\"i'm\": \"i am\", \"i've\": \"i have\", \"isn't\": \"is not\", \"it'd\": \"it would\",\n",
        "                \"it'd've\": \"it would have\", \"it'll\": \"it will\", \"it'll've\": \"it will have\",\"it's\": \"it is\", \"let's\": \"let us\", \"ma'am\": \"madam\",\n",
        "                \"mayn't\": \"may not\", \"might've\": \"might have\",\"mightn't\": \"might not\",\"mightn't've\": \"might not have\", \"must've\": \"must have\",\n",
        "                \"mustn't\": \"must not\", \"mustn't've\": \"must not have\", \"needn't\": \"need not\", \"needn't've\": \"need not have\",\"o'clock\": \"of the clock\",\n",
        "                \"oughtn't\": \"ought not\", \"oughtn't've\": \"ought not have\", \"shan't\": \"shall not\", \"sha'n't\": \"shall not\", \"shan't've\": \"shall not have\",\n",
        "                \"she'd\": \"she would\", \"she'd've\": \"she would have\", \"she'll\": \"she will\", \"she'll've\": \"she will have\", \"she's\": \"she is\",\n",
        "                \"should've\": \"should have\", \"shouldn't\": \"should not\", \"shouldn't've\": \"should not have\", \"so've\": \"so have\",\"so's\": \"so as\",\n",
        "                \"this's\": \"this is\",\"that'd\": \"that would\", \"that'd've\": \"that would have\", \"that's\": \"that is\", \"there'd\": \"there would\",\n",
        "                \"there'd've\": \"there would have\", \"there's\": \"there is\", \"here's\": \"here is\",\"they'd\": \"they would\", \"they'd've\": \"they would have\",\n",
        "                \"they'll\": \"they will\", \"they'll've\": \"they will have\", \"they're\": \"they are\", \"they've\": \"they have\", \"to've\": \"to have\",\n",
        "                \"wasn't\": \"was not\", \"we'd\": \"we would\", \"we'd've\": \"we would have\", \"we'll\": \"we will\", \"we'll've\": \"we will have\", \"we're\": \"we are\",\n",
        "                \"we've\": \"we have\", \"weren't\": \"were not\", \"what'll\": \"what will\", \"what'll've\": \"what will have\", \"what're\": \"what are\",\n",
        "                \"what's\": \"what is\", \"what've\": \"what have\", \"when's\": \"when is\", \"when've\": \"when have\", \"where'd\": \"where did\", \"where's\": \"where is\",\n",
        "                \"where've\": \"where have\", \"who'll\": \"who will\", \"who'll've\": \"who will have\", \"who's\": \"who is\", \"who've\": \"who have\",\n",
        "                \"why's\": \"why is\", \"why've\": \"why have\", \"will've\": \"will have\", \"won't\": \"will not\", \"won't've\": \"will not have\",\n",
        "                \"would've\": \"would have\", \"wouldn't\": \"would not\", \"wouldn't've\": \"would not have\", \"y'all\": \"you all\",\n",
        "                \"y'all'd\": \"you all would\",\"y'all'd've\": \"you all would have\",\"y'all're\": \"you all are\",\"y'all've\": \"you all have\",\n",
        "                \"you'd\": \"you would\", \"you'd've\": \"you would have\", \"you'll\": \"you will\", \"you'll've\": \"you will have\",\n",
        "                \"you're\": \"you are\", \"you've\": \"you have\"}\n",
        "\n",
        "print(\"정규화 사전의 단어 개수: \", len(contractions))"
      ],
      "metadata": {
        "colab": {
          "base_uri": "https://localhost:8080/"
        },
        "id": "2BCnq_Fs_69f",
        "outputId": "9b43a2a8-4e15-424a-e5bc-8d63babfae8f"
      },
      "execution_count": 216,
      "outputs": [
        {
          "output_type": "stream",
          "name": "stdout",
          "text": [
            "정규화 사전의 단어 개수:  120\n"
          ]
        }
      ]
    },
    {
      "cell_type": "code",
      "source": [
        "import nltk\n",
        "nltk.download('stopwords')\n",
        "from nltk.corpus import stopwords\n",
        "\n",
        "print('불용어 개수 :', len(stopwords.words('english') ))\n",
        "print(stopwords.words('english'))"
      ],
      "metadata": {
        "colab": {
          "base_uri": "https://localhost:8080/"
        },
        "id": "WQALtQLEAlFq",
        "outputId": "70cb0edc-4fbb-467a-b07d-b675384e3ee3"
      },
      "execution_count": 217,
      "outputs": [
        {
          "output_type": "stream",
          "name": "stdout",
          "text": [
            "[nltk_data] Downloading package stopwords to /root/nltk_data...\n",
            "[nltk_data]   Package stopwords is already up-to-date!\n",
            "불용어 개수 : 179\n",
            "['i', 'me', 'my', 'myself', 'we', 'our', 'ours', 'ourselves', 'you', \"you're\", \"you've\", \"you'll\", \"you'd\", 'your', 'yours', 'yourself', 'yourselves', 'he', 'him', 'his', 'himself', 'she', \"she's\", 'her', 'hers', 'herself', 'it', \"it's\", 'its', 'itself', 'they', 'them', 'their', 'theirs', 'themselves', 'what', 'which', 'who', 'whom', 'this', 'that', \"that'll\", 'these', 'those', 'am', 'is', 'are', 'was', 'were', 'be', 'been', 'being', 'have', 'has', 'had', 'having', 'do', 'does', 'did', 'doing', 'a', 'an', 'the', 'and', 'but', 'if', 'or', 'because', 'as', 'until', 'while', 'of', 'at', 'by', 'for', 'with', 'about', 'against', 'between', 'into', 'through', 'during', 'before', 'after', 'above', 'below', 'to', 'from', 'up', 'down', 'in', 'out', 'on', 'off', 'over', 'under', 'again', 'further', 'then', 'once', 'here', 'there', 'when', 'where', 'why', 'how', 'all', 'any', 'both', 'each', 'few', 'more', 'most', 'other', 'some', 'such', 'no', 'nor', 'not', 'only', 'own', 'same', 'so', 'than', 'too', 'very', 's', 't', 'can', 'will', 'just', 'don', \"don't\", 'should', \"should've\", 'now', 'd', 'll', 'm', 'o', 're', 've', 'y', 'ain', 'aren', \"aren't\", 'couldn', \"couldn't\", 'didn', \"didn't\", 'doesn', \"doesn't\", 'hadn', \"hadn't\", 'hasn', \"hasn't\", 'haven', \"haven't\", 'isn', \"isn't\", 'ma', 'mightn', \"mightn't\", 'mustn', \"mustn't\", 'needn', \"needn't\", 'shan', \"shan't\", 'shouldn', \"shouldn't\", 'wasn', \"wasn't\", 'weren', \"weren't\", 'won', \"won't\", 'wouldn', \"wouldn't\"]\n"
          ]
        }
      ]
    },
    {
      "cell_type": "code",
      "source": [
        "from bs4 import BeautifulSoup \n",
        "\n",
        "# 데이터 정규화 함수\n",
        "def preprocess_sentence(sentence, remove_stopwords=True):\n",
        "    sentence = sentence.lower() # 텍스트 소문자화\n",
        "    sentence = BeautifulSoup(sentence, \"lxml\").text # <br />, <a href = ...> 등의 html 태그 제거\n",
        "    sentence = re.sub(r'\\([^)]*\\)', '', sentence) # 괄호로 닫힌 문자열 (...) 제거 Ex) my husband (and myself!) for => my husband for\n",
        "    sentence = re.sub('\"','', sentence) # 쌍따옴표 \" 제거\n",
        "    sentence = ' '.join([contractions[t] if t in contractions else t for t in sentence.split(\" \")]) # 약어 정규화\n",
        "    sentence = re.sub(r\"'s\\b\",\"\", sentence) # 소유격 제거. Ex) roland's -> roland\n",
        "    sentence = re.sub(\"[^a-zA-Z]\", \" \", sentence) # 영어 외 문자(숫자, 특수문자 등) 공백으로 변환\n",
        "    sentence = re.sub('[m]{2,}', 'mm', sentence) # m이 3개 이상이면 2개로 변경. Ex) ummmmmmm yeah -> umm yeah\n",
        "    # 불용어 제거 (Text)\n",
        "    if remove_stopwords:\n",
        "        tokens = ' '.join(word for word in sentence.split() if not word in stopwords.words('english') if len(word) > 1)\n",
        "    # 불용어 미제거 (Summary)\n",
        "    else:\n",
        "        tokens = ' '.join(word for word in sentence.split() if len(word) > 1)\n",
        "    return tokens"
      ],
      "metadata": {
        "id": "2Yl3GmH3BPSo"
      },
      "execution_count": 218,
      "outputs": []
    },
    {
      "cell_type": "code",
      "source": [
        "from tqdm import tqdm\n",
        "\n",
        "clean_text = []\n",
        "for s in tqdm(data['text']):\n",
        "    clean_text.append(preprocess_sentence(s))\n",
        "\n",
        "print(\"\\ntext 전처리 후 결과: \", clean_text[:5])"
      ],
      "metadata": {
        "colab": {
          "base_uri": "https://localhost:8080/"
        },
        "id": "eBk47kNjCm2i",
        "outputId": "8fcef669-4eb3-488e-d2e0-d4edbf6b09d3"
      },
      "execution_count": 219,
      "outputs": [
        {
          "output_type": "stream",
          "name": "stderr",
          "text": [
            "100%|██████████| 98360/98360 [09:29<00:00, 172.73it/s]"
          ]
        },
        {
          "output_type": "stream",
          "name": "stdout",
          "text": [
            "\n",
            "text 전처리 후 결과:  ['saurav kant alumnus upgrad iiit pg program machine learning artificial intelligence sr systems engineer infosys almost years work experience program upgrad degree career support helped transition data scientist tech mahindra salary hike upgrad online power learning powered lakh careers', 'kunal shah credit card bill payment platform cred gave users chance win free food swiggy one year pranav kaushik delhi techie bagged reward spending cred coins users get one cred coin per rupee bill paid used avail rewards brands like ixigo bookmyshow ubereats cult fit', 'new zealand defeated india wickets fourth odi hamilton thursday win first match five match odi series india lost international match rohit sharma captaincy consecutive victories dating back march match witnessed india getting seventh lowest total odi cricket history', 'aegon life iterm insurance plan customers enjoy tax benefits premiums paid save taxes plan provides life cover age years also customers options insure critical illnesses disability accidental death benefit rider life cover age years', 'speaking sexual harassment allegations rajkumar hirani sonam kapoor said known hirani many years true metoo movement get derailed metoo movement always believe woman case need reserve judgment added hirani accused assistant worked sanju']\n"
          ]
        },
        {
          "output_type": "stream",
          "name": "stderr",
          "text": [
            "\n"
          ]
        }
      ]
    },
    {
      "cell_type": "code",
      "source": [
        "clean_headlines = []\n",
        "for s in tqdm(data['headlines']):\n",
        "    clean_headlines.append(preprocess_sentence(s, False))\n",
        "\n",
        "print(\"\\nheadlines 전처리 후 결과: \", clean_headlines[:5])"
      ],
      "metadata": {
        "colab": {
          "base_uri": "https://localhost:8080/"
        },
        "id": "jihk0uDJCLNc",
        "outputId": "df0bf92e-36d3-4e79-f27e-6ad3876dfda6"
      },
      "execution_count": 220,
      "outputs": [
        {
          "output_type": "stream",
          "name": "stderr",
          "text": [
            "100%|██████████| 98360/98360 [00:17<00:00, 5729.21it/s]"
          ]
        },
        {
          "output_type": "stream",
          "name": "stdout",
          "text": [
            "\n",
            "headlines 전처리 후 결과:  ['upgrad learner switches to career in ml al with salary hike', 'delhi techie wins free food from swiggy for one year on cred', 'new zealand end rohit sharma led india match winning streak', 'aegon life iterm insurance plan helps customers save tax', 'have known hirani for yrs what if metoo claims are not true sonam']\n"
          ]
        },
        {
          "output_type": "stream",
          "name": "stderr",
          "text": [
            "\n"
          ]
        }
      ]
    },
    {
      "cell_type": "code",
      "source": [
        "# 정규화된 데이터로 업데이트\n",
        "data['headlines'] = clean_headlines\n",
        "data['text'] = clean_text"
      ],
      "metadata": {
        "id": "2_xxOoS0D2CQ"
      },
      "execution_count": 221,
      "outputs": []
    },
    {
      "cell_type": "code",
      "source": [
        "# 빈 값을 Null 값으로 변환\n",
        "data.replace('', np.nan, inplace=True)\n",
        "data.isnull().sum()"
      ],
      "metadata": {
        "colab": {
          "base_uri": "https://localhost:8080/"
        },
        "id": "IoRDIG7XD-Cx",
        "outputId": "085e9101-9174-496a-ac19-0aac8f043e90"
      },
      "execution_count": 72,
      "outputs": [
        {
          "output_type": "execute_result",
          "data": {
            "text/plain": [
              "headlines    0\n",
              "text         0\n",
              "dtype: int64"
            ]
          },
          "metadata": {},
          "execution_count": 72
        }
      ]
    },
    {
      "cell_type": "markdown",
      "source": [
        "*데이터 최대 길이 정하기*"
      ],
      "metadata": {
        "id": "d1lZDnsM06BF"
      }
    },
    {
      "cell_type": "code",
      "source": [
        "text_len = [len(s.split()) for s in data['text']]\n",
        "print('text 최소 길이 : {}'.format(np.min(text_len)))\n",
        "print('text 최대 길이 : {}'.format(np.max(text_len)))\n",
        "print('text 평균 길이 : {}\\n'.format(np.mean(text_len)))\n",
        "\n",
        "headlines_len = [len(s.split()) for s in data['headlines']]\n",
        "print('headlines 최소 길이 : {}'.format(np.min(headlines_len)))\n",
        "print('headlines 최대 길이 : {}'.format(np.max(headlines_len)))\n",
        "print('headlines 평균 길이 : {}\\n'.format(np.mean(headlines_len)))\n",
        "\n",
        "plt.subplot(1,2,1)\n",
        "plt.boxplot(text_len)\n",
        "plt.title('text')\n",
        "\n",
        "plt.subplot(1,2,2)\n",
        "plt.boxplot(headlines_len)\n",
        "plt.title('headlines')\n",
        "\n",
        "plt.tight_layout()\n",
        "plt.show()\n",
        "\n",
        "plt.title('text')\n",
        "plt.hist(text_len, bins = 40)\n",
        "plt.xlabel('length of samples')\n",
        "plt.ylabel('number of samples')\n",
        "plt.show()\n",
        "\n",
        "plt.title('headlines')\n",
        "plt.hist(headlines_len, bins = 40)\n",
        "plt.xlabel('length of samples')\n",
        "plt.ylabel('number of samples')\n",
        "plt.show()"
      ],
      "metadata": {
        "colab": {
          "base_uri": "https://localhost:8080/",
          "height": 1000
        },
        "id": "7qQh9Vsdzx1L",
        "outputId": "e583066b-444d-49f4-9764-c6d301e9ae2c"
      },
      "execution_count": 225,
      "outputs": [
        {
          "output_type": "stream",
          "name": "stdout",
          "text": [
            "text 최소 길이 : 1\n",
            "text 최대 길이 : 60\n",
            "text 평균 길이 : 35.09968483123221\n",
            "\n",
            "headlines 최소 길이 : 1\n",
            "headlines 최대 길이 : 16\n",
            "headlines 평균 길이 : 9.299532330215534\n",
            "\n"
          ]
        },
        {
          "output_type": "display_data",
          "data": {
            "text/plain": [
              "<Figure size 432x288 with 2 Axes>"
            ],
            "image/png": "[encoded data removed]"
          },
          "metadata": {
            "needs_background": "light"
          }
        },
        {
          "output_type": "display_data",
          "data": {
            "text/plain": [
              "<Figure size 432x288 with 1 Axes>"
            ],
            "image/png": "[encoded data removed]"
          },
          "metadata": {
            "needs_background": "light"
          }
        },
        {
          "output_type": "display_data",
          "data": {
            "text/plain": [
              "<Figure size 432x288 with 1 Axes>"
            ],
            "image/png": "[encoded data removed]"
          },
          "metadata": {
            "needs_background": "light"
          }
        }
      ]
    },
    {
      "cell_type": "code",
      "source": [
        "# 설정된 최대 길이보다 클 경우 데이터에서 제외\n",
        "def below_threshold_len(max_len, nested_list):\n",
        "  cnt = 0\n",
        "  for s in nested_list:\n",
        "    if(len(s.split()) <= max_len):\n",
        "        cnt = cnt + 1"
      ],
      "metadata": {
        "id": "Wj287Kmm0VNh"
      },
      "execution_count": 144,
      "outputs": []
    },
    {
      "cell_type": "code",
      "source": [
        "text_max_len = 60\n",
        "headlines_max_len = 16\n",
        "\n",
        "below_threshold_len(text_max_len, data['text'])\n",
        "below_threshold_len(headlines_max_len, data['headlines'])"
      ],
      "metadata": {
        "id": "6aKknzhT0dHy"
      },
      "execution_count": 145,
      "outputs": []
    },
    {
      "cell_type": "code",
      "source": [
        "# 시작 및 종료 토큰 추가\n",
        "data['decoder_input'] = data['headlines'].apply(lambda x : 'sostoken '+ x)\n",
        "data['decoder_target'] = data['headlines'].apply(lambda x : x + ' eostoken')\n",
        "data.head()"
      ],
      "metadata": {
        "colab": {
          "base_uri": "https://localhost:8080/",
          "height": 206
        },
        "id": "2_YFeLIjIkuH",
        "outputId": "94b4d27b-01a4-4fb2-c666-025064a09928"
      },
      "execution_count": 148,
      "outputs": [
        {
          "output_type": "execute_result",
          "data": {
            "text/plain": [
              "                                           headlines  \\\n",
              "0  upgrad learner switches to career in ml al wit...   \n",
              "1  delhi techie wins free food from swiggy for on...   \n",
              "2  new zealand end rohit sharma led india match w...   \n",
              "3  aegon life iterm insurance plan helps customer...   \n",
              "4  have known hirani for yrs what if metoo claims...   \n",
              "\n",
              "                                                text  \\\n",
              "0  saurav kant alumnus upgrad iiit pg program mac...   \n",
              "1  kunal shah credit card bill payment platform c...   \n",
              "2  new zealand defeated india wickets fourth odi ...   \n",
              "3  aegon life iterm insurance plan customers enjo...   \n",
              "4  speaking sexual harassment allegations rajkuma...   \n",
              "\n",
              "                                       decoder_input  \\\n",
              "0  sostoken upgrad learner switches to career in ...   \n",
              "1  sostoken delhi techie wins free food from swig...   \n",
              "2  sostoken new zealand end rohit sharma led indi...   \n",
              "3  sostoken aegon life iterm insurance plan helps...   \n",
              "4  sostoken have known hirani for yrs what if met...   \n",
              "\n",
              "                                      decoder_target  \n",
              "0  upgrad learner switches to career in ml al wit...  \n",
              "1  delhi techie wins free food from swiggy for on...  \n",
              "2  new zealand end rohit sharma led india match w...  \n",
              "3  aegon life iterm insurance plan helps customer...  \n",
              "4  have known hirani for yrs what if metoo claims...  "
            ],
            "text/html": [
              "\n",
              "  <div id=\"df-c3ae859a-078f-4adf-a71b-253f8c0edacf\">\n",
              "    <div class=\"colab-df-container\">\n",
              "      <div>\n",
              "<style scoped>\n",
              "    .dataframe tbody tr th:only-of-type {\n",
              "        vertical-align: middle;\n",
              "    }\n",
              "\n",
              "    .dataframe tbody tr th {\n",
              "        vertical-align: top;\n",
              "    }\n",
              "\n",
              "    .dataframe thead th {\n",
              "        text-align: right;\n",
              "    }\n",
              "</style>\n",
              "<table border=\"1\" class=\"dataframe\">\n",
              "  <thead>\n",
              "    <tr style=\"text-align: right;\">\n",
              "      <th></th>\n",
              "      <th>headlines</th>\n",
              "      <th>text</th>\n",
              "      <th>decoder_input</th>\n",
              "      <th>decoder_target</th>\n",
              "    </tr>\n",
              "  </thead>\n",
              "  <tbody>\n",
              "    <tr>\n",
              "      <th>0</th>\n",
              "      <td>upgrad learner switches to career in ml al wit...</td>\n",
              "      <td>saurav kant alumnus upgrad iiit pg program mac...</td>\n",
              "      <td>sostoken upgrad learner switches to career in ...</td>\n",
              "      <td>upgrad learner switches to career in ml al wit...</td>\n",
              "    </tr>\n",
              "    <tr>\n",
              "      <th>1</th>\n",
              "      <td>delhi techie wins free food from swiggy for on...</td>\n",
              "      <td>kunal shah credit card bill payment platform c...</td>\n",
              "      <td>sostoken delhi techie wins free food from swig...</td>\n",
              "      <td>delhi techie wins free food from swiggy for on...</td>\n",
              "    </tr>\n",
              "    <tr>\n",
              "      <th>2</th>\n",
              "      <td>new zealand end rohit sharma led india match w...</td>\n",
              "      <td>new zealand defeated india wickets fourth odi ...</td>\n",
              "      <td>sostoken new zealand end rohit sharma led indi...</td>\n",
              "      <td>new zealand end rohit sharma led india match w...</td>\n",
              "    </tr>\n",
              "    <tr>\n",
              "      <th>3</th>\n",
              "      <td>aegon life iterm insurance plan helps customer...</td>\n",
              "      <td>aegon life iterm insurance plan customers enjo...</td>\n",
              "      <td>sostoken aegon life iterm insurance plan helps...</td>\n",
              "      <td>aegon life iterm insurance plan helps customer...</td>\n",
              "    </tr>\n",
              "    <tr>\n",
              "      <th>4</th>\n",
              "      <td>have known hirani for yrs what if metoo claims...</td>\n",
              "      <td>speaking sexual harassment allegations rajkuma...</td>\n",
              "      <td>sostoken have known hirani for yrs what if met...</td>\n",
              "      <td>have known hirani for yrs what if metoo claims...</td>\n",
              "    </tr>\n",
              "  </tbody>\n",
              "</table>\n",
              "</div>\n",
              "      <button class=\"colab-df-convert\" onclick=\"convertToInteractive('df-c3ae859a-078f-4adf-a71b-253f8c0edacf')\"\n",
              "              title=\"Convert this dataframe to an interactive table.\"\n",
              "              style=\"display:none;\">\n",
              "        \n",
              "  <svg xmlns=\"http://www.w3.org/2000/svg\" height=\"24px\"viewBox=\"0 0 24 24\"\n",
              "       width=\"24px\">\n",
              "    <path d=\"M0 0h24v24H0V0z\" fill=\"none\"/>\n",
              "    <path d=\"M18.56 5.44l.94 2.06.94-2.06 2.06-.94-2.06-.94-.94-2.06-.94 2.06-2.06.94zm-11 1L8.5 8.5l.94-2.06 2.06-.94-2.06-.94L8.5 2.5l-.94 2.06-2.06.94zm10 10l.94 2.06.94-2.06 2.06-.94-2.06-.94-.94-2.06-.94 2.06-2.06.94z\"/><path d=\"M17.41 7.96l-1.37-1.37c-.4-.4-.92-.59-1.43-.59-.52 0-1.04.2-1.43.59L10.3 9.45l-7.72 7.72c-.78.78-.78 2.05 0 2.83L4 21.41c.39.39.9.59 1.41.59.51 0 1.02-.2 1.41-.59l7.78-7.78 2.81-2.81c.8-.78.8-2.07 0-2.86zM5.41 20L4 18.59l7.72-7.72 1.47 1.35L5.41 20z\"/>\n",
              "  </svg>\n",
              "      </button>\n",
              "      \n",
              "  <style>\n",
              "    .colab-df-container {\n",
              "      display:flex;\n",
              "      flex-wrap:wrap;\n",
              "      gap: 12px;\n",
              "    }\n",
              "\n",
              "    .colab-df-convert {\n",
              "      background-color: #E8F0FE;\n",
              "      border: none;\n",
              "      border-radius: 50%;\n",
              "      cursor: pointer;\n",
              "      display: none;\n",
              "      fill: #1967D2;\n",
              "      height: 32px;\n",
              "      padding: 0 0 0 0;\n",
              "      width: 32px;\n",
              "    }\n",
              "\n",
              "    .colab-df-convert:hover {\n",
              "      background-color: #E2EBFA;\n",
              "      box-shadow: 0px 1px 2px rgba(60, 64, 67, 0.3), 0px 1px 3px 1px rgba(60, 64, 67, 0.15);\n",
              "      fill: #174EA6;\n",
              "    }\n",
              "\n",
              "    [theme=dark] .colab-df-convert {\n",
              "      background-color: #3B4455;\n",
              "      fill: #D2E3FC;\n",
              "    }\n",
              "\n",
              "    [theme=dark] .colab-df-convert:hover {\n",
              "      background-color: #434B5C;\n",
              "      box-shadow: 0px 1px 3px 1px rgba(0, 0, 0, 0.15);\n",
              "      filter: drop-shadow(0px 1px 2px rgba(0, 0, 0, 0.3));\n",
              "      fill: #FFFFFF;\n",
              "    }\n",
              "  </style>\n",
              "\n",
              "      <script>\n",
              "        const buttonEl =\n",
              "          document.querySelector('#df-c3ae859a-078f-4adf-a71b-253f8c0edacf button.colab-df-convert');\n",
              "        buttonEl.style.display =\n",
              "          google.colab.kernel.accessAllowed ? 'block' : 'none';\n",
              "\n",
              "        async function convertToInteractive(key) {\n",
              "          const element = document.querySelector('#df-c3ae859a-078f-4adf-a71b-253f8c0edacf');\n",
              "          const dataTable =\n",
              "            await google.colab.kernel.invokeFunction('convertToInteractive',\n",
              "                                                     [key], {});\n",
              "          if (!dataTable) return;\n",
              "\n",
              "          const docLinkHtml = 'Like what you see? Visit the ' +\n",
              "            '<a target=\"_blank\" href=https://colab.research.google.com/notebooks/data_table.ipynb>data table notebook</a>'\n",
              "            + ' to learn more about interactive tables.';\n",
              "          element.innerHTML = '';\n",
              "          dataTable['output_type'] = 'display_data';\n",
              "          await google.colab.output.renderOutput(dataTable, element);\n",
              "          const docLink = document.createElement('div');\n",
              "          docLink.innerHTML = docLinkHtml;\n",
              "          element.appendChild(docLink);\n",
              "        }\n",
              "      </script>\n",
              "    </div>\n",
              "  </div>\n",
              "  "
            ]
          },
          "metadata": {},
          "execution_count": 148
        }
      ]
    },
    {
      "cell_type": "code",
      "source": [
        "# 모델 훈련에 사용할 데이터 변수\n",
        "encoder_input = np.array(data['text'])\n",
        "decoder_input = np.array(data['decoder_input'])\n",
        "decoder_target = np.array(data['decoder_target'])"
      ],
      "metadata": {
        "id": "YzJulw6JKCFQ"
      },
      "execution_count": 151,
      "outputs": []
    },
    {
      "cell_type": "markdown",
      "source": [
        "*데이터셋 분리하기*"
      ],
      "metadata": {
        "id": "nbrUbzzD4G5_"
      }
    },
    {
      "cell_type": "code",
      "source": [
        "# encoder_input과 크기와 형태가 같으며 순서가 섞인 '정수 시퀀스'\n",
        "indices = np.arange(encoder_input.shape[0])\n",
        "np.random.shuffle(indices)"
      ],
      "metadata": {
        "id": "MelOHNFNLY71"
      },
      "execution_count": 167,
      "outputs": []
    },
    {
      "cell_type": "code",
      "source": [
        "# '정수 시퀀스'를 이용해 데이터 재설정\n",
        "encoder_input = encoder_input[indices]\n",
        "decoder_input = decoder_input[indices]\n",
        "decoder_target = decoder_target[indices]"
      ],
      "metadata": {
        "id": "n9eU-i6kLdZa"
      },
      "execution_count": 168,
      "outputs": []
    },
    {
      "cell_type": "code",
      "source": [
        "# 2:8 비율로 분리\n",
        "n_of_val = int(len(encoder_input)*0.2)\n",
        "\n",
        "encoder_input_train = encoder_input[:-n_of_val]\n",
        "decoder_input_train = decoder_input[:-n_of_val]\n",
        "decoder_target_train = decoder_target[:-n_of_val]\n",
        "\n",
        "encoder_input_test = encoder_input[-n_of_val:]\n",
        "decoder_input_test = decoder_input[-n_of_val:]\n",
        "decoder_target_test = decoder_target[-n_of_val:]\n",
        "\n",
        "print('훈련 데이터의 개수 :', len(encoder_input_train))\n",
        "print('훈련 레이블의 개수 :', len(decoder_input_train))\n",
        "print('테스트 데이터의 개수 :', len(encoder_input_test))\n",
        "print('테스트 레이블의 개수 :', len(decoder_input_test))"
      ],
      "metadata": {
        "colab": {
          "base_uri": "https://localhost:8080/"
        },
        "id": "XxTcrTqfLkl0",
        "outputId": "1e30e61a-91bd-43a0-90fa-3aa9440cead9"
      },
      "execution_count": 169,
      "outputs": [
        {
          "output_type": "stream",
          "name": "stdout",
          "text": [
            "훈련 데이터의 개수 : 78688\n",
            "훈련 레이블의 개수 : 78688\n",
            "테스트 데이터의 개수 : 19672\n",
            "테스트 레이블의 개수 : 19672\n"
          ]
        }
      ]
    },
    {
      "cell_type": "markdown",
      "source": [
        "*정수 인코딩*"
      ],
      "metadata": {
        "id": "rvQcKt2JMo46"
      }
    },
    {
      "cell_type": "code",
      "source": [
        "src_tokenizer = tf.keras.preprocessing.text.Tokenizer()\n",
        "src_tokenizer.fit_on_texts(encoder_input_train)"
      ],
      "metadata": {
        "id": "C5CDxfVyMq03"
      },
      "execution_count": 170,
      "outputs": []
    },
    {
      "cell_type": "code",
      "source": [
        "threshold = 6\n",
        "total_cnt = len(src_tokenizer.word_index) # 단어의 수\n",
        "rare_cnt = 0 # 등장 빈도수가 threshold보다 작은 단어의 개수를 카운트\n",
        "total_freq = 0 # 훈련 데이터의 전체 단어 빈도수 총 합\n",
        "rare_freq = 0 # 등장 빈도수가 threshold보다 작은 단어의 등장 빈도수의 총 합\n",
        "\n",
        "# 단어와 빈도수의 쌍(pair)을 key와 value로 받는다.\n",
        "for key, value in src_tokenizer.word_counts.items():\n",
        "    total_freq = total_freq + value\n",
        "\n",
        "    # 단어의 등장 빈도수가 threshold보다 작으면\n",
        "    if(value < threshold):\n",
        "        rare_cnt = rare_cnt + 1\n",
        "        rare_freq = rare_freq + value\n",
        "\n",
        "print('단어 집합(vocabulary)의 크기 :', total_cnt)\n",
        "print('등장 빈도가 %s번 이하인 희귀 단어의 수: %s'%(threshold - 1, rare_cnt))\n",
        "print('단어 집합에서 희귀 단어를 제외시킬 경우의 단어 집합의 크기 %s'%(total_cnt - rare_cnt))\n",
        "print(\"단어 집합에서 희귀 단어의 비율:\", (rare_cnt / total_cnt)*100)\n",
        "print(\"전체 등장 빈도에서 희귀 단어 등장 빈도 비율:\", (rare_freq / total_freq)*100)"
      ],
      "metadata": {
        "colab": {
          "base_uri": "https://localhost:8080/"
        },
        "id": "6mw6AZW4NRBm",
        "outputId": "8ea22985-5bd9-4cda-f089-361749bd87d1"
      },
      "execution_count": 160,
      "outputs": [
        {
          "output_type": "stream",
          "name": "stdout",
          "text": [
            "단어 집합(vocabulary)의 크기 : 69428\n",
            "등장 빈도가 5번 이하인 희귀 단어의 수: 45421\n",
            "단어 집합에서 희귀 단어를 제외시킬 경우의 단어 집합의 크기 24007\n",
            "단어 집합에서 희귀 단어의 비율: 65.42173186610589\n",
            "전체 등장 빈도에서 희귀 단어 등장 빈도 비율: 3.073364655908043\n"
          ]
        }
      ]
    },
    {
      "cell_type": "code",
      "source": [
        "src_vocab = 24000\n",
        "src_tokenizer = tf.keras.preprocessing.text.Tokenizer(num_words=src_vocab)\n",
        "src_tokenizer.fit_on_texts(encoder_input_train)"
      ],
      "metadata": {
        "id": "z3eiAyDiNjbW"
      },
      "execution_count": 171,
      "outputs": []
    },
    {
      "cell_type": "code",
      "source": [
        "encoder_input_train = src_tokenizer.texts_to_sequences(encoder_input_train) \n",
        "encoder_input_test = src_tokenizer.texts_to_sequences(encoder_input_test)"
      ],
      "metadata": {
        "id": "v4HpQPG3N_Yk"
      },
      "execution_count": 172,
      "outputs": []
    },
    {
      "cell_type": "code",
      "source": [
        "target_tokenizer = tf.keras.preprocessing.text.Tokenizer()\n",
        "target_tokenizer.fit_on_texts(decoder_input_train)"
      ],
      "metadata": {
        "id": "Krlkp5fvOoMk"
      },
      "execution_count": 173,
      "outputs": []
    },
    {
      "cell_type": "code",
      "source": [
        "threshold = 6\n",
        "total_cnt = len(target_tokenizer.word_index) # 단어의 수\n",
        "rare_cnt = 0 # 등장 빈도수가 threshold보다 작은 단어의 개수를 카운트\n",
        "total_freq = 0 # 훈련 데이터의 전체 단어 빈도수 총 합\n",
        "rare_freq = 0 # 등장 빈도수가 threshold보다 작은 단어의 등장 빈도수의 총 합\n",
        "\n",
        "# 단어와 빈도수의 쌍(pair)을 key와 value로 받는다.\n",
        "for key, value in target_tokenizer.word_counts.items():\n",
        "    total_freq = total_freq + value\n",
        "\n",
        "    # 단어의 등장 빈도수가 threshold보다 작으면\n",
        "    if(value < threshold):\n",
        "        rare_cnt = rare_cnt + 1\n",
        "        rare_freq = rare_freq + value\n",
        "\n",
        "print('단어 집합(vocabulary)의 크기 :', total_cnt)\n",
        "print('등장 빈도가 %s번 이하인 희귀 단어의 수: %s'%(threshold - 1, rare_cnt))\n",
        "print('단어 집합에서 희귀 단어를 제외시킬 경우의 단어 집합의 크기 %s'%(total_cnt - rare_cnt))\n",
        "print(\"단어 집합에서 희귀 단어의 비율:\", (rare_cnt / total_cnt)*100)\n",
        "print(\"전체 등장 빈도에서 희귀 단어 등장 빈도 비율:\", (rare_freq / total_freq)*100)"
      ],
      "metadata": {
        "colab": {
          "base_uri": "https://localhost:8080/"
        },
        "id": "ORDOuVKSOyY_",
        "outputId": "3330ee7e-bc0f-4bee-80f2-95a2a191edbc"
      },
      "execution_count": 174,
      "outputs": [
        {
          "output_type": "stream",
          "name": "stdout",
          "text": [
            "단어 집합(vocabulary)의 크기 : 30143\n",
            "등장 빈도가 5번 이하인 희귀 단어의 수: 19771\n",
            "단어 집합에서 희귀 단어를 제외시킬 경우의 단어 집합의 크기 10372\n",
            "단어 집합에서 희귀 단어의 비율: 65.59068440433931\n",
            "전체 등장 빈도에서 희귀 단어 등장 빈도 비율: 4.680233598329819\n"
          ]
        }
      ]
    },
    {
      "cell_type": "code",
      "source": [
        "target_vocab = 10000\n",
        "target_tokenizer = tf.keras.preprocessing.text.Tokenizer(num_words=target_vocab) \n",
        "target_tokenizer.fit_on_texts(decoder_input_train)\n",
        "target_tokenizer.fit_on_texts(decoder_target_train)"
      ],
      "metadata": {
        "id": "qXeY1FT_O-zw"
      },
      "execution_count": 175,
      "outputs": []
    },
    {
      "cell_type": "code",
      "source": [
        "decoder_input_train = target_tokenizer.texts_to_sequences(decoder_input_train) \n",
        "decoder_target_train = target_tokenizer.texts_to_sequences(decoder_target_train)\n",
        "decoder_input_test = target_tokenizer.texts_to_sequences(decoder_input_test)\n",
        "decoder_target_test = target_tokenizer.texts_to_sequences(decoder_target_test)"
      ],
      "metadata": {
        "id": "3fWldctx6H-1"
      },
      "execution_count": 177,
      "outputs": []
    },
    {
      "cell_type": "code",
      "source": [
        "# 빈도가 낮은 단어로 구성되어 삭제된 (길이 == 1) 데이터 제외\n",
        "drop_train = [index for index, sentence in enumerate(decoder_input_train) if len(sentence) == 1]\n",
        "drop_test = [index for index, sentence in enumerate(decoder_input_test) if len(sentence) == 1]\n",
        "\n",
        "print('삭제할 훈련 데이터의 개수 :', len(drop_train))\n",
        "print('삭제할 테스트 데이터의 개수 :', len(drop_test))\n",
        "\n",
        "encoder_input_train = [sentence for index, sentence in enumerate(encoder_input_train) if index not in drop_train]\n",
        "decoder_input_train = [sentence for index, sentence in enumerate(decoder_input_train) if index not in drop_train]\n",
        "decoder_target_train = [sentence for index, sentence in enumerate(decoder_target_train) if index not in drop_train]\n",
        "\n",
        "encoder_input_test = [sentence for index, sentence in enumerate(encoder_input_test) if index not in drop_test]\n",
        "decoder_input_test = [sentence for index, sentence in enumerate(decoder_input_test) if index not in drop_test]\n",
        "decoder_target_test = [sentence for index, sentence in enumerate(decoder_target_test) if index not in drop_test]\n",
        "\n",
        "print('훈련 데이터의 개수 :', len(encoder_input_train))\n",
        "print('훈련 레이블의 개수 :', len(decoder_input_train))\n",
        "print('테스트 데이터의 개수 :', len(encoder_input_test))\n",
        "print('테스트 레이블의 개수 :', len(decoder_input_test))"
      ],
      "metadata": {
        "colab": {
          "base_uri": "https://localhost:8080/"
        },
        "id": "9RZZFU5wQMYN",
        "outputId": "79d4f357-83c8-47da-de7b-93546201107e"
      },
      "execution_count": 178,
      "outputs": [
        {
          "output_type": "stream",
          "name": "stdout",
          "text": [
            "삭제할 훈련 데이터의 개수 : 1\n",
            "삭제할 테스트 데이터의 개수 : 0\n",
            "훈련 데이터의 개수 : 78687\n",
            "훈련 레이블의 개수 : 78687\n",
            "테스트 데이터의 개수 : 19672\n",
            "테스트 레이블의 개수 : 19672\n"
          ]
        }
      ]
    },
    {
      "cell_type": "code",
      "source": [
        "# 데이터 길이 맞추기 : 패딩\n",
        "encoder_input_train = tf.keras.preprocessing.sequence.pad_sequences(encoder_input_train, maxlen=text_max_len, padding='post')\n",
        "encoder_input_test = tf.keras.preprocessing.sequence.pad_sequences(encoder_input_test, maxlen=text_max_len, padding='post')\n",
        "decoder_input_train = tf.keras.preprocessing.sequence.pad_sequences(decoder_input_train, maxlen=headlines_max_len, padding='post')\n",
        "decoder_target_train = tf.keras.preprocessing.sequence.pad_sequences(decoder_target_train, maxlen=headlines_max_len, padding='post')\n",
        "decoder_input_test = tf.keras.preprocessing.sequence.pad_sequences(decoder_input_test, maxlen=headlines_max_len, padding='post')\n",
        "decoder_target_test = tf.keras.preprocessing.sequence.pad_sequences(decoder_target_test, maxlen=headlines_max_len, padding='post')"
      ],
      "metadata": {
        "id": "SUPcmPjFQ7fO"
      },
      "execution_count": 179,
      "outputs": []
    },
    {
      "cell_type": "markdown",
      "source": [
        "\n",
        "\n",
        "### Step 3. 어텐션 메커니즘 사용하기 (추상적 요약)\n",
        "\n"
      ],
      "metadata": {
        "id": "skmcF-1z6djL"
      }
    },
    {
      "cell_type": "markdown",
      "source": [
        "*(훈련) 모델 설계*"
      ],
      "metadata": {
        "id": "mHSDcMtOAjJ-"
      }
    },
    {
      "cell_type": "code",
      "source": [
        "from tensorflow.keras.layers import Input, LSTM, Embedding, Dense, Concatenate, TimeDistributed\n",
        "from tensorflow.keras.callbacks import EarlyStopping, ModelCheckpoint\n",
        "\n",
        "\n",
        "embedding_dim = 128\n",
        "hidden_size = 256\n",
        "\n",
        "# Encoder\n",
        "encoder_inputs = Input(shape=(text_max_len,))\n",
        "\n",
        "# Embedding Layer\n",
        "enc_emb = Embedding(src_vocab, embedding_dim)(encoder_inputs)\n",
        "\n",
        "# LSTM 1\n",
        "encoder_lstm1 = LSTM(hidden_size, return_sequences=True, return_state=True ,dropout = 0.4)\n",
        "encoder_output1, state_h1, state_c1 = encoder_lstm1(enc_emb)\n",
        "\n",
        "# LSTM 2\n",
        "encoder_lstm2 = LSTM(hidden_size, return_sequences=True, return_state=True, dropout=0.4)\n",
        "encoder_output2, state_h2, state_c2 = encoder_lstm2(encoder_output1)\n",
        "\n",
        "# LSTM 3\n",
        "encoder_lstm3 = LSTM(hidden_size, return_state=True, return_sequences=True, dropout=0.4)\n",
        "encoder_outputs, state_h, state_c= encoder_lstm3(encoder_output2)"
      ],
      "metadata": {
        "id": "LhQjMACcAiml"
      },
      "execution_count": 188,
      "outputs": []
    },
    {
      "cell_type": "code",
      "source": [
        "# Decoder\n",
        "decoder_inputs = Input(shape=(None,))\n",
        "\n",
        "# Embedding Layer\n",
        "dec_emb_layer = Embedding(target_vocab, embedding_dim)\n",
        "dec_emb = dec_emb_layer(decoder_inputs)\n",
        "\n",
        "# LSTM\n",
        "decoder_lstm = LSTM(hidden_size, return_sequences=True, return_state=True, dropout=0.4)\n",
        "decoder_outputs, _, _ = decoder_lstm(dec_emb, initial_state=[state_h, state_c])"
      ],
      "metadata": {
        "id": "H5wEGM5aCEXQ"
      },
      "execution_count": 190,
      "outputs": []
    },
    {
      "cell_type": "code",
      "source": [
        "# Attention Layer\n",
        "attn_layer = tf.keras.layers.AdditiveAttention(name='attention_layer')\n",
        "\n",
        "# Encoder와 Decoder의 모든 time step에 대한 hidden state를 Attention Layer에 전달하고 결과를 리턴\n",
        "attn_out = attn_layer([decoder_outputs, encoder_outputs])\n",
        "\n",
        "# Attention 결과와 Decoder의 hidden state 연결\n",
        "decoder_concat_input = Concatenate(axis=-1, name='concat_layer')([decoder_outputs, attn_out])"
      ],
      "metadata": {
        "id": "Pv74oBD-_1Bk"
      },
      "execution_count": 192,
      "outputs": []
    },
    {
      "cell_type": "code",
      "source": [
        "# Output Layer\n",
        "decoder_softmax_layer = Dense(target_vocab, activation='softmax')\n",
        "decoder_softmax_outputs = decoder_softmax_layer(decoder_concat_input)"
      ],
      "metadata": {
        "id": "rnPI8HFjCvB6"
      },
      "execution_count": 193,
      "outputs": []
    },
    {
      "cell_type": "code",
      "source": [
        "# 모델 정의\n",
        "model = tf.keras.models.Model([encoder_inputs, decoder_inputs], decoder_softmax_outputs)\n",
        "model.summary()"
      ],
      "metadata": {
        "colab": {
          "base_uri": "https://localhost:8080/"
        },
        "id": "JWqtkCxCCw_u",
        "outputId": "57dec0d6-b3fa-415e-89fa-41ef64565ac0"
      },
      "execution_count": 194,
      "outputs": [
        {
          "output_type": "stream",
          "name": "stdout",
          "text": [
            "Model: \"model_1\"\n",
            "__________________________________________________________________________________________________\n",
            " Layer (type)                   Output Shape         Param #     Connected to                     \n",
            "==================================================================================================\n",
            " input_5 (InputLayer)           [(None, 60)]         0           []                               \n",
            "                                                                                                  \n",
            " embedding_4 (Embedding)        (None, 60, 128)      3072000     ['input_5[0][0]']                \n",
            "                                                                                                  \n",
            " lstm_8 (LSTM)                  [(None, 60, 256),    394240      ['embedding_4[0][0]']            \n",
            "                                 (None, 256),                                                     \n",
            "                                 (None, 256)]                                                     \n",
            "                                                                                                  \n",
            " input_7 (InputLayer)           [(None, None)]       0           []                               \n",
            "                                                                                                  \n",
            " lstm_9 (LSTM)                  [(None, 60, 256),    525312      ['lstm_8[0][0]']                 \n",
            "                                 (None, 256),                                                     \n",
            "                                 (None, 256)]                                                     \n",
            "                                                                                                  \n",
            " embedding_5 (Embedding)        (None, None, 128)    1280000     ['input_7[0][0]']                \n",
            "                                                                                                  \n",
            " lstm_10 (LSTM)                 [(None, 60, 256),    525312      ['lstm_9[0][0]']                 \n",
            "                                 (None, 256),                                                     \n",
            "                                 (None, 256)]                                                     \n",
            "                                                                                                  \n",
            " lstm_11 (LSTM)                 [(None, None, 256),  394240      ['embedding_5[0][0]',            \n",
            "                                 (None, 256),                     'lstm_10[0][1]',                \n",
            "                                 (None, 256)]                     'lstm_10[0][2]']                \n",
            "                                                                                                  \n",
            " attention_layer (AdditiveAtten  (None, None, 256)   256         ['lstm_11[0][0]',                \n",
            " tion)                                                            'lstm_10[0][0]']                \n",
            "                                                                                                  \n",
            " concat_layer (Concatenate)     (None, None, 512)    0           ['lstm_11[0][0]',                \n",
            "                                                                  'attention_layer[0][0]']        \n",
            "                                                                                                  \n",
            " dense_2 (Dense)                (None, None, 10000)  5130000     ['concat_layer[0][0]']           \n",
            "                                                                                                  \n",
            "==================================================================================================\n",
            "Total params: 11,321,360\n",
            "Trainable params: 11,321,360\n",
            "Non-trainable params: 0\n",
            "__________________________________________________________________________________________________\n"
          ]
        }
      ]
    },
    {
      "cell_type": "markdown",
      "source": [
        "*모델 훈련*"
      ],
      "metadata": {
        "id": "aT5HQb7EDfIl"
      }
    },
    {
      "cell_type": "code",
      "source": [
        "model.compile(optimizer='rmsprop', loss='sparse_categorical_crossentropy')\n",
        "es = EarlyStopping(monitor='val_loss', patience=2, verbose=1)\n",
        "history = model.fit(x=[encoder_input_train, decoder_input_train], y=decoder_target_train, \\\n",
        "          validation_data=([encoder_input_test, decoder_input_test], decoder_target_test), \\\n",
        "          batch_size=256, callbacks=[es], epochs=50)"
      ],
      "metadata": {
        "colab": {
          "base_uri": "https://localhost:8080/"
        },
        "id": "IYdLVNarDceg",
        "outputId": "4b0e4ee9-082d-4b72-a469-382edfa4b2b0"
      },
      "execution_count": 195,
      "outputs": [
        {
          "output_type": "stream",
          "name": "stdout",
          "text": [
            "Epoch 1/50\n",
            "308/308 [==============================] - 371s 1s/step - loss: 4.2757 - val_loss: 3.9194\n",
            "Epoch 2/50\n",
            "308/308 [==============================] - 368s 1s/step - loss: 3.8145 - val_loss: 3.6467\n",
            "Epoch 3/50\n",
            "308/308 [==============================] - 367s 1s/step - loss: 3.5521 - val_loss: 3.4539\n",
            "Epoch 4/50\n",
            "308/308 [==============================] - 522s 2s/step - loss: 3.3496 - val_loss: 3.2910\n",
            "Epoch 5/50\n",
            "308/308 [==============================] - 631s 2s/step - loss: 3.1909 - val_loss: 3.1859\n",
            "Epoch 6/50\n",
            "308/308 [==============================] - 629s 2s/step - loss: 3.0612 - val_loss: 3.1013\n",
            "Epoch 7/50\n",
            "308/308 [==============================] - 629s 2s/step - loss: 2.9528 - val_loss: 3.0495\n",
            "Epoch 8/50\n",
            "308/308 [==============================] - 633s 2s/step - loss: 2.8565 - val_loss: 2.9807\n",
            "Epoch 9/50\n",
            "308/308 [==============================] - 631s 2s/step - loss: 2.7725 - val_loss: 2.9370\n",
            "Epoch 10/50\n",
            "308/308 [==============================] - 630s 2s/step - loss: 2.6993 - val_loss: 2.9075\n",
            "Epoch 11/50\n",
            "308/308 [==============================] - 628s 2s/step - loss: 2.6321 - val_loss: 2.8813\n",
            "Epoch 12/50\n",
            "308/308 [==============================] - 632s 2s/step - loss: 2.5693 - val_loss: 2.8541\n",
            "Epoch 13/50\n",
            "308/308 [==============================] - 631s 2s/step - loss: 2.5124 - val_loss: 2.8333\n",
            "Epoch 14/50\n",
            "308/308 [==============================] - 629s 2s/step - loss: 2.4600 - val_loss: 2.8211\n",
            "Epoch 15/50\n",
            "308/308 [==============================] - 625s 2s/step - loss: 2.4116 - val_loss: 2.8008\n",
            "Epoch 16/50\n",
            "308/308 [==============================] - 625s 2s/step - loss: 2.3671 - val_loss: 2.7859\n",
            "Epoch 17/50\n",
            "308/308 [==============================] - 624s 2s/step - loss: 2.3258 - val_loss: 2.7784\n",
            "Epoch 18/50\n",
            "308/308 [==============================] - 624s 2s/step - loss: 2.2848 - val_loss: 2.7725\n",
            "Epoch 19/50\n",
            "308/308 [==============================] - 625s 2s/step - loss: 2.2505 - val_loss: 2.7691\n",
            "Epoch 20/50\n",
            "308/308 [==============================] - 627s 2s/step - loss: 2.2160 - val_loss: 2.7622\n",
            "Epoch 21/50\n",
            "308/308 [==============================] - 624s 2s/step - loss: 2.1852 - val_loss: 2.7624\n",
            "Epoch 22/50\n",
            "308/308 [==============================] - 623s 2s/step - loss: 2.1560 - val_loss: 2.7558\n",
            "Epoch 23/50\n",
            "308/308 [==============================] - 624s 2s/step - loss: 2.1265 - val_loss: 2.7548\n",
            "Epoch 24/50\n",
            "308/308 [==============================] - 624s 2s/step - loss: 2.0971 - val_loss: 2.7524\n",
            "Epoch 25/50\n",
            "308/308 [==============================] - 622s 2s/step - loss: 2.0709 - val_loss: 2.7549\n",
            "Epoch 26/50\n",
            "308/308 [==============================] - 622s 2s/step - loss: 2.0466 - val_loss: 2.7523\n",
            "Epoch 27/50\n",
            "308/308 [==============================] - 622s 2s/step - loss: 2.0218 - val_loss: 2.7510\n",
            "Epoch 28/50\n",
            "308/308 [==============================] - 622s 2s/step - loss: 1.9992 - val_loss: 2.7532\n",
            "Epoch 29/50\n",
            "308/308 [==============================] - 622s 2s/step - loss: 1.9765 - val_loss: 2.7495\n",
            "Epoch 30/50\n",
            "308/308 [==============================] - 623s 2s/step - loss: 1.9551 - val_loss: 2.7546\n",
            "Epoch 31/50\n",
            "308/308 [==============================] - 623s 2s/step - loss: 1.9339 - val_loss: 2.7527\n",
            "Epoch 31: early stopping\n"
          ]
        }
      ]
    },
    {
      "cell_type": "code",
      "source": [
        "plt.plot(history.history['loss'], label='train')\n",
        "plt.plot(history.history['val_loss'], label='test')\n",
        "plt.legend()\n",
        "plt.show()"
      ],
      "metadata": {
        "colab": {
          "base_uri": "https://localhost:8080/",
          "height": 265
        },
        "id": "a6EQEh2PDymI",
        "outputId": "c36c19d8-1811-499e-b965-7fa9c113840f"
      },
      "execution_count": 197,
      "outputs": [
        {
          "output_type": "display_data",
          "data": {
            "text/plain": [
              "<Figure size 432x288 with 1 Axes>"
            ],
            "image/png": "[encoded data removed]"
          },
          "metadata": {
            "needs_background": "light"
          }
        }
      ]
    },
    {
      "cell_type": "markdown",
      "source": [
        "\n",
        "\n",
        "### Step 4. 실제 결과와 요약문 비교하기 (추상적 요약)\n",
        "\n"
      ],
      "metadata": {
        "id": "vz4sHkts6ffp"
      }
    },
    {
      "cell_type": "markdown",
      "source": [
        "*(추론) 모델 설계*"
      ],
      "metadata": {
        "id": "Qdoo60BWNL0r"
      }
    },
    {
      "cell_type": "markdown",
      "source": [
        "*1) Encoder*"
      ],
      "metadata": {
        "id": "sP_gITDYOGIr"
      }
    },
    {
      "cell_type": "code",
      "source": [
        "# 모델 정의\n",
        "encoder_model = tf.keras.models.Model(inputs=encoder_inputs, outputs=[encoder_outputs, state_h, state_c])"
      ],
      "metadata": {
        "id": "9H5kvV1kE-CR"
      },
      "execution_count": 198,
      "outputs": []
    },
    {
      "cell_type": "markdown",
      "source": [
        "*2) Decoder*"
      ],
      "metadata": {
        "id": "8rlWnlkIOKst"
      }
    },
    {
      "cell_type": "code",
      "source": [
        "# 이전 시점의 상태들을 저장\n",
        "decoder_state_input_h = Input(shape=(hidden_size,))\n",
        "decoder_state_input_c = Input(shape=(hidden_size,))\n",
        "\n",
        "# Embedding Layer\n",
        "dec_emb2 = dec_emb_layer(decoder_inputs)\n",
        "\n",
        "# 문장의 다음 단어를 예측하기 위해서 초기 상태(initial_state)를 이전 시점의 상태로 사용\n",
        "# 훈련 과정에서와 달리 LSTM의 은닉 상태(state_h)와 셀 상태(state_c) 사용\n",
        "decoder_outputs2, state_h2, state_c2 = decoder_lstm(dec_emb2, initial_state=[decoder_state_input_h, decoder_state_input_c])\n",
        "\n",
        "# Attention Layer\n",
        "decoder_hidden_state_input = Input(shape=(text_max_len, hidden_size))\n",
        "attn_out_inf = attn_layer([decoder_outputs2, decoder_hidden_state_input])\n",
        "decoder_inf_concat = Concatenate(axis=-1, name='concat')([decoder_outputs2, attn_out_inf])\n",
        "\n",
        "# Output Layer\n",
        "decoder_outputs2 = decoder_softmax_layer(decoder_inf_concat)\n",
        "\n",
        "# 모델 정의\n",
        "decoder_model = tf.keras.models.Model(\n",
        "    [decoder_inputs] + [decoder_hidden_state_input,decoder_state_input_h, decoder_state_input_c],\n",
        "    [decoder_outputs2] + [state_h2, state_c2])"
      ],
      "metadata": {
        "id": "zeM_ImgkFIy0"
      },
      "execution_count": 199,
      "outputs": []
    },
    {
      "cell_type": "code",
      "source": [
        "src_index_to_word = src_tokenizer.index_word # text 정수 -> 단어\n",
        "target_word_to_index = target_tokenizer.word_index # headlines 단어 -> 정수\n",
        "target_index_to_word = target_tokenizer.index_word # headlines 정수 -> 단어"
      ],
      "metadata": {
        "id": "15mzo9am6jd9"
      },
      "execution_count": 200,
      "outputs": []
    },
    {
      "cell_type": "code",
      "source": [
        "def decode_sequence(input_seq):\n",
        "    # 입력으로부터 인코더의 상태를 얻음\n",
        "    e_out, e_h, e_c = encoder_model.predict(input_seq)\n",
        "\n",
        "     # <SOS>에 해당하는 토큰 생성\n",
        "    target_seq = np.zeros((1,1))\n",
        "    target_seq[0, 0] = target_word_to_index['sostoken']\n",
        "\n",
        "    stop_condition = False\n",
        "    decoded_sentence = ''\n",
        "    while not stop_condition: # stop_condition이 True가 될 때까지 루프 반복\n",
        "\n",
        "        output_tokens, h, c = decoder_model.predict([target_seq] + [e_out, e_h, e_c])\n",
        "        sampled_token_index = np.argmax(output_tokens[0, -1, :])\n",
        "        sampled_token = target_index_to_word[sampled_token_index]\n",
        "\n",
        "        if (sampled_token!='eostoken'):\n",
        "            decoded_sentence += ' '+sampled_token\n",
        "\n",
        "        #  <eos>에 도달하거나 최대 길이를 넘으면 중단\n",
        "        if (sampled_token == 'eostoken'  or len(decoded_sentence.split()) >= (headlines_max_len-1)):\n",
        "            stop_condition = True\n",
        "\n",
        "        # 길이가 1인 타겟 시퀀스 업데이트\n",
        "        target_seq = np.zeros((1,1))\n",
        "        target_seq[0, 0] = sampled_token_index\n",
        "\n",
        "        # 상태 업데이트\n",
        "        e_h, e_c = h, c\n",
        "\n",
        "    return decoded_sentence"
      ],
      "metadata": {
        "id": "FEIWL9QfFNrI"
      },
      "execution_count": 201,
      "outputs": []
    },
    {
      "cell_type": "code",
      "source": [
        "# text 정수 -> 텍스트 변환\n",
        "def seq2text(input_seq):\n",
        "    temp=''\n",
        "    for i in input_seq:\n",
        "        if (i!=0):\n",
        "            temp = temp + src_index_to_word[i]+' '\n",
        "    return temp\n",
        "\n",
        "# headlines 정수 -> 텍스트 변환\n",
        "def seq2headlines(input_seq):\n",
        "    temp=''\n",
        "    for i in input_seq:\n",
        "        if ((i!=0 and i!=target_word_to_index['sostoken']) and i!=target_word_to_index['eostoken']):\n",
        "            temp = temp + target_index_to_word[i] + ' '\n",
        "    return temp"
      ],
      "metadata": {
        "id": "OFEn_28MF4H9"
      },
      "execution_count": 202,
      "outputs": []
    },
    {
      "cell_type": "markdown",
      "source": [
        "*요약문 비교*"
      ],
      "metadata": {
        "id": "_Js3dQq8P68M"
      }
    },
    {
      "cell_type": "code",
      "source": [
        "for i in range(50, 100):\n",
        "    print(\"원문 :\", seq2text(encoder_input_test[i]))\n",
        "    print(\"실제 요약 :\", seq2headlines(decoder_input_test[i]))\n",
        "    print(\"예측 요약 :\", decode_sequence(encoder_input_test[i].reshape(1, text_max_len)))\n",
        "    print(\"\\n\")"
      ],
      "metadata": {
        "colab": {
          "base_uri": "https://localhost:8080/"
        },
        "id": "8HcxurXkGIrL",
        "outputId": "fa857fa0-0d56-416d-e890-39e132ec5c1e"
      },
      "execution_count": 203,
      "outputs": [
        {
          "output_type": "stream",
          "name": "stdout",
          "text": [
            "원문 : world expensive footballer neymar said five time ballon winner cristiano ronaldo joined juventus million change italian football football legend genius italian football watched child neymar added ronaldo scored goals matches nine year spell real madrid \n",
            "실제 요약 : ronaldo is genius will change italian football neymar \n",
            "예측 요약 :  neymar wanted to be named other neymar\n",
            "\n",
            "\n",
            "원문 : telangana government allotted square yard plot badminton player pv sindhu winning silver medal rio olympics following sindhu olympic medal telangana government presented shuttler cash reward crore announced allotment residential plot hyderabad along government job offer \n",
            "실제 요약 : telangana allots sq plot to pv sindhu for rio silver \n",
            "예측 요약 :  sindhu wins silver at world para athletics sindhu\n",
            "\n",
            "\n",
            "원문 : supreme court thursday refused give urgent hearing karti chidambaram request travel abroad november saying go stay back india karti matter taken tomorrow karti probed allegedly obtaining foreign investment clearances aircel maxis deal inx media father chidambaram finance minister \n",
            "실제 요약 : stay back in india sc denies urgent hearing for karti chidambaram \n",
            "예측 요약 :  sc denies karti claim that karti plea to karti\n",
            "\n",
            "\n",
            "원문 : rajasthan congress leaders sachin pilot recently broke argument ticket allocation congress chief rahul gandhi presence meeting finalise first candidate list assembly elections reports said argument grew loud gandhi intervene ask submit detailed reports \n",
            "실제 요약 : pilot argue on candidate list rahul steps in report \n",
            "예측 요약 :  congress leader becomes president to become congress president\n",
            "\n",
            "\n",
            "원문 : indian army planning procure unmanned aerial vehicles order enhance ability monitor movements chinese pakistani troops border regions reports said army also issued request information stating drones range kilometres must remain operational altitude feet \n",
            "실제 요약 : indian army to surveillance drones \n",
            "예측 요약 :  pakistan to build drone along loc in pakistan\n",
            "\n",
            "\n",
            "원문 : former central intelligence agency chief david said never heard term indian state sponsored terrorism entire career comes amid pakistan allegations india spreading terrorism province balochistan us month cut total aid least billion pakistan terror safe havens soil \n",
            "실제 요약 : never heard of india sponsored terrorism ex cia chief \n",
            "예측 요약 :  terrorism is not terrorist pakistan\n",
            "\n",
            "\n",
            "원문 : actress flora saini recently featured stree accused producer doshi physical abuse sharing pictures facebook last one year abuse took came fractured jaw soul life wrote flora claimed happened valentine day dating \n",
            "실제 요약 : actress accuses producer of abuse shares broken jaw pic \n",
            "예측 요약 :  actress slams actress who asked her to her child\n",
            "\n",
            "\n",
            "원문 : bengaluru public school year old principal ranganath stabbed death six unknown assailants front students taking class sunday police suspect dispute regarding land school built reason behind incident assailants reportedly escaped car stabbing ranganath \n",
            "실제 요약 : luru school principal stabbed to death in front of students \n",
            "예측 요약 :  luru school student shot dead by student in gurugram\n",
            "\n",
            "\n",
            "원문 : actress richa chadha praising actor akshaye khanna said brilliant intelligent admired akshaye khanna work films like gandhi father cult film dil hai added richa akshaye seen together upcoming courtroom drama section \n",
            "실제 요약 : akshaye khanna is and richa chadha \n",
            "예측 요약 :  my son is not my father am not like my dad richa\n",
            "\n",
            "\n",
            "원문 : bangladesh pm sheikh hasina said rabindranath tagore wrote poems bangladesh greater claim speaking inauguration bangladesh bhavan west bengal visva bharati university bhavan built crore funds provided bangladesh include museum showcasing tagore association country \n",
            "실제 요약 : desh has greater claim on tagore pm hasina \n",
            "예측 요약 :  bangladesh pm urges pm modi to raise crore\n",
            "\n",
            "\n",
            "원문 : federation india petroleum traders today said dealers observe purchase sale june decision daily revision fuel prices shelved case favourable response dealers go indefinite purchase sale strike june till decision annulled added \n",
            "실제 요약 : petrol dealers to observe no purchase no sale on june \n",
            "예측 요약 :  india to get action on july\n",
            "\n",
            "\n",
            "원문 : instagram head adam confirmed app mistakenly test launched new feature scroll feed sideways feature let users scroll feed similar interface instagram stories launched broader scale anticipated update faced criticism users social media rolled back app \n",
            "실제 요약 : instagram mistakenly launches feed feature \n",
            "예측 요약 :  snapchat tests feature to let users share their\n",
            "\n",
            "\n",
            "원문 : scientists developed lightweight flexible film thermal imaging cameras allowing hot bodies appear cool vice versa graphene gold based material absorbs incident infrared light voltage applied across stealth sheet hide warm objects like human bodies military vehicles night vision infrared cameras noted researchers \n",
            "실제 요약 : that can fool cameras made \n",
            "예측 요약 :  mit team makes device to identify robots with robots\n",
            "\n",
            "\n",
            "원문 : us president donald trump daughter ivanka trump get presidential level security visit india wake heightened threat perception according reports ivanka also adviser us president leading us delegation entrepreneurship summit held hyderabad november november \n",
            "실제 요약 : ivanka trump to get presidential level security in india \n",
            "예측 요약 :  ivanka trump defends ivanka as trump and\n",
            "\n",
            "\n",
            "원문 : cases ragging university college campuses increased cases cases year according government data uttar pradesh topped list cases increase cases last year followed madhya pradesh cases increase cases last year \n",
            "실제 요약 : ragging in universities colleges up by up on top \n",
            "예측 요약 :  cases of missing in delhi govt\n",
            "\n",
            "\n",
            "원문 : actress aishwarya rai bachchan interview said fake plastic worst comment heard interview aishwarya thanked host calling called best compliment actor emraan hashmi used word plastic describe aishwarya rai talk show koffee karan \n",
            "실제 요약 : fake and plastic worst comment have heard about myself aishwarya \n",
            "예측 요약 :  aishwarya are aishwarya rai on her conviction\n",
            "\n",
            "\n",
            "원문 : actor sunny deol speaking son karan deol upcoming bollywood debut pal pal dil ke paas said make mark film industry father always cannot go work select things added \n",
            "실제 요약 : karan will have to work on his own sunny on son wood debut \n",
            "예측 요약 :  my daughter will be in my film sunny on debut debut\n",
            "\n",
            "\n",
            "원문 : national investigation agency monday cleared four people including sadhvi singh thakur senior rss leader indresh kumar charges ajmer dargah blast closure report submitted special nia court jaipur counter terrorism agency could find enough evidence build case four accused \n",
            "실제 요약 : nia clears sadhvi in ajmer dargah blast case \n",
            "예측 요약 :  nia raids ex dgp chief over anti sikh riots\n",
            "\n",
            "\n",
            "원문 : inaugural dialogue india us defining moment us defence secretary james mattis said added defence cooperation two countries right track meanwhile us state department said dialogue indication india emergence global power net security provider region \n",
            "실제 요약 : us says dialogue with india moment \n",
            "예측 요약 :  india will not allow india to india us envoy\n",
            "\n",
            "\n",
            "원문 : defence minister nirmala sitharaman monday informed parliament rafale deal france track adding delivery fighter jets start september completed april comes amidst allegations congress president rahul gandhi sitharaman lied nation deal pm narendra modi pressure \n",
            "실제 요약 : rafale deal on track delivery of jets starts in govt \n",
            "예측 요약 :  sitharaman sitharaman sitharaman sitharaman sitharaman\n",
            "\n",
            "\n",
            "원문 : barbie doll sent moon four years neil armstrong became first human walk moon barbie moon mission celebrate tereshkova became first woman go space barbie travelled space mark moon landing anniversary \n",
            "실제 요약 : barbie went to the moon four years before humans \n",
            "예측 요약 :  st ever moon was born on the moon of the moon\n",
            "\n",
            "\n",
            "원문 : taxi hailing service uber reportedly built software called hell spy drivers biggest us rival lyft according report uber created fake lyft rider accounts find location drivers additionally uber ascertained drivers working uber lyft convinced leave lyft \n",
            "실제 요약 : uber secret tool hell spied on rival drivers report \n",
            "예측 요약 :  uber rival lyft drivers held for driving cars\n",
            "\n",
            "\n",
            "원문 : rescuers spain saturday found body two year old boy named julen fallen foot deep well nearly two weeks ago officials said julen fell well family walked private estate total laga julen parents lost another son two years ago local media reported \n",
            "실제 요약 : body of yr old who fell in foot deep well found in spain \n",
            "예측 요약 :  year old girl found dead in italy\n",
            "\n",
            "\n",
            "원문 : kerala rajasthan royals wicketkeeper batsman sanju samson tied knot long time girlfriend private ceremony kerala duo college classmates relationship five years samson made relationship public september year parents agreed relationship \n",
            "실제 요약 : sanju samson ties the knot with his college classmate \n",
            "예측 요약 :  kerala cm donates wedding to fianc fianc\n",
            "\n",
            "\n",
            "원문 : occasion rakshabandhan today school children tied rakhis pm narendra modi president ram nath kovind earlier pm modi president kovind extended greetings nation festival hope festival would inspire us become society women especially girls safe dignity respected read president kovind tweet \n",
            "실제 요약 : children tie rakhis to pm modi prez kovind on rakshabandhan \n",
            "예측 요약 :  pm modi meets pm modi visit to meet on day\n",
            "\n",
            "\n",
            "원문 : rohit sharma miss fourth final test australia sydney left mumbai december wife ritika sajdeh newborn baby girl bcci announced replacement player test squad rohit join odi squad january bcci added \n",
            "실제 요약 : rohit returns home after daughter birth will miss sydney test \n",
            "예측 요약 :  rohit sharma was the only captain after england odis\n",
            "\n",
            "\n",
            "원문 : sanju producer vidhu vinod chopra speaking wanting cast ranveer singh sanjay dutt instead ranbir kapoor said let us say foolish time really felt like maybe right guy done think anybody could chopra added called ranbir performance sanju outstanding \n",
            "실제 요약 : wanting ranveer and not ranbir was sanju producer \n",
            "예측 요약 :  ranbir not to see ranbir deepika on hirani biopic\n",
            "\n",
            "\n",
            "원문 : oneplus emerged india best selling premium smartphone brand per report counterpoint captured market share premium segment oneplus emerged highest selling premium smartphone followed oneplus \n",
            "실제 요약 : oneplus named premium smartphone brand of report \n",
            "예측 요약 :  oneplus beats india most valuable brand in\n",
            "\n",
            "\n",
            "원문 : two men arrested gurugram charges animal cruelty carrying puppies boot car said transporting puppies pataudi haryana mathura uttar pradesh police said puppies later taken dog shelter healthy condition space \n",
            "실제 요약 : two men carry puppies in car arrested in gurugram \n",
            "예측 요약 :  men escape from using own own van to escape truck\n",
            "\n",
            "\n",
            "원문 : state bank india put sale crore exposure essar steel minimum reserve price loans set crore sbi disclosed per arcelormittal resolution plan approved essar steel committee creditors minimum recovery amount loans crore \n",
            "실제 요약 : sbi puts entire essar steel loan worth crore on sale \n",
            "예측 요약 :  sbi to pay crore to cut off gst\n",
            "\n",
            "\n",
            "원문 : softbank rejected charges president alok former president nikesh arora received illicit payments regarding india investments softbank stakeholders previously raised concerns arora million remuneration however softbank says certain individual switzerland claims shareholder appears running smear campaign company \n",
            "실제 요약 : softbank denies execs got illegal for india investments \n",
            "예측 요약 :  softbank ceo quits over unpaid dues of flipkart deal\n",
            "\n",
            "\n",
            "원문 : homestay startup airbnb trolled chinese name recently adopted woo country people airbnb weibo account user wrote name hard pronounce another claimed name sounded lot like sex toy company notably airbnb shortlisted chinese name options \n",
            "실제 요약 : airbnb trolled for its new chinese name \n",
            "예측 요약 :  magazine slammed for china over years\n",
            "\n",
            "\n",
            "원문 : submitting old video clips late tamil nadu cm jayalalithaa state government told madras high court never pregnant lifetime comes court hearing case filed woman claiming jayalalithaa daughter bengaluru based sought take properties left behind former aiadmk leader \n",
            "실제 요약 : jayalalithaa was never pregnant tn govt tells madras hc \n",
            "예측 요약 :  jayalalithaa daughter should not be allowed to touch me hc\n",
            "\n",
            "\n",
            "원문 : year old man sentenced five years imprisonment attempting rape year old girl hisar haryana last year class five student way school accused grabbed took behind idol rape however two managed rescue girl \n",
            "실제 요약 : yr old gets yr jail for attempting to rape minor girl \n",
            "예측 요약 :  year old man raped by raping year old in rajasthan\n",
            "\n",
            "\n",
            "원문 : hundreds ancient roman gold coins discovered site old theatre northern italy ministry culture announced coins found stone theatre basement city como theatre scheduled demolition pave way construction luxury residence \n",
            "실제 요약 : hundreds of ancient roman gold coins unearthed in italy \n",
            "예측 요약 :  kg of gold coins found in malaysia\n",
            "\n",
            "\n",
            "원문 : bengaluru become india top city raising funds startups according research firm tracxn startups bengaluru raised billion total billion raised indian startups first three quarters according data last year delhi ncr topped list billion total billion startup funding \n",
            "실제 요약 : bengaluru india top city in raising funds for startups \n",
            "예측 요약 :  pune pune startup raises mn in\n",
            "\n",
            "\n",
            "원문 : amidst outrage multiple rape incidents haryana additional director general police rc mishra said rapes part society taking place since forever adding role police investigate catch criminals mishra said everything \n",
            "실제 요약 : rapes are part of our society senior haryana police officer \n",
            "예측 요약 :  rape victim is the reason for rape victim\n",
            "\n",
            "\n",
            "원문 : jammu kashmir authorities tuesday suspended internet services kashmir notice relentless violence witnessed region however broadband internet blocked per reports fresh incidents violence reported valley college students clashed security forces alleged police brutality pulwama college \n",
            "실제 요약 : internet services suspended in kashmir amid violence \n",
            "예측 요약 :  internet suspended in kashmir amid protests against army\n",
            "\n",
            "\n",
            "원문 : pictures baahubali actor prabhas wax statue madame tussauds bangkok surfaced online prabhas first south indian actor whose wax statue featured madame tussauds reports claimed artists took least photographs actor create wax statue \n",
            "실제 요약 : pics of baahubali actor prabhas wax statue surface online \n",
            "예측 요약 :  varun to get wax statue at madame tussauds\n",
            "\n",
            "\n",
            "원문 : addressing press conference bengaluru monday former prime minister dr manmohan singh said prime minister used election time say things manner modi ji trying shocking prime minister low uses language unbecoming prime minister added \n",
            "실제 요약 : no pm as low as modi ex pm manmohan singh \n",
            "예측 요약 :  pm modi is not the nation of manmohan singh\n",
            "\n",
            "\n",
            "원문 : indian shooter singh women double trap gold shoot scoring points take india gold medal tally commonwealth games wednesday second cwg medal claimed silver glasgow games another indian shooter varsha finished fourth event scoring points \n",
            "실제 요약 : shooter wins india th gold medal at cwg \n",
            "예측 요약 :  indian shooter wins silver at cwg tournament\n",
            "\n",
            "\n",
            "원문 : maiden visit northeast assuming office president ram nath kovind sunday said northeast crown india arunachal pradesh would diamond crown said state depicted principle unity diversity hundreds tribes diverse languages traditions \n",
            "실제 요약 : arunachal is diamond on the crown of northeast prez kovind \n",
            "예측 요약 :  india has not to be destroyed prez kovind\n",
            "\n",
            "\n",
            "원문 : ankita lokhande talking working ex boyfriend sushant singh rajput said actor choice script good definitely work recently sushant praised ankita look upcoming debut film manikarnika queen jhansi looks absolutely great ankita sushant commented picture instagram \n",
            "실제 요약 : if script is good will definitely work with sushant ankita \n",
            "예측 요약 :  sushant denies rumour of sushant kriti sanon\n",
            "\n",
            "\n",
            "원문 : year old boy accused sexually assaulting classmate school washroom classroom school lawyer alleged girl looked happy cctv footage lawyer also stated boy seen entering washroom security footage day alleged assault \n",
            "실제 요약 : girl looked happy in cctv lawyer on assault by yr old boy \n",
            "예측 요약 :  year old girl sexually assaulted in school school\n",
            "\n",
            "\n",
            "원문 : per reports actor daniel craig set return character james bond upcoming film bond film franchise producer barbara broccoli also said keen singer adele film main theme song earlier reported craig offered crore return film titular character \n",
            "실제 요약 : daniel to return as james bond for new film report \n",
            "예측 요약 :  release date of madhuri debut film announced\n",
            "\n",
            "\n",
            "원문 : trailer ajay devgn emraan hashmi starrer baadshaho released monday event held royal opera house mumbai also starring ileana cruz vidyut jammwal esha gupta film revolves around robbery emergency india directed milan luthria action thriller release september \n",
            "실제 요약 : trailer of ajay devgn emraan hashmi baadshaho released \n",
            "예측 요약 :  trailer of ajay devgn starrer baadshaho released\n",
            "\n",
            "\n",
            "원문 : us based scientists trying study certain kinds accidentally identified skin cells directly responsible hair growth grey hair researchers found protein skin cells produce stem cell factor hair tests mice showed removing producing cells causes removing gene causes hair turn white \n",
            "실제 요약 : scientists accidentally find cause of grey hair \n",
            "예측 요약 :  scientists study to study brain cells\n",
            "\n",
            "\n",
            "원문 : video surfaced shows year old man clearing snow skywalk metres ground china zhang clears snow metre long path located one china five great mountains hour uses attached cable rock safety measure \n",
            "실제 요약 : man snow from above ground in china \n",
            "예측 요약 :  video shows china sea sea\n",
            "\n",
            "\n",
            "원문 : uttar pradesh chief minister yogi adityanath friday said construction ram temple ayodhya matter commitment belief bjp instead election issue bjp supported demand construction temple reportedly maintained wait supreme court verdict issue \n",
            "실제 요약 : ram temple matter of for bjp not poll issue yogi \n",
            "예측 요약 :  ram temple will be built in ayodhya if yogi adityanath\n",
            "\n",
            "\n",
            "원문 : woman died allegedly raped three men including former husband wednesday night jharkhand district police said woman forcibly taken field accused also inserted stick private parts ex husband arrested search arrest men \n",
            "실제 요약 : woman dies after rape assault by including ex husband \n",
            "예측 요약 :  woman raped by woman in bihar\n",
            "\n",
            "\n"
          ]
        }
      ]
    },
    {
      "cell_type": "markdown",
      "source": [
        "\n",
        "\n",
        "### Step 5. Summa을 이용해서 추출적 요약해보기\n",
        "\n"
      ],
      "metadata": {
        "id": "inRPm96J6haa"
      }
    },
    {
      "cell_type": "code",
      "source": [
        "import requests\n",
        "from summa.summarizer import summarize"
      ],
      "metadata": {
        "id": "XwoaWeBnMIKr"
      },
      "execution_count": 207,
      "outputs": []
    },
    {
      "cell_type": "code",
      "source": [
        "text = requests.get('http://rare-technologies.com/the_matrix_synopsis.txt').text\n",
        "print(text[:1500])"
      ],
      "metadata": {
        "colab": {
          "base_uri": "https://localhost:8080/"
        },
        "id": "IsrjK1QlGVNp",
        "outputId": "2e0f52e8-9781-47bc-f92b-8efd860a6a9c"
      },
      "execution_count": 208,
      "outputs": [
        {
          "output_type": "stream",
          "name": "stdout",
          "text": [
            "The screen is filled with green, cascading code which gives way to the title, The Matrix.\r\n",
            "\r\n",
            "A phone rings and text appears on the screen: \"Call trans opt: received. 2-19-98 13:24:18 REC: Log>\" As a conversation takes place between Trinity (Carrie-Anne Moss) and Cypher (Joe Pantoliano), two free humans, a table of random green numbers are being scanned and individual numbers selected, creating a series of digits not unlike an ordinary phone number, as if a code is being deciphered or a call is being traced.\r\n",
            "\r\n",
            "Trinity discusses some unknown person. Cypher taunts Trinity, suggesting she enjoys watching him. Trinity counters that \"Morpheus (Laurence Fishburne) says he may be 'the One',\" just as the sound of a number being selected alerts Trinity that someone may be tracing their call. She ends the call.\r\n",
            "\r\n",
            "Armed policemen move down a darkened, decrepit hallway in the Heart O' the City Hotel, their flashlight beam bouncing just ahead of them. They come to room 303, kick down the door and find a woman dressed in black, facing away from them. It's Trinity. She brings her hands up from the laptop she's working on at their command.\r\n",
            "\r\n",
            "Outside the hotel a car drives up and three agents appear in neatly pressed black suits. They are Agent Smith (Hugo Weaving), Agent Brown (Paul Goddard), and Agent Jones (Robert Taylor). Agent Smith and the presiding police lieutenant argue. Agent Smith admonishes the policeman that they were given specific orders to contact the agents first, for their\n"
          ]
        }
      ]
    },
    {
      "cell_type": "code",
      "source": [
        "print('Summary:')\n",
        "print(summarize(text, ratio=0.005))"
      ],
      "metadata": {
        "colab": {
          "base_uri": "https://localhost:8080/"
        },
        "id": "PwmS7oQNGZBu",
        "outputId": "16cdadcd-1378-49a6-8b1c-8eab4a11eb53"
      },
      "execution_count": 209,
      "outputs": [
        {
          "output_type": "stream",
          "name": "stdout",
          "text": [
            "Summary:\n",
            "Morpheus, Trinity, Neo, Apoc, Switch, Mouse and Cypher are jacked into the Matrix.\n",
            "Trinity brings the helicopter down to the floor that Morpheus is on and Neo opens fire on the three Agents.\n"
          ]
        }
      ]
    },
    {
      "cell_type": "code",
      "source": [
        "print('Summary:')\n",
        "print(summarize(text, ratio=0.01, split=True))"
      ],
      "metadata": {
        "colab": {
          "base_uri": "https://localhost:8080/"
        },
        "id": "aj37IO-vGf8J",
        "outputId": "a06ffe13-e1a0-47c7-dc2d-5b9f1c54fc64"
      },
      "execution_count": 224,
      "outputs": [
        {
          "output_type": "stream",
          "name": "stdout",
          "text": [
            "Summary:\n",
            "['Trinity takes Neo to Morpheus.', 'Morpheus, Trinity, Neo, Apoc, Switch, Mouse and Cypher are jacked into the Matrix.', 'Morpheus, who is above Neo in the walls, breaks through the wall and lands on the agent, yelling to Trinity to get Neo out of the building.', 'Trinity brings the helicopter down to the floor that Morpheus is on and Neo opens fire on the three Agents.']\n"
          ]
        }
      ]
    },
    {
      "cell_type": "code",
      "source": [
        "print('Summary:')\n",
        "print(summarize(text, words=50))"
      ],
      "metadata": {
        "colab": {
          "base_uri": "https://localhost:8080/"
        },
        "id": "qxtGBeKdGhRb",
        "outputId": "2535f0ef-1042-4037-8dc3-974683d8153d"
      },
      "execution_count": 223,
      "outputs": [
        {
          "output_type": "stream",
          "name": "stdout",
          "text": [
            "Summary:\n",
            "Trinity takes Neo to Morpheus.\n",
            "Morpheus, Trinity, Neo, Apoc, Switch, Mouse and Cypher are jacked into the Matrix.\n",
            "Trinity brings the helicopter down to the floor that Morpheus is on and Neo opens fire on the three Agents.\n"
          ]
        }
      ]
    },
    {
      "cell_type": "markdown",
      "source": [
        "*추상적 요약 vs 추출적 요약*"
      ],
      "metadata": {
        "id": "m5TRROyAGyOK"
      }
    },
    {
      "cell_type": "markdown",
      "source": [
        "1. 새로운 문장을 생성함으로써 풍부한 표현력을 갖춘 **추상적 요약 방식**의 문장에서 더 자연스럽고 매끄러운 느낌을 받는다. 다시 말해면, 추출적 요약 방식에 비해 **'문법적인 완성도'**가 더 높다고 판단할 수 있다.\n",
        "\n",
        "2. 요약 문장 내 **'핵심 단어 포함'** 여부의 관점에서는 원문에서 사용된 텍스트를 그대로 사용하는 **추출적 요약 방식**이 더 좋은 성능을 보인다고 판단할 수 있다."
      ],
      "metadata": {
        "id": "5GrpLvCEMZp4"
      }
    },
    {
      "cell_type": "markdown",
      "source": [
        "\n",
        "\n",
        "---\n",
        "\n"
      ],
      "metadata": {
        "id": "1yEO1CtiJZPT"
      }
    },
    {
      "cell_type": "markdown",
      "source": [
        "### 회고"
      ],
      "metadata": {
        "id": "Bto2TBy7Jcxu"
      }
    },
    {
      "cell_type": "markdown",
      "source": [
        "**추상적 요약 방식**과 관련해 공부하고 실습한 내용들 중 아래의 내용들이 특히 기억에 남는다.\n",
        "\n",
        "* 데이터 전처리\n",
        ": 중복 제거, 정규화, 최대 길이 설정 및 패딩\n",
        "\n",
        "* 정수 인코딩\n",
        ": Tokenizer 활용 방법\n",
        "\n",
        "* 모델 설계\n",
        ": Encoder, Decoder, Attention 구조 및 역할\n",
        "\n",
        "* 테스트 (추론)\n",
        ": 훈련 모델 vs 추론 모델 차이\n",
        "\n",
        "단, 결과물인 요약 문장을 봤을 때 여전히 어색하다고 느낄만한 구석이 없지 않다. Train loss(1.9339)와 Validation loss(2.7527) 간 차이를 줄이고 나아가 모델 설계 단계에서 파라미터 조정 등 성능 향상을 위해 추가적인 작업이 필요했지만, 이와 관련해 어떤 것이 올바르고 또 효율적인지 아직은 정확한 판단이 서지 않아 실행해보지 못한 점은 아쉽다."
      ],
      "metadata": {
        "id": "fSUh16tYJhQW"
      }
    }
  ]
}