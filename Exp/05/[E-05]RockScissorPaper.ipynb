{
  "nbformat": 4,
  "nbformat_minor": 0,
  "metadata": {
    "colab": {
      "name": "[E-05]RockScissorPaper.ipynb",
      "provenance": [],
      "collapsed_sections": [],
      "machine_shape": "hm"
    },
    "kernelspec": {
      "name": "python3",
      "display_name": "Python 3"
    },
    "language_info": {
      "name": "python"
    },
    "accelerator": "GPU"
  },
  "cells": [
    {
      "cell_type": "markdown",
      "source": [
        "# 인공지능과 가위바위보하기"
      ],
      "metadata": {
        "id": "UEDBGfZq-iH_"
      }
    },
    {
      "cell_type": "code",
      "execution_count": 280,
      "metadata": {
        "id": "rkC7rXeJtoOa"
      },
      "outputs": [],
      "source": [
        "import tensorflow as tf\n",
        "from tensorflow import keras\n",
        "import numpy as np\n",
        "import matplotlib.pyplot as plt\n",
        "from PIL import Image\n",
        "import glob"
      ]
    },
    {
      "cell_type": "markdown",
      "source": [
        "\n",
        "\n",
        "### 데이터 Resize :  32 x 32\n",
        "\n"
      ],
      "metadata": {
        "id": "UUvpFnrMQXVw"
      }
    },
    {
      "cell_type": "code",
      "source": [
        "def resize_images(img_path):\n",
        "\timages=glob.glob(img_path + \"/*.jpg\")  \n",
        "    \n",
        "\tprint(len(images), \" images to be resized.\")\n",
        "\n",
        "  # 이미지 데이터를 모두 32x32 사이즈로 바꾸어 저장합니다.\n",
        "\ttarget_size=(32,32)\n",
        "\tfor img in images:\n",
        "\t\told_img=Image.open(img)\n",
        "\t\tnew_img=old_img.resize(target_size,Image.ANTIALIAS)\n",
        "\t\tnew_img.save(img, \"JPEG\")\n",
        "    \n",
        "\tprint(len(images), \" images resized.\")\n",
        "  \n",
        "\treturn len(images)"
      ],
      "metadata": {
        "id": "5PL1DEkLTJCU"
      },
      "execution_count": 281,
      "outputs": []
    },
    {
      "cell_type": "code",
      "source": [
        "train_path = '/content/drive/MyDrive/AIFFEL/Exp/05/train'"
      ],
      "metadata": {
        "id": "xiqHtXH_TEc6"
      },
      "execution_count": 282,
      "outputs": []
    },
    {
      "cell_type": "code",
      "source": [
        "number_of_train = 0\n",
        "number_of_train += resize_images(train_path+'/rock')\n",
        "number_of_train += resize_images(train_path+'/scissor')\n",
        "number_of_train += resize_images(train_path+'/paper')"
      ],
      "metadata": {
        "colab": {
          "base_uri": "https://localhost:8080/"
        },
        "id": "KVc_ox5Sik89",
        "outputId": "1d09a6ab-f3f3-4b7b-f779-73a59206a4ee"
      },
      "execution_count": 283,
      "outputs": [
        {
          "output_type": "stream",
          "name": "stdout",
          "text": [
            "214  images to be resized.\n",
            "214  images resized.\n",
            "204  images to be resized.\n",
            "204  images resized.\n",
            "204  images to be resized.\n",
            "204  images resized.\n"
          ]
        }
      ]
    },
    {
      "cell_type": "markdown",
      "source": [
        "\n",
        "\n",
        "### 데이터 불러오기\n",
        "\n"
      ],
      "metadata": {
        "id": "O2a6L6ZXQUJg"
      }
    },
    {
      "cell_type": "code",
      "source": [
        "from keras.preprocessing.image import ImageDataGenerator"
      ],
      "metadata": {
        "id": "cH3lKLopKv-x"
      },
      "execution_count": 284,
      "outputs": []
    },
    {
      "cell_type": "code",
      "source": [
        "def load_data(img_path, number_of_data):  # 가위바위보 이미지 개수 총합에 주의하세요.\n",
        "    # 가위 : 0, 바위 : 1, 보 : 2\n",
        "    img_size=32\n",
        "    color=3\n",
        "    #이미지 데이터와 라벨(가위 : 0, 바위 : 1, 보 : 2) 데이터를 담을 행렬(matrix) 영역을 생성합니다.\n",
        "    imgs=np.zeros(number_of_data*img_size*img_size*color,dtype=np.int32).reshape(number_of_data,img_size,img_size,color)\n",
        "    labels=np.zeros(number_of_data,dtype=np.int32)\n",
        "\n",
        "    idx=0\n",
        "    for file in glob.iglob(img_path+'/scissor/*.jpg'):\n",
        "        img = np.array(Image.open(file),dtype=np.int32)\n",
        "        imgs[idx,:,:,:]=img    # 데이터 영역에 이미지 행렬을 복사\n",
        "        labels[idx]=0   # 가위 : 0\n",
        "        idx=idx+1\n",
        "\n",
        "    for file in glob.iglob(img_path+'/rock/*.jpg'):\n",
        "        img = np.array(Image.open(file),dtype=np.int32)\n",
        "        imgs[idx,:,:,:]=img    # 데이터 영역에 이미지 행렬을 복사\n",
        "        labels[idx]=1   # 바위 : 1\n",
        "        idx=idx+1  \n",
        "    \n",
        "    for file in glob.iglob(img_path+'/paper/*.jpg'):\n",
        "        img = np.array(Image.open(file),dtype=np.int32)\n",
        "        imgs[idx,:,:,:]=img    # 데이터 영역에 이미지 행렬을 복사\n",
        "        labels[idx]=2   # 보 : 2\n",
        "        idx=idx+1\n",
        "        \n",
        "    return imgs, labels"
      ],
      "metadata": {
        "id": "ufT7Fi3Jkbdc"
      },
      "execution_count": 285,
      "outputs": []
    },
    {
      "cell_type": "code",
      "source": [
        "(x_train, y_train)=load_data(train_path, number_of_train)\n",
        "x_train = x_train/255.0   # 입력은 0~1 사이의 값으로 정규화\n",
        "\n",
        "print(\"x_train shape: {}\".format(x_train.shape))\n",
        "print(\"y_train shape: {}\".format(y_train.shape))"
      ],
      "metadata": {
        "colab": {
          "base_uri": "https://localhost:8080/"
        },
        "id": "63omY-woNYOc",
        "outputId": "8ded8dcc-0b10-4464-c260-e58bfcf05757"
      },
      "execution_count": 286,
      "outputs": [
        {
          "output_type": "stream",
          "name": "stdout",
          "text": [
            "x_train shape: (622, 32, 32, 3)\n",
            "y_train shape: (622,)\n"
          ]
        }
      ]
    },
    {
      "cell_type": "code",
      "source": [
        "plt.imshow(x_train[0])\n",
        "print('라벨: ', y_train[0])"
      ],
      "metadata": {
        "colab": {
          "base_uri": "https://localhost:8080/",
          "height": 284
        },
        "id": "h0OKCIXJNGk_",
        "outputId": "c41d44c8-8fe1-4562-804a-b9582e9d7d90"
      },
      "execution_count": 287,
      "outputs": [
        {
          "output_type": "stream",
          "name": "stdout",
          "text": [
            "라벨:  0\n"
          ]
        },
        {
          "output_type": "display_data",
          "data": {
            "text/plain": [
              "<Figure size 432x288 with 1 Axes>"
            ],
            "image/png": "[encoded data removed]"
          },
          "metadata": {
            "needs_background": "light"
          }
        }
      ]
    },
    {
      "cell_type": "markdown",
      "source": [
        "\n",
        "\n",
        "### 딥러닝 네트워크 설계하기\n",
        "\n"
      ],
      "metadata": {
        "id": "VsaruO7NPsF8"
      }
    },
    {
      "cell_type": "code",
      "source": [
        "n_channel_1=16\n",
        "n_channel_2=32\n",
        "n_dense=32\n",
        "\n",
        "model=keras.models.Sequential()\n",
        "model.add(keras.layers.Conv2D(n_channel_1, (3,3), activation='relu', input_shape=(32,32,3)))\n",
        "model.add(keras.layers.MaxPool2D(2,2))\n",
        "model.add(keras.layers.Conv2D(n_channel_2, (3,3), activation='relu'))\n",
        "model.add(keras.layers.MaxPooling2D((2,2)))\n",
        "model.add(keras.layers.Flatten())\n",
        "model.add(keras.layers.Dense(n_dense, activation='relu'))\n",
        "model.add(keras.layers.Dense(3, activation='softmax'))\n",
        "model.summary()"
      ],
      "metadata": {
        "colab": {
          "base_uri": "https://localhost:8080/"
        },
        "id": "F04MQkcJPoLj",
        "outputId": "688edc75-af4d-45a9-a534-4dadc23f45cb"
      },
      "execution_count": 288,
      "outputs": [
        {
          "output_type": "stream",
          "name": "stdout",
          "text": [
            "Model: \"sequential_42\"\n",
            "_________________________________________________________________\n",
            " Layer (type)                Output Shape              Param #   \n",
            "=================================================================\n",
            " conv2d_70 (Conv2D)          (None, 30, 30, 16)        448       \n",
            "                                                                 \n",
            " max_pooling2d_68 (MaxPoolin  (None, 15, 15, 16)       0         \n",
            " g2D)                                                            \n",
            "                                                                 \n",
            " conv2d_71 (Conv2D)          (None, 13, 13, 32)        4640      \n",
            "                                                                 \n",
            " max_pooling2d_69 (MaxPoolin  (None, 6, 6, 32)         0         \n",
            " g2D)                                                            \n",
            "                                                                 \n",
            " flatten_33 (Flatten)        (None, 1152)              0         \n",
            "                                                                 \n",
            " dense_75 (Dense)            (None, 32)                36896     \n",
            "                                                                 \n",
            " dense_76 (Dense)            (None, 3)                 99        \n",
            "                                                                 \n",
            "=================================================================\n",
            "Total params: 42,083\n",
            "Trainable params: 42,083\n",
            "Non-trainable params: 0\n",
            "_________________________________________________________________\n"
          ]
        }
      ]
    },
    {
      "cell_type": "markdown",
      "source": [
        "\n",
        "\n",
        "### 딥러닝 네트워크 학습시키기\n",
        "\n"
      ],
      "metadata": {
        "id": "nV_7DiIGQKbX"
      }
    },
    {
      "cell_type": "code",
      "source": [
        "model.compile(optimizer='adam',\n",
        "             loss='sparse_categorical_crossentropy',\n",
        "             metrics=['accuracy'])\n",
        "\n",
        "model.fit(x_train, y_train, epochs=10)"
      ],
      "metadata": {
        "colab": {
          "base_uri": "https://localhost:8080/"
        },
        "id": "-EJdVSEnQQGD",
        "outputId": "9d6f867a-b6d3-4caa-9dc0-4d671b75753e"
      },
      "execution_count": 289,
      "outputs": [
        {
          "output_type": "stream",
          "name": "stdout",
          "text": [
            "Epoch 1/10\n",
            "20/20 [==============================] - 0s 3ms/step - loss: 1.0995 - accuracy: 0.3521\n",
            "Epoch 2/10\n",
            "20/20 [==============================] - 0s 3ms/step - loss: 1.0789 - accuracy: 0.4309\n",
            "Epoch 3/10\n",
            "20/20 [==============================] - 0s 3ms/step - loss: 1.0381 - accuracy: 0.5289\n",
            "Epoch 4/10\n",
            "20/20 [==============================] - 0s 3ms/step - loss: 0.9744 - accuracy: 0.6061\n",
            "Epoch 5/10\n",
            "20/20 [==============================] - 0s 3ms/step - loss: 0.8480 - accuracy: 0.7058\n",
            "Epoch 6/10\n",
            "20/20 [==============================] - 0s 3ms/step - loss: 0.7593 - accuracy: 0.7042\n",
            "Epoch 7/10\n",
            "20/20 [==============================] - 0s 3ms/step - loss: 0.6866 - accuracy: 0.7299\n",
            "Epoch 8/10\n",
            "20/20 [==============================] - 0s 3ms/step - loss: 0.5872 - accuracy: 0.7942\n",
            "Epoch 9/10\n",
            "20/20 [==============================] - 0s 3ms/step - loss: 0.5258 - accuracy: 0.8103\n",
            "Epoch 10/10\n",
            "20/20 [==============================] - 0s 3ms/step - loss: 0.4660 - accuracy: 0.8441\n"
          ]
        },
        {
          "output_type": "execute_result",
          "data": {
            "text/plain": [
              "<keras.callbacks.History at 0x7fe19469b150>"
            ]
          },
          "metadata": {},
          "execution_count": 289
        }
      ]
    },
    {
      "cell_type": "markdown",
      "source": [
        "\n",
        "\n",
        "### 얼마나 잘 만들었는지 확인하기 (테스트)\n",
        "\n"
      ],
      "metadata": {
        "id": "mY9WWNGlQRB4"
      }
    },
    {
      "cell_type": "code",
      "source": [
        "test_path = '/content/drive/MyDrive/AIFFEL/Exp/05/test'"
      ],
      "metadata": {
        "id": "sI9idMiHTdWQ"
      },
      "execution_count": 290,
      "outputs": []
    },
    {
      "cell_type": "code",
      "source": [
        "number_of_test = 0\n",
        "number_of_test += resize_images(test_path+'/rock')\n",
        "number_of_test += resize_images(test_path+'/scissor')\n",
        "number_of_test += resize_images(test_path+'/paper')"
      ],
      "metadata": {
        "colab": {
          "base_uri": "https://localhost:8080/"
        },
        "id": "YWDxLzjRTeCu",
        "outputId": "4fc43129-12ea-4229-d183-501e22f78d4e"
      },
      "execution_count": 291,
      "outputs": [
        {
          "output_type": "stream",
          "name": "stdout",
          "text": [
            "4  images to be resized.\n",
            "4  images resized.\n",
            "4  images to be resized.\n",
            "4  images resized.\n",
            "4  images to be resized.\n",
            "4  images resized.\n"
          ]
        }
      ]
    },
    {
      "cell_type": "code",
      "source": [
        "(x_test, y_test)=load_data(test_path, number_of_test)\n",
        "x_test = x_test/255.0   # 입력은 0~1 사이의 값으로 정규화\n",
        "\n",
        "print(\"x_test shape: {}\".format(x_test.shape))\n",
        "print(\"y_test shape: {}\".format(y_test.shape))"
      ],
      "metadata": {
        "colab": {
          "base_uri": "https://localhost:8080/"
        },
        "id": "NzgZNSl4Tp7q",
        "outputId": "6b866511-0bde-495b-ca30-8ef61c594f11"
      },
      "execution_count": 292,
      "outputs": [
        {
          "output_type": "stream",
          "name": "stdout",
          "text": [
            "x_test shape: (12, 32, 32, 3)\n",
            "y_test shape: (12,)\n"
          ]
        }
      ]
    },
    {
      "cell_type": "code",
      "source": [
        "plt.imshow(x_test[0])\n",
        "print('라벨: ', y_test[0])"
      ],
      "metadata": {
        "colab": {
          "base_uri": "https://localhost:8080/",
          "height": 284
        },
        "id": "TOJOrw7mT340",
        "outputId": "a1fc9030-4ac7-426d-d5b0-11e224e21a23"
      },
      "execution_count": 293,
      "outputs": [
        {
          "output_type": "stream",
          "name": "stdout",
          "text": [
            "라벨:  0\n"
          ]
        },
        {
          "output_type": "display_data",
          "data": {
            "text/plain": [
              "<Figure size 432x288 with 1 Axes>"
            ],
            "image/png": "[encoded data removed]"
          },
          "metadata": {
            "needs_background": "light"
          }
        }
      ]
    },
    {
      "cell_type": "code",
      "source": [
        "test_loss, test_accuracy = model.evaluate(x_test,y_test, verbose=2)\n",
        "print(\"test_loss: {} \".format(test_loss))\n",
        "print(\"test_accuracy: {}\".format(test_accuracy))"
      ],
      "metadata": {
        "colab": {
          "base_uri": "https://localhost:8080/"
        },
        "id": "B39dl-llQX8c",
        "outputId": "20620c9e-7858-4bed-bbb7-e8c0b9123946"
      },
      "execution_count": 294,
      "outputs": [
        {
          "output_type": "stream",
          "name": "stdout",
          "text": [
            "1/1 - 0s - loss: 1.1827 - accuracy: 0.5833 - 111ms/epoch - 111ms/step\n",
            "test_loss: 1.1826896667480469 \n",
            "test_accuracy: 0.5833333134651184\n"
          ]
        }
      ]
    },
    {
      "cell_type": "markdown",
      "source": [
        "\n",
        "\n",
        "### 더 좋은 네트워크 만들어보기\n",
        "\n"
      ],
      "metadata": {
        "id": "pxb_5Hlnc_fd"
      }
    },
    {
      "cell_type": "markdown",
      "source": [
        "1) 하이퍼 파라미터 수정"
      ],
      "metadata": {
        "id": "VV0CMcczy2O1"
      }
    },
    {
      "cell_type": "code",
      "source": [
        "n_channel_1=32\n",
        "n_channel_2=64\n",
        "n_dense=64\n",
        "\n",
        "model=keras.models.Sequential()\n",
        "model.add(keras.layers.Conv2D(n_channel_1, (3,3), activation='relu', input_shape=(32,32,3)))\n",
        "model.add(keras.layers.MaxPool2D(2,2))\n",
        "model.add(keras.layers.Conv2D(n_channel_2, (3,3), activation='relu'))\n",
        "model.add(keras.layers.MaxPooling2D((2,2)))\n",
        "model.add(keras.layers.Flatten())\n",
        "model.add(keras.layers.Dense(n_dense, activation='relu'))\n",
        "model.add(keras.layers.Dense(3, activation='softmax'))\n",
        "model.summary()"
      ],
      "metadata": {
        "colab": {
          "base_uri": "https://localhost:8080/"
        },
        "id": "p7wkq_ely_tU",
        "outputId": "b0282c8b-01fc-4774-8343-17b9645daf2e"
      },
      "execution_count": 295,
      "outputs": [
        {
          "output_type": "stream",
          "name": "stdout",
          "text": [
            "Model: \"sequential_43\"\n",
            "_________________________________________________________________\n",
            " Layer (type)                Output Shape              Param #   \n",
            "=================================================================\n",
            " conv2d_72 (Conv2D)          (None, 30, 30, 32)        896       \n",
            "                                                                 \n",
            " max_pooling2d_70 (MaxPoolin  (None, 15, 15, 32)       0         \n",
            " g2D)                                                            \n",
            "                                                                 \n",
            " conv2d_73 (Conv2D)          (None, 13, 13, 64)        18496     \n",
            "                                                                 \n",
            " max_pooling2d_71 (MaxPoolin  (None, 6, 6, 64)         0         \n",
            " g2D)                                                            \n",
            "                                                                 \n",
            " flatten_34 (Flatten)        (None, 2304)              0         \n",
            "                                                                 \n",
            " dense_77 (Dense)            (None, 64)                147520    \n",
            "                                                                 \n",
            " dense_78 (Dense)            (None, 3)                 195       \n",
            "                                                                 \n",
            "=================================================================\n",
            "Total params: 167,107\n",
            "Trainable params: 167,107\n",
            "Non-trainable params: 0\n",
            "_________________________________________________________________\n"
          ]
        }
      ]
    },
    {
      "cell_type": "code",
      "source": [
        "model.compile(optimizer='adam',\n",
        "             loss='sparse_categorical_crossentropy',\n",
        "             metrics=['accuracy'])\n",
        "\n",
        "model.fit(x_train, y_train, epochs=20)"
      ],
      "metadata": {
        "colab": {
          "base_uri": "https://localhost:8080/"
        },
        "id": "dOGRzFYPzOvF",
        "outputId": "082ac8c9-fd58-415e-b1d9-5293fdd9b9ea"
      },
      "execution_count": 296,
      "outputs": [
        {
          "output_type": "stream",
          "name": "stdout",
          "text": [
            "Epoch 1/20\n",
            "20/20 [==============================] - 0s 3ms/step - loss: 1.0966 - accuracy: 0.3907\n",
            "Epoch 2/20\n",
            "20/20 [==============================] - 0s 3ms/step - loss: 1.0660 - accuracy: 0.5225\n",
            "Epoch 3/20\n",
            "20/20 [==============================] - 0s 3ms/step - loss: 0.9689 - accuracy: 0.6093\n",
            "Epoch 4/20\n",
            "20/20 [==============================] - 0s 3ms/step - loss: 0.8114 - accuracy: 0.6881\n",
            "Epoch 5/20\n",
            "20/20 [==============================] - 0s 3ms/step - loss: 0.6549 - accuracy: 0.7717\n",
            "Epoch 6/20\n",
            "20/20 [==============================] - 0s 3ms/step - loss: 0.5452 - accuracy: 0.7830\n",
            "Epoch 7/20\n",
            "20/20 [==============================] - 0s 3ms/step - loss: 0.3983 - accuracy: 0.8891\n",
            "Epoch 8/20\n",
            "20/20 [==============================] - 0s 3ms/step - loss: 0.3422 - accuracy: 0.9019\n",
            "Epoch 9/20\n",
            "20/20 [==============================] - 0s 3ms/step - loss: 0.2913 - accuracy: 0.9148\n",
            "Epoch 10/20\n",
            "20/20 [==============================] - 0s 3ms/step - loss: 0.2458 - accuracy: 0.9309\n",
            "Epoch 11/20\n",
            "20/20 [==============================] - 0s 3ms/step - loss: 0.1969 - accuracy: 0.9550\n",
            "Epoch 12/20\n",
            "20/20 [==============================] - 0s 3ms/step - loss: 0.1869 - accuracy: 0.9486\n",
            "Epoch 13/20\n",
            "20/20 [==============================] - 0s 3ms/step - loss: 0.1578 - accuracy: 0.9566\n",
            "Epoch 14/20\n",
            "20/20 [==============================] - 0s 3ms/step - loss: 0.1207 - accuracy: 0.9727\n",
            "Epoch 15/20\n",
            "20/20 [==============================] - 0s 3ms/step - loss: 0.0996 - accuracy: 0.9807\n",
            "Epoch 16/20\n",
            "20/20 [==============================] - 0s 3ms/step - loss: 0.1049 - accuracy: 0.9727\n",
            "Epoch 17/20\n",
            "20/20 [==============================] - 0s 3ms/step - loss: 0.0783 - accuracy: 0.9855\n",
            "Epoch 18/20\n",
            "20/20 [==============================] - 0s 3ms/step - loss: 0.0632 - accuracy: 0.9887\n",
            "Epoch 19/20\n",
            "20/20 [==============================] - 0s 3ms/step - loss: 0.0459 - accuracy: 0.9920\n",
            "Epoch 20/20\n",
            "20/20 [==============================] - 0s 3ms/step - loss: 0.0393 - accuracy: 0.9952\n"
          ]
        },
        {
          "output_type": "execute_result",
          "data": {
            "text/plain": [
              "<keras.callbacks.History at 0x7fe189405fd0>"
            ]
          },
          "metadata": {},
          "execution_count": 296
        }
      ]
    },
    {
      "cell_type": "code",
      "source": [
        "test_loss, test_accuracy = model.evaluate(x_test,y_test, verbose=2)\n",
        "print(\"test_loss: {} \".format(test_loss))\n",
        "print(\"test_accuracy: {}\".format(test_accuracy))"
      ],
      "metadata": {
        "colab": {
          "base_uri": "https://localhost:8080/"
        },
        "id": "Pv1rxM0LzTHn",
        "outputId": "d3a31c1e-71f5-481f-ee33-8fda286586bc"
      },
      "execution_count": 297,
      "outputs": [
        {
          "output_type": "stream",
          "name": "stdout",
          "text": [
            "1/1 - 0s - loss: 4.6720 - accuracy: 0.5000 - 109ms/epoch - 109ms/step\n",
            "test_loss: 4.671985149383545 \n",
            "test_accuracy: 0.5\n"
          ]
        }
      ]
    },
    {
      "cell_type": "markdown",
      "source": [
        "2) Layer 추가"
      ],
      "metadata": {
        "id": "LPP0EsEd9IiJ"
      }
    },
    {
      "cell_type": "code",
      "source": [
        "n_channel_1=16\n",
        "n_channel_2=32\n",
        "n_channel_3=64\n",
        "n_dense=64\n",
        "\n",
        "model=keras.models.Sequential()\n",
        "model.add(keras.layers.Conv2D(n_channel_1, (3,3), activation='relu', input_shape=(32,32,3)))\n",
        "model.add(keras.layers.MaxPool2D(2,2))\n",
        "model.add(keras.layers.Conv2D(n_channel_2, (3,3), activation='relu'))\n",
        "model.add(keras.layers.MaxPooling2D((2,2)))\n",
        "model.add(keras.layers.Conv2D(n_channel_3, (3,3), activation='relu'))\n",
        "model.add(keras.layers.MaxPooling2D((2,2)))\n",
        "model.add(keras.layers.Flatten())\n",
        "model.add(keras.layers.Dense(n_dense, activation='relu'))\n",
        "model.add(keras.layers.Dense(3, activation='softmax'))\n",
        "model.summary()"
      ],
      "metadata": {
        "colab": {
          "base_uri": "https://localhost:8080/"
        },
        "id": "Szs3bH0H9dxQ",
        "outputId": "c5b22289-0713-4ebf-8e2b-67976d5da6f3"
      },
      "execution_count": 298,
      "outputs": [
        {
          "output_type": "stream",
          "name": "stdout",
          "text": [
            "Model: \"sequential_44\"\n",
            "_________________________________________________________________\n",
            " Layer (type)                Output Shape              Param #   \n",
            "=================================================================\n",
            " conv2d_74 (Conv2D)          (None, 30, 30, 16)        448       \n",
            "                                                                 \n",
            " max_pooling2d_72 (MaxPoolin  (None, 15, 15, 16)       0         \n",
            " g2D)                                                            \n",
            "                                                                 \n",
            " conv2d_75 (Conv2D)          (None, 13, 13, 32)        4640      \n",
            "                                                                 \n",
            " max_pooling2d_73 (MaxPoolin  (None, 6, 6, 32)         0         \n",
            " g2D)                                                            \n",
            "                                                                 \n",
            " conv2d_76 (Conv2D)          (None, 4, 4, 64)          18496     \n",
            "                                                                 \n",
            " max_pooling2d_74 (MaxPoolin  (None, 2, 2, 64)         0         \n",
            " g2D)                                                            \n",
            "                                                                 \n",
            " flatten_35 (Flatten)        (None, 256)               0         \n",
            "                                                                 \n",
            " dense_79 (Dense)            (None, 64)                16448     \n",
            "                                                                 \n",
            " dense_80 (Dense)            (None, 3)                 195       \n",
            "                                                                 \n",
            "=================================================================\n",
            "Total params: 40,227\n",
            "Trainable params: 40,227\n",
            "Non-trainable params: 0\n",
            "_________________________________________________________________\n"
          ]
        }
      ]
    },
    {
      "cell_type": "code",
      "source": [
        "model.compile(optimizer='adam',\n",
        "             loss='sparse_categorical_crossentropy',\n",
        "             metrics=['accuracy'])\n",
        "\n",
        "model.fit(x_train, y_train, epochs=20)"
      ],
      "metadata": {
        "colab": {
          "base_uri": "https://localhost:8080/"
        },
        "id": "ei11Bxsd9qBD",
        "outputId": "525d0d17-d782-4c44-e094-9c3d7cb3252f"
      },
      "execution_count": 299,
      "outputs": [
        {
          "output_type": "stream",
          "name": "stdout",
          "text": [
            "Epoch 1/20\n",
            "20/20 [==============================] - 0s 3ms/step - loss: 1.1019 - accuracy: 0.4116\n",
            "Epoch 2/20\n",
            "20/20 [==============================] - 0s 3ms/step - loss: 1.0853 - accuracy: 0.4904\n",
            "Epoch 3/20\n",
            "20/20 [==============================] - 0s 3ms/step - loss: 1.0568 - accuracy: 0.4309\n",
            "Epoch 4/20\n",
            "20/20 [==============================] - 0s 3ms/step - loss: 1.0029 - accuracy: 0.4839\n",
            "Epoch 5/20\n",
            "20/20 [==============================] - 0s 3ms/step - loss: 0.8552 - accuracy: 0.7122\n",
            "Epoch 6/20\n",
            "20/20 [==============================] - 0s 3ms/step - loss: 0.7203 - accuracy: 0.7090\n",
            "Epoch 7/20\n",
            "20/20 [==============================] - 0s 3ms/step - loss: 0.6188 - accuracy: 0.7444\n",
            "Epoch 8/20\n",
            "20/20 [==============================] - 0s 3ms/step - loss: 0.5780 - accuracy: 0.7621\n",
            "Epoch 9/20\n",
            "20/20 [==============================] - 0s 3ms/step - loss: 0.5329 - accuracy: 0.7781\n",
            "Epoch 10/20\n",
            "20/20 [==============================] - 0s 3ms/step - loss: 0.4614 - accuracy: 0.8039\n",
            "Epoch 11/20\n",
            "20/20 [==============================] - 0s 3ms/step - loss: 0.4112 - accuracy: 0.8441\n",
            "Epoch 12/20\n",
            "20/20 [==============================] - 0s 3ms/step - loss: 0.3883 - accuracy: 0.8408\n",
            "Epoch 13/20\n",
            "20/20 [==============================] - 0s 3ms/step - loss: 0.3373 - accuracy: 0.8698\n",
            "Epoch 14/20\n",
            "20/20 [==============================] - 0s 3ms/step - loss: 0.3371 - accuracy: 0.8633\n",
            "Epoch 15/20\n",
            "20/20 [==============================] - 0s 3ms/step - loss: 0.2770 - accuracy: 0.8923\n",
            "Epoch 16/20\n",
            "20/20 [==============================] - 0s 3ms/step - loss: 0.2306 - accuracy: 0.9309\n",
            "Epoch 17/20\n",
            "20/20 [==============================] - 0s 3ms/step - loss: 0.2039 - accuracy: 0.9325\n",
            "Epoch 18/20\n",
            "20/20 [==============================] - 0s 3ms/step - loss: 0.1893 - accuracy: 0.9421\n",
            "Epoch 19/20\n",
            "20/20 [==============================] - 0s 3ms/step - loss: 0.1651 - accuracy: 0.9405\n",
            "Epoch 20/20\n",
            "20/20 [==============================] - 0s 3ms/step - loss: 0.1394 - accuracy: 0.9566\n"
          ]
        },
        {
          "output_type": "execute_result",
          "data": {
            "text/plain": [
              "<keras.callbacks.History at 0x7fe18936f350>"
            ]
          },
          "metadata": {},
          "execution_count": 299
        }
      ]
    },
    {
      "cell_type": "code",
      "source": [
        "test_loss, test_accuracy = model.evaluate(x_test,y_test, verbose=2)\n",
        "print(\"test_loss: {} \".format(test_loss))\n",
        "print(\"test_accuracy: {}\".format(test_accuracy))"
      ],
      "metadata": {
        "colab": {
          "base_uri": "https://localhost:8080/"
        },
        "id": "NT6rCRDh9rcm",
        "outputId": "fb662b72-fbe7-449e-c789-6b771107b8a6"
      },
      "execution_count": 300,
      "outputs": [
        {
          "output_type": "stream",
          "name": "stdout",
          "text": [
            "1/1 - 0s - loss: 0.7782 - accuracy: 0.7500 - 137ms/epoch - 137ms/step\n",
            "test_loss: 0.7781791687011719 \n",
            "test_accuracy: 0.75\n"
          ]
        }
      ]
    },
    {
      "cell_type": "markdown",
      "source": [
        "\n",
        "\n",
        "3) 전이학습 :  ResNet\n",
        "\n"
      ],
      "metadata": {
        "id": "lywOKFU4xyfc"
      }
    },
    {
      "cell_type": "code",
      "source": [
        "from tensorflow.keras.applications.resnet50 import ResNet50"
      ],
      "metadata": {
        "id": "aAtjKH0QiOYJ"
      },
      "execution_count": 301,
      "outputs": []
    },
    {
      "cell_type": "code",
      "source": [
        "IMG_SHAPE = (32, 32, 3)\n",
        "base_model = ResNet50(input_shape=IMG_SHAPE, weights='imagenet', include_top=False)\n",
        "base_model.trainable = False\n",
        " \n",
        "model = tf.keras.Sequential([\n",
        "        base_model,\n",
        "        tf.keras.layers.GlobalAveragePooling2D(),\n",
        "        tf.keras.layers.Dense(3, activation='softmax')\n",
        "        ])\n",
        "\n",
        "model.summary()"
      ],
      "metadata": {
        "colab": {
          "base_uri": "https://localhost:8080/"
        },
        "id": "L1gIKGz3cdAI",
        "outputId": "76665ea8-5f02-4ba9-85c7-03183911e8b2"
      },
      "execution_count": 302,
      "outputs": [
        {
          "output_type": "stream",
          "name": "stdout",
          "text": [
            "Model: \"sequential_45\"\n",
            "_________________________________________________________________\n",
            " Layer (type)                Output Shape              Param #   \n",
            "=================================================================\n",
            " resnet50 (Functional)       (None, 1, 1, 2048)        23587712  \n",
            "                                                                 \n",
            " global_average_pooling2d_10  (None, 2048)             0         \n",
            "  (GlobalAveragePooling2D)                                       \n",
            "                                                                 \n",
            " dense_81 (Dense)            (None, 3)                 6147      \n",
            "                                                                 \n",
            "=================================================================\n",
            "Total params: 23,593,859\n",
            "Trainable params: 6,147\n",
            "Non-trainable params: 23,587,712\n",
            "_________________________________________________________________\n"
          ]
        }
      ]
    },
    {
      "cell_type": "code",
      "source": [
        "model.compile(optimizer='adam',\n",
        "             loss='sparse_categorical_crossentropy',\n",
        "             metrics=['accuracy'])\n",
        "\n",
        "model.fit(x_train, y_train, epochs=100)"
      ],
      "metadata": {
        "colab": {
          "base_uri": "https://localhost:8080/"
        },
        "id": "U_VDguuWcgm7",
        "outputId": "96fc9746-5e8a-4d1d-fca2-024ba8dffb22"
      },
      "execution_count": 303,
      "outputs": [
        {
          "output_type": "stream",
          "name": "stdout",
          "text": [
            "Epoch 1/100\n",
            "20/20 [==============================] - 3s 13ms/step - loss: 1.1673 - accuracy: 0.3376\n",
            "Epoch 2/100\n",
            "20/20 [==============================] - 0s 13ms/step - loss: 1.1292 - accuracy: 0.3473\n",
            "Epoch 3/100\n",
            "20/20 [==============================] - 0s 13ms/step - loss: 1.0983 - accuracy: 0.3553\n",
            "Epoch 4/100\n",
            "20/20 [==============================] - 0s 13ms/step - loss: 1.0780 - accuracy: 0.3875\n",
            "Epoch 5/100\n",
            "20/20 [==============================] - 0s 13ms/step - loss: 1.0734 - accuracy: 0.4180\n",
            "Epoch 6/100\n",
            "20/20 [==============================] - 0s 13ms/step - loss: 1.0658 - accuracy: 0.4357\n",
            "Epoch 7/100\n",
            "20/20 [==============================] - 0s 13ms/step - loss: 1.0593 - accuracy: 0.4068\n",
            "Epoch 8/100\n",
            "20/20 [==============================] - 0s 13ms/step - loss: 1.0367 - accuracy: 0.4598\n",
            "Epoch 9/100\n",
            "20/20 [==============================] - 0s 13ms/step - loss: 1.0260 - accuracy: 0.4662\n",
            "Epoch 10/100\n",
            "20/20 [==============================] - 0s 13ms/step - loss: 1.0241 - accuracy: 0.5000\n",
            "Epoch 11/100\n",
            "20/20 [==============================] - 0s 13ms/step - loss: 1.0097 - accuracy: 0.4855\n",
            "Epoch 12/100\n",
            "20/20 [==============================] - 0s 13ms/step - loss: 1.0470 - accuracy: 0.4228\n",
            "Epoch 13/100\n",
            "20/20 [==============================] - 0s 14ms/step - loss: 1.0167 - accuracy: 0.4566\n",
            "Epoch 14/100\n",
            "20/20 [==============================] - 0s 13ms/step - loss: 0.9889 - accuracy: 0.5643\n",
            "Epoch 15/100\n",
            "20/20 [==============================] - 0s 13ms/step - loss: 0.9832 - accuracy: 0.5563\n",
            "Epoch 16/100\n",
            "20/20 [==============================] - 0s 14ms/step - loss: 0.9729 - accuracy: 0.5643\n",
            "Epoch 17/100\n",
            "20/20 [==============================] - 0s 14ms/step - loss: 0.9830 - accuracy: 0.5434\n",
            "Epoch 18/100\n",
            "20/20 [==============================] - 0s 14ms/step - loss: 0.9946 - accuracy: 0.5305\n",
            "Epoch 19/100\n",
            "20/20 [==============================] - 0s 13ms/step - loss: 0.9610 - accuracy: 0.5659\n",
            "Epoch 20/100\n",
            "20/20 [==============================] - 0s 13ms/step - loss: 0.9704 - accuracy: 0.5643\n",
            "Epoch 21/100\n",
            "20/20 [==============================] - 0s 13ms/step - loss: 0.9796 - accuracy: 0.5161\n",
            "Epoch 22/100\n",
            "20/20 [==============================] - 0s 13ms/step - loss: 0.9587 - accuracy: 0.5563\n",
            "Epoch 23/100\n",
            "20/20 [==============================] - 0s 13ms/step - loss: 0.9814 - accuracy: 0.5096\n",
            "Epoch 24/100\n",
            "20/20 [==============================] - 0s 13ms/step - loss: 0.9576 - accuracy: 0.5161\n",
            "Epoch 25/100\n",
            "20/20 [==============================] - 0s 13ms/step - loss: 0.9570 - accuracy: 0.5241\n",
            "Epoch 26/100\n",
            "20/20 [==============================] - 0s 13ms/step - loss: 0.9836 - accuracy: 0.4887\n",
            "Epoch 27/100\n",
            "20/20 [==============================] - 0s 13ms/step - loss: 0.9534 - accuracy: 0.5080\n",
            "Epoch 28/100\n",
            "20/20 [==============================] - 0s 13ms/step - loss: 0.9204 - accuracy: 0.6141\n",
            "Epoch 29/100\n",
            "20/20 [==============================] - 0s 13ms/step - loss: 0.9435 - accuracy: 0.6045\n",
            "Epoch 30/100\n",
            "20/20 [==============================] - 0s 13ms/step - loss: 0.9350 - accuracy: 0.5482\n",
            "Epoch 31/100\n",
            "20/20 [==============================] - 0s 13ms/step - loss: 0.9175 - accuracy: 0.6093\n",
            "Epoch 32/100\n",
            "20/20 [==============================] - 0s 13ms/step - loss: 0.9110 - accuracy: 0.6013\n",
            "Epoch 33/100\n",
            "20/20 [==============================] - 0s 13ms/step - loss: 0.9045 - accuracy: 0.6254\n",
            "Epoch 34/100\n",
            "20/20 [==============================] - 0s 13ms/step - loss: 0.9233 - accuracy: 0.5675\n",
            "Epoch 35/100\n",
            "20/20 [==============================] - 0s 13ms/step - loss: 0.9073 - accuracy: 0.6270\n",
            "Epoch 36/100\n",
            "20/20 [==============================] - 0s 13ms/step - loss: 0.9080 - accuracy: 0.6318\n",
            "Epoch 37/100\n",
            "20/20 [==============================] - 0s 13ms/step - loss: 0.9140 - accuracy: 0.6141\n",
            "Epoch 38/100\n",
            "20/20 [==============================] - 0s 13ms/step - loss: 0.9216 - accuracy: 0.6109\n",
            "Epoch 39/100\n",
            "20/20 [==============================] - 0s 13ms/step - loss: 0.9238 - accuracy: 0.6125\n",
            "Epoch 40/100\n",
            "20/20 [==============================] - 0s 13ms/step - loss: 0.9012 - accuracy: 0.5981\n",
            "Epoch 41/100\n",
            "20/20 [==============================] - 0s 13ms/step - loss: 0.8941 - accuracy: 0.6077\n",
            "Epoch 42/100\n",
            "20/20 [==============================] - 0s 13ms/step - loss: 0.9235 - accuracy: 0.5450\n",
            "Epoch 43/100\n",
            "20/20 [==============================] - 0s 14ms/step - loss: 0.8904 - accuracy: 0.5836\n",
            "Epoch 44/100\n",
            "20/20 [==============================] - 0s 13ms/step - loss: 0.9087 - accuracy: 0.5981\n",
            "Epoch 45/100\n",
            "20/20 [==============================] - 0s 13ms/step - loss: 0.8954 - accuracy: 0.6174\n",
            "Epoch 46/100\n",
            "20/20 [==============================] - 0s 13ms/step - loss: 0.9113 - accuracy: 0.5997\n",
            "Epoch 47/100\n",
            "20/20 [==============================] - 0s 13ms/step - loss: 0.8997 - accuracy: 0.6238\n",
            "Epoch 48/100\n",
            "20/20 [==============================] - 0s 13ms/step - loss: 0.8892 - accuracy: 0.6350\n",
            "Epoch 49/100\n",
            "20/20 [==============================] - 0s 13ms/step - loss: 0.8887 - accuracy: 0.6125\n",
            "Epoch 50/100\n",
            "20/20 [==============================] - 0s 13ms/step - loss: 0.8708 - accuracy: 0.6383\n",
            "Epoch 51/100\n",
            "20/20 [==============================] - 0s 13ms/step - loss: 0.8646 - accuracy: 0.6383\n",
            "Epoch 52/100\n",
            "20/20 [==============================] - 0s 13ms/step - loss: 0.8568 - accuracy: 0.6463\n",
            "Epoch 53/100\n",
            "20/20 [==============================] - 0s 13ms/step - loss: 0.9063 - accuracy: 0.5997\n",
            "Epoch 54/100\n",
            "20/20 [==============================] - 0s 13ms/step - loss: 0.8980 - accuracy: 0.6013\n",
            "Epoch 55/100\n",
            "20/20 [==============================] - 0s 13ms/step - loss: 0.8726 - accuracy: 0.6141\n",
            "Epoch 56/100\n",
            "20/20 [==============================] - 0s 13ms/step - loss: 0.8621 - accuracy: 0.6463\n",
            "Epoch 57/100\n",
            "20/20 [==============================] - 0s 13ms/step - loss: 0.8651 - accuracy: 0.6318\n",
            "Epoch 58/100\n",
            "20/20 [==============================] - 0s 13ms/step - loss: 0.8598 - accuracy: 0.6495\n",
            "Epoch 59/100\n",
            "20/20 [==============================] - 0s 13ms/step - loss: 0.8525 - accuracy: 0.6318\n",
            "Epoch 60/100\n",
            "20/20 [==============================] - 0s 13ms/step - loss: 0.8791 - accuracy: 0.6013\n",
            "Epoch 61/100\n",
            "20/20 [==============================] - 0s 13ms/step - loss: 0.8548 - accuracy: 0.6254\n",
            "Epoch 62/100\n",
            "20/20 [==============================] - 0s 13ms/step - loss: 0.8419 - accuracy: 0.6431\n",
            "Epoch 63/100\n",
            "20/20 [==============================] - 0s 13ms/step - loss: 0.8793 - accuracy: 0.6029\n",
            "Epoch 64/100\n",
            "20/20 [==============================] - 0s 13ms/step - loss: 0.8428 - accuracy: 0.6463\n",
            "Epoch 65/100\n",
            "20/20 [==============================] - 0s 13ms/step - loss: 0.8421 - accuracy: 0.6447\n",
            "Epoch 66/100\n",
            "20/20 [==============================] - 0s 13ms/step - loss: 0.8447 - accuracy: 0.6383\n",
            "Epoch 67/100\n",
            "20/20 [==============================] - 0s 13ms/step - loss: 0.8471 - accuracy: 0.6415\n",
            "Epoch 68/100\n",
            "20/20 [==============================] - 0s 13ms/step - loss: 0.8476 - accuracy: 0.6431\n",
            "Epoch 69/100\n",
            "20/20 [==============================] - 0s 13ms/step - loss: 0.8250 - accuracy: 0.6736\n",
            "Epoch 70/100\n",
            "20/20 [==============================] - 0s 13ms/step - loss: 0.8334 - accuracy: 0.6527\n",
            "Epoch 71/100\n",
            "20/20 [==============================] - 0s 13ms/step - loss: 0.8575 - accuracy: 0.6447\n",
            "Epoch 72/100\n",
            "20/20 [==============================] - 0s 13ms/step - loss: 0.8337 - accuracy: 0.6527\n",
            "Epoch 73/100\n",
            "20/20 [==============================] - 0s 13ms/step - loss: 0.8286 - accuracy: 0.6688\n",
            "Epoch 74/100\n",
            "20/20 [==============================] - 0s 13ms/step - loss: 0.8481 - accuracy: 0.6350\n",
            "Epoch 75/100\n",
            "20/20 [==============================] - 0s 13ms/step - loss: 0.8214 - accuracy: 0.6817\n",
            "Epoch 76/100\n",
            "20/20 [==============================] - 0s 13ms/step - loss: 0.8156 - accuracy: 0.6656\n",
            "Epoch 77/100\n",
            "20/20 [==============================] - 0s 14ms/step - loss: 0.8145 - accuracy: 0.6511\n",
            "Epoch 78/100\n",
            "20/20 [==============================] - 0s 13ms/step - loss: 0.8121 - accuracy: 0.6592\n",
            "Epoch 79/100\n",
            "20/20 [==============================] - 0s 13ms/step - loss: 0.8210 - accuracy: 0.6527\n",
            "Epoch 80/100\n",
            "20/20 [==============================] - 0s 14ms/step - loss: 0.8409 - accuracy: 0.6318\n",
            "Epoch 81/100\n",
            "20/20 [==============================] - 0s 13ms/step - loss: 0.8512 - accuracy: 0.6350\n",
            "Epoch 82/100\n",
            "20/20 [==============================] - 0s 13ms/step - loss: 0.8074 - accuracy: 0.6672\n",
            "Epoch 83/100\n",
            "20/20 [==============================] - 0s 13ms/step - loss: 0.8178 - accuracy: 0.6817\n",
            "Epoch 84/100\n",
            "20/20 [==============================] - 0s 13ms/step - loss: 0.8182 - accuracy: 0.6592\n",
            "Epoch 85/100\n",
            "20/20 [==============================] - 0s 13ms/step - loss: 0.8294 - accuracy: 0.6334\n",
            "Epoch 86/100\n",
            "20/20 [==============================] - 0s 13ms/step - loss: 0.8173 - accuracy: 0.6624\n",
            "Epoch 87/100\n",
            "20/20 [==============================] - 0s 13ms/step - loss: 0.8186 - accuracy: 0.6656\n",
            "Epoch 88/100\n",
            "20/20 [==============================] - 0s 13ms/step - loss: 0.8162 - accuracy: 0.6608\n",
            "Epoch 89/100\n",
            "20/20 [==============================] - 0s 13ms/step - loss: 0.8211 - accuracy: 0.6559\n",
            "Epoch 90/100\n",
            "20/20 [==============================] - 0s 13ms/step - loss: 0.8013 - accuracy: 0.6768\n",
            "Epoch 91/100\n",
            "20/20 [==============================] - 0s 13ms/step - loss: 0.8162 - accuracy: 0.6350\n",
            "Epoch 92/100\n",
            "20/20 [==============================] - 0s 13ms/step - loss: 0.8117 - accuracy: 0.6720\n",
            "Epoch 93/100\n",
            "20/20 [==============================] - 0s 13ms/step - loss: 0.8198 - accuracy: 0.6640\n",
            "Epoch 94/100\n",
            "20/20 [==============================] - 0s 13ms/step - loss: 0.8326 - accuracy: 0.6206\n",
            "Epoch 95/100\n",
            "20/20 [==============================] - 0s 14ms/step - loss: 0.8032 - accuracy: 0.6624\n",
            "Epoch 96/100\n",
            "20/20 [==============================] - 0s 13ms/step - loss: 0.8003 - accuracy: 0.6801\n",
            "Epoch 97/100\n",
            "20/20 [==============================] - 0s 13ms/step - loss: 0.8191 - accuracy: 0.6367\n",
            "Epoch 98/100\n",
            "20/20 [==============================] - 0s 13ms/step - loss: 0.8290 - accuracy: 0.6576\n",
            "Epoch 99/100\n",
            "20/20 [==============================] - 0s 13ms/step - loss: 0.8043 - accuracy: 0.6495\n",
            "Epoch 100/100\n",
            "20/20 [==============================] - 0s 13ms/step - loss: 0.7897 - accuracy: 0.6704\n"
          ]
        },
        {
          "output_type": "execute_result",
          "data": {
            "text/plain": [
              "<keras.callbacks.History at 0x7fe18959c350>"
            ]
          },
          "metadata": {},
          "execution_count": 303
        }
      ]
    },
    {
      "cell_type": "code",
      "source": [
        "test_loss, test_accuracy = model.evaluate(x_test,y_test, verbose=2)\n",
        "print(\"test_loss: {} \".format(test_loss))\n",
        "print(\"test_accuracy: {}\".format(test_accuracy))"
      ],
      "metadata": {
        "colab": {
          "base_uri": "https://localhost:8080/"
        },
        "id": "z8TbuJVacjy9",
        "outputId": "2b9b93ca-1ac9-4348-a208-71fa733bacce"
      },
      "execution_count": 304,
      "outputs": [
        {
          "output_type": "stream",
          "name": "stdout",
          "text": [
            "1/1 - 1s - loss: 2.7073 - accuracy: 0.3333 - 813ms/epoch - 813ms/step\n",
            "test_loss: 2.707324266433716 \n",
            "test_accuracy: 0.3333333432674408\n"
          ]
        }
      ]
    },
    {
      "cell_type": "markdown",
      "source": [
        "\n",
        "\n",
        "---\n",
        "\n"
      ],
      "metadata": {
        "id": "euKKLqXt-caR"
      }
    },
    {
      "cell_type": "markdown",
      "source": [
        "# 회고"
      ],
      "metadata": {
        "id": "7vvsOE76-de2"
      }
    },
    {
      "cell_type": "markdown",
      "source": [
        "\n",
        "\n",
        "*   **데이터의 중요성**\n",
        "\n"
      ],
      "metadata": {
        "id": "eCSUFEvy-goR"
      }
    },
    {
      "cell_type": "markdown",
      "source": [
        "양적으로도 질적으로도 열악한 데이터를 신경망 학습에 사용한다면 아무리 훌륭한 신경망을 설계했다하더라도 원하는 성과를 얻기 쉽지 않다는 것을 느꼈다. 그리고 적절하게 구비된 데이터를 어떻게 전처리하고 정규화할 것인지 정하는 일 또한 매우 중요한 부분이라고 생각한다.\n",
        "\n",
        "\n",
        "> ImageDataGenerator를 활용한 데이터 증강 기법이 있다는 것을 뒤늦게 알았다. (다음 기회에 활용해보겠다.)"
      ],
      "metadata": {
        "id": "Z3QH95ac_bRC"
      }
    },
    {
      "cell_type": "markdown",
      "source": [
        "\n",
        "\n",
        "*   **'Test accuracy'를 끌어올리기 위한 시도**\n",
        "\n"
      ],
      "metadata": {
        "id": "VA3llUaHC1Mh"
      }
    },
    {
      "cell_type": "markdown",
      "source": [
        "\n",
        "\n",
        "*1. 하이퍼 파라미터 수정* ❌\n",
        "> Convolutional Layer 및 Dense Layer의 차원 수를 다양하게 변경해보았지만 큰 소득이 없었다.\n",
        "\n",
        "\n",
        "\n",
        "*2. Layer 추가* ⭕\n",
        "> Convolutional Layer와 Pooling Layer를 각각 한 층씩 더 추가함으로써 Test accuracy를 '0.75' 수준으로 높일 수 있었다.\n",
        "\n",
        "\n",
        "\n",
        "*3. 전이학습* ❌\n",
        "> 저명한 pre-trained 신경망인 ResNet을 활용해보았지만 원하는 결과를 얻지 못했다. Test accuracy가 '0.333'인 것을 미루어 짐작했을 때 학습 자체가 제대로 수행되지 않은 것으로 판단된다.\n",
        "\n"
      ],
      "metadata": {
        "id": "yyavPmV7DkuQ"
      }
    }
  ]
}